{
 "cells": [
  {
   "cell_type": "markdown",
   "metadata": {},
   "source": [
    "# Project  ***Movie Analysis***"
   ]
  },
  {
   "cell_type": "markdown",
   "metadata": {},
   "source": [
    "# 1. Overview"
   ]
  },
  {
   "cell_type": "markdown",
   "metadata": {},
   "source": [
    "### ......................."
   ]
  },
  {
   "cell_type": "markdown",
   "metadata": {},
   "source": [
    "## 2. Preprocess the data"
   ]
  },
  {
   "cell_type": "code",
   "execution_count": 2,
   "metadata": {},
   "outputs": [],
   "source": [
    "# libraries: mathematical computing\n",
    "import numpy as np\n",
    "import pandas as pd\n",
    "\n",
    "# libraries: sklearn\n",
    "from imblearn.over_sampling import SMOTE, RandomOverSampler\n",
    "from sklearn.model_selection import train_test_split\n",
    "from sklearn.datasets import make_classification\n",
    "from sklearn.metrics import roc_curve, auc, confusion_matrix, ConfusionMatrixDisplay\n",
    "\n",
    "# libraries: pyspark SparkContext\n",
    "from pyspark import SparkContext, SparkConf\n",
    "\n",
    "# libraries: pyspark sql\n",
    "from pyspark.sql.types import IntegerType, FloatType, DateType\n",
    "from pyspark.sql.window import Window\n",
    "from pyspark.sql import SparkSession\n",
    "import pyspark.sql.functions as f\n",
    "from  pyspark.sql.functions import monotonically_increasing_id, desc, row_number\n",
    "from pyspark.sql import SQLContext\n",
    "\n",
    "# libraries: pyspark machine learning\n",
    "from pyspark.ml import Pipeline\n",
    "from pyspark.ml.stat import Correlation\n",
    "from pyspark.ml.feature import StringIndexer, OneHotEncoder, VectorAssembler, StandardScaler\n",
    "from pyspark.ml import Pipeline\n",
    "from pyspark.ml.functions import vector_to_array\n",
    "from pyspark.ml.regression import RandomForestRegressor, LinearRegression\n",
    "from pyspark.ml.classification import RandomForestClassifier, LogisticRegression, DecisionTreeClassifier, NaiveBayes, RandomForestClassificationModel\n",
    "from pyspark.ml.evaluation import MulticlassClassificationEvaluator, BinaryClassificationEvaluator, RegressionEvaluator\n",
    "from pyspark.mllib.evaluation import MulticlassMetrics, BinaryClassificationMetrics\n",
    "from pyspark.mllib.stat import Statistics\n",
    "from pyspark.ml.tuning import CrossValidator, ParamGridBuilder, CrossValidatorModel, TrainValidationSplit,TrainValidationSplitModel\n",
    "from pyspark.ml.feature import HashingTF, Tokenizer, RFormula\n",
    "from pyspark.ml.regression import RandomForestRegressor\n",
    "\n",
    "# libraries: visualization\n",
    "import seaborn as sb\n",
    "import matplotlib.pyplot as mpt\n",
    "import functools\n",
    "from collections import Counter\n",
    "from ydata_profiling import ProfileReport\n"
   ]
  },
  {
   "cell_type": "code",
   "execution_count": 7,
   "metadata": {},
   "outputs": [],
   "source": [
    "# Spark Builder\n",
    "\n",
    "spark = SparkSession.builder.appName(\"movieAnalysis\").getOrCreate()"
   ]
  },
  {
   "cell_type": "code",
   "execution_count": 8,
   "metadata": {},
   "outputs": [
    {
     "data": {
      "text/html": [
       "\n",
       "            <div>\n",
       "                <p><b>SparkSession - in-memory</b></p>\n",
       "                \n",
       "        <div>\n",
       "            <p><b>SparkContext</b></p>\n",
       "\n",
       "            <p><a href=\"http://192.168.1.4:4040\">Spark UI</a></p>\n",
       "\n",
       "            <dl>\n",
       "              <dt>Version</dt>\n",
       "                <dd><code>v3.5.1</code></dd>\n",
       "              <dt>Master</dt>\n",
       "                <dd><code>local[*]</code></dd>\n",
       "              <dt>AppName</dt>\n",
       "                <dd><code>movieAnalysis</code></dd>\n",
       "            </dl>\n",
       "        </div>\n",
       "        \n",
       "            </div>\n",
       "        "
      ],
      "text/plain": [
       "<pyspark.sql.session.SparkSession at 0x17b0d93d0>"
      ]
     },
     "execution_count": 8,
     "metadata": {},
     "output_type": "execute_result"
    }
   ],
   "source": [
    "spark"
   ]
  },
  {
   "cell_type": "markdown",
   "metadata": {},
   "source": [
    "#### Now, let´s convert the .csv files into .parquet because they´re faster to analyze."
   ]
  },
  {
   "cell_type": "code",
   "execution_count": 5,
   "metadata": {},
   "outputs": [],
   "source": [
    "# convert the .csv file into .parquet\n",
    "# table: movieDataset.csv\n",
    "\n",
    "df = spark.read.csv('movieDataset.csv', header=True)\n",
    "\n",
    "df.write.parquet('movieDataset.parquet')\n",
    "\n",
    "df_movies = spark.read.parquet('movieDataset.parquet')"
   ]
  },
  {
   "cell_type": "code",
   "execution_count": 11,
   "metadata": {},
   "outputs": [
    {
     "name": "stdout",
     "output_type": "stream",
     "text": [
      "+------+--------------------+------------+----------+--------+------------+-------+-------+-----+--------------------+------+--------------------+---------+-----------------+--------------------+--------------------+----------+--------------------+--------------------+-------------------+--------------------+--------------------+----------------+--------------------+\n",
      "|    id|               title|vote_average|vote_count|  status|release_date|revenue|runtime|adult|       backdrop_path|budget|            homepage|  imdb_id|original_language|      original_title|            overview|popularity|         poster_path|             tagline|             genres|production_companies|production_countries|spoken_languages|            keywords|\n",
      "+------+--------------------+------------+----------+--------+------------+-------+-------+-----+--------------------+------+--------------------+---------+-----------------+--------------------+--------------------+----------+--------------------+--------------------+-------------------+--------------------+--------------------+----------------+--------------------+\n",
      "|133643|Karin, Daughter o...|         5.6|        10|Released|  1920-02-02|      0|    115|False|                NULL|     0|                NULL|tt0011362|               sv| Karin Ingmarsdotter|Karin Daughter of...|     1.489|/9s8IwaCyKgHycChI...|                NULL|              Drama|Svenska Biografte...|              Sweden|     No Language|                NULL|\n",
      "| 84900|       Texas Cyclone|         4.6|        10|Released|  1932-02-24|      0|     63|False|/kByCC3xX3sND6UkN...|     0|                NULL|tt0023567|               en|       Texas Cyclone|When Texas Grant ...|     1.892|/gg70VOaVdHTC1DBi...|  Afraid of nothing!|    Action, Western|   Columbia Pictures|United States of ...|         English|      sheriff, ranch|\n",
      "|181845|How Wings Are Att...|         6.6|        10|Released|  1996-10-04|      0|     11|False|                NULL|     0|https://www.nfb.c...|tt0116574|               en|Como as Asas Estã...|Black and white d...|      1.96|/yIxYlL7W6XEPUdcU...|                NULL|          Animation|           ONF | NFB|              Canada|     No Language|rotoscoping, shor...|\n",
      "|291110|          Fatal Exam|         4.5|        10|Released|  1990-05-23|      0|    112|False|/mS0aezbtpZZy28Ke...|     0|                NULL|tt0156529|               en|          Fatal Exam|A group of paraps...|     1.748|/7vo1ff7yb0ZhiR7c...|                NULL|             Horror|  Snyder Productions|United States of ...|         English|                NULL|\n",
      "|317972|    With Good Reason|         3.6|        10|Released|  2004-11-12|      0|    100|False|/1tl5lu3oOIzRrOVU...|     0|                NULL|tt0407858|               es|        ¡Hay motivo!|A multi-part feat...|     1.317|/9y2SCVmCxp36Z7c3...|                NULL|      Drama, Comedy|          Hay Motivo|               Spain|         Spanish|      woman director|\n",
      "|127289|      Cohen vs. Rosi|         5.7|        10|Released|  1998-05-28|      0|     90|False|/lOefQQhxTCk9w6EM...|     0|                NULL|tt0196459|               es|      Cohen vs. Rosi|Two rival familie...|     1.262|/1mBpRqjSw9phNvCK...|                NULL|             Comedy|Patagonik, Pol-Ka...|           Argentina|         Spanish|                NULL|\n",
      "| 86329|     The S From Hell|         5.9|        10|Released|  2010-01-20|      0|      9|False|                NULL|     0|http://thesfromhe...|tt1536483|               en|     The S From Hell|THE S FROM HELL i...|     1.206|/fz8fYYSmJFQ4EC2x...|Just keep telling...|Documentary, Horror|                NULL|                NULL|         English|                NULL|\n",
      "| 86265| Bigard Bourre Bercy|         5.7|        10|Released|  2002-02-20|      0|      0|False|                NULL|     0|                NULL|tt0372793|               fr| Bigard Bourre Bercy|                NULL|     0.954|/p7loiaKxeMe8XcxF...|                NULL|             Comedy|                NULL|              France|          French|        one-man show|\n",
      "|317991|         Black Stone|         5.3|        10|Released|  2015-05-07|      0|     92|False|/wL5PB5kfKVXvlbDy...|     0|                NULL|tt4087996|               ko|            블랙스톤|While his parents...|     9.494|/klVW6TualTxfLppF...|                NULL|              Drama|Neon Productions,...| South Korea, France| Tagalog, Korean|gay theme, korean...|\n",
      "|230873|         Bridesmaids|         6.8|        10|Released|  2013-07-11|      0|    154| True|/xLPcwTl6ThFs4JqU...|     0|                NULL|tt2980342|               en|         Bridesmaids|Best girlfriends ...|      1.23|/s78yJp8fGH2IB4s7...|All is fair in lo...|            Romance|  Digital Playground|United States of ...|         English|bridesmaid, weddi...|\n",
      "+------+--------------------+------------+----------+--------+------------+-------+-------+-----+--------------------+------+--------------------+---------+-----------------+--------------------+--------------------+----------+--------------------+--------------------+-------------------+--------------------+--------------------+----------------+--------------------+\n",
      "only showing top 10 rows\n",
      "\n"
     ]
    }
   ],
   "source": [
    "df_movies.show(10)"
   ]
  },
  {
   "cell_type": "code",
   "execution_count": 12,
   "metadata": {},
   "outputs": [
    {
     "name": "stdout",
     "output_type": "stream",
     "text": [
      "root\n",
      " |-- id: string (nullable = true)\n",
      " |-- title: string (nullable = true)\n",
      " |-- vote_average: string (nullable = true)\n",
      " |-- vote_count: string (nullable = true)\n",
      " |-- status: string (nullable = true)\n",
      " |-- release_date: string (nullable = true)\n",
      " |-- revenue: string (nullable = true)\n",
      " |-- runtime: string (nullable = true)\n",
      " |-- adult: string (nullable = true)\n",
      " |-- backdrop_path: string (nullable = true)\n",
      " |-- budget: string (nullable = true)\n",
      " |-- homepage: string (nullable = true)\n",
      " |-- imdb_id: string (nullable = true)\n",
      " |-- original_language: string (nullable = true)\n",
      " |-- original_title: string (nullable = true)\n",
      " |-- overview: string (nullable = true)\n",
      " |-- popularity: string (nullable = true)\n",
      " |-- poster_path: string (nullable = true)\n",
      " |-- tagline: string (nullable = true)\n",
      " |-- genres: string (nullable = true)\n",
      " |-- production_companies: string (nullable = true)\n",
      " |-- production_countries: string (nullable = true)\n",
      " |-- spoken_languages: string (nullable = true)\n",
      " |-- keywords: string (nullable = true)\n",
      "\n"
     ]
    }
   ],
   "source": [
    "df_movies.printSchema()"
   ]
  },
  {
   "cell_type": "code",
   "execution_count": 13,
   "metadata": {},
   "outputs": [
    {
     "data": {
      "text/plain": [
       "1052039"
      ]
     },
     "execution_count": 13,
     "metadata": {},
     "output_type": "execute_result"
    }
   ],
   "source": [
    "df_movies.count()"
   ]
  },
  {
   "cell_type": "markdown",
   "metadata": {},
   "source": [
    "#### Let´s convert the string columns into integer and/or float columns"
   ]
  },
  {
   "cell_type": "code",
   "execution_count": 27,
   "metadata": {},
   "outputs": [],
   "source": [
    "# convert string columns into integer columns\n",
    "\n",
    "df_movies = df_movies.withColumn(\"id\",df_movies[\"id\"].cast(IntegerType()))\n",
    "\n",
    "df_movies = df_movies.withColumn(\"vote_average\",df_movies[\"vote_average\"].cast(IntegerType()))\n",
    "\n",
    "df_movies = df_movies.withColumn(\"vote_count\",df_movies[\"vote_average\"].cast(IntegerType()))\n",
    "\n",
    "df_movies = df_movies.withColumn(\"release_date\",df_movies[\"release_date\"].cast(DateType()))\n",
    "\n",
    "df_movies = df_movies.withColumn(\"revenue\",df_movies[\"revenue\"].cast(IntegerType()))\n",
    "\n",
    "df_movies = df_movies.withColumn(\"runtime\",df_movies[\"runtime\"].cast(IntegerType()))\n",
    "\n",
    "df_movies = df_movies.withColumn(\"budget\",df_movies[\"budget\"].cast(IntegerType()))\n",
    "\n",
    "df_movies = df_movies.withColumn(\"popularity\",df_movies[\"popularity\"].cast(IntegerType()))"
   ]
  },
  {
   "cell_type": "code",
   "execution_count": 97,
   "metadata": {},
   "outputs": [
    {
     "ename": "NameError",
     "evalue": "name 'df_movies' is not defined",
     "output_type": "error",
     "traceback": [
      "\u001b[0;31m---------------------------------------------------------------------------\u001b[0m",
      "\u001b[0;31mNameError\u001b[0m                                 Traceback (most recent call last)",
      "Cell \u001b[0;32mIn[97], line 1\u001b[0m\n\u001b[0;32m----> 1\u001b[0m df_movies\u001b[38;5;241m.\u001b[39mprintSchema()\n",
      "\u001b[0;31mNameError\u001b[0m: name 'df_movies' is not defined"
     ]
    }
   ],
   "source": [
    "df_movies.printSchema()"
   ]
  },
  {
   "cell_type": "markdown",
   "metadata": {},
   "source": [
    "#### Let´s convert the .csv files into .parquet files to analyze the data faster."
   ]
  },
  {
   "cell_type": "code",
   "execution_count": 15,
   "metadata": {},
   "outputs": [],
   "source": [
    "# convert the .csv file into .parquet\n",
    "# table: name.basics.tsv\n",
    "\n",
    "df_name_basics = spark.read.format('csv').options(inferSchema=True,header = True, sep='\\t').load('name.basics.tsv')\n",
    "df_name_basics.write.parquet('name.basics.parquet')\n",
    "df_name_basics = spark.read.parquet('name.basics.parquet')"
   ]
  },
  {
   "cell_type": "code",
   "execution_count": 27,
   "metadata": {},
   "outputs": [
    {
     "name": "stdout",
     "output_type": "stream",
     "text": [
      "+---------+----------------+---------+---------+--------------------+--------------------+\n",
      "|   nconst|     primaryName|birthYear|deathYear|   primaryProfession|      knownForTitles|\n",
      "+---------+----------------+---------+---------+--------------------+--------------------+\n",
      "|nm1979452|    David Wexler|       \\N|       \\N|            director|           tt0387729|\n",
      "|nm1979453|Takeshi Tateishi|       \\N|       \\N|visual_effects,mi...|tt0208156,tt10951...|\n",
      "|nm1979454| Rodolfo Wellish|       \\N|       \\N|               actor|           tt0470111|\n",
      "|nm1979455|    Glory Friend|       \\N|       \\N|            producer| tt0455581,tt0133302|\n",
      "|nm1979456|   Michael Aaron|       \\N|       \\N|        actor,writer|tt0088568,tt04747...|\n",
      "+---------+----------------+---------+---------+--------------------+--------------------+\n",
      "only showing top 5 rows\n",
      "\n"
     ]
    }
   ],
   "source": [
    "df_name_basics.show(5)"
   ]
  },
  {
   "cell_type": "code",
   "execution_count": 30,
   "metadata": {},
   "outputs": [
    {
     "data": {
      "text/plain": [
       "13544746"
      ]
     },
     "execution_count": 30,
     "metadata": {},
     "output_type": "execute_result"
    }
   ],
   "source": [
    "df_name_basics.count()"
   ]
  },
  {
   "cell_type": "code",
   "execution_count": 20,
   "metadata": {},
   "outputs": [],
   "source": [
    "# convert the .csv file into .parquet\n",
    "# table: title.akas.tsv\n",
    "\n",
    "df_title_akas = spark.read.format('csv').options(inferSchema=True,header = True, sep='\\t').load('title.akas.tsv')\n",
    "df_title_akas.write.parquet('title.akas.parquet')\n",
    "df_title_akas = spark.read.parquet('title.akas.parquet')"
   ]
  },
  {
   "cell_type": "code",
   "execution_count": 33,
   "metadata": {},
   "outputs": [
    {
     "name": "stdout",
     "output_type": "stream",
     "text": [
      "+---------+--------+--------------------+------+--------+-----------+-------------+---------------+\n",
      "|  titleId|ordering|               title|region|language|      types|   attributes|isOriginalTitle|\n",
      "+---------+--------+--------------------+------+--------+-----------+-------------+---------------+\n",
      "|tt0000001|       1|          Carmencita|    \\N|      \\N|   original|           \\N|              1|\n",
      "|tt0000001|       2|          Carmencita|    DE|      \\N|         \\N|literal title|              0|\n",
      "|tt0000001|       3|          Carmencita|    US|      \\N|imdbDisplay|           \\N|              0|\n",
      "|tt0000001|       4|Carmencita - span...|    HU|      \\N|imdbDisplay|           \\N|              0|\n",
      "|tt0000001|       5|          Καρμενσίτα|    GR|      \\N|imdbDisplay|           \\N|              0|\n",
      "+---------+--------+--------------------+------+--------+-----------+-------------+---------------+\n",
      "only showing top 5 rows\n",
      "\n"
     ]
    }
   ],
   "source": [
    "df_title_akas.show(5)"
   ]
  },
  {
   "cell_type": "code",
   "execution_count": 34,
   "metadata": {},
   "outputs": [
    {
     "name": "stdout",
     "output_type": "stream",
     "text": [
      "root\n",
      " |-- titleId: string (nullable = true)\n",
      " |-- ordering: integer (nullable = true)\n",
      " |-- title: string (nullable = true)\n",
      " |-- region: string (nullable = true)\n",
      " |-- language: string (nullable = true)\n",
      " |-- types: string (nullable = true)\n",
      " |-- attributes: string (nullable = true)\n",
      " |-- isOriginalTitle: integer (nullable = true)\n",
      "\n"
     ]
    }
   ],
   "source": [
    "df_title_akas.printSchema()"
   ]
  },
  {
   "cell_type": "code",
   "execution_count": 35,
   "metadata": {},
   "outputs": [
    {
     "data": {
      "text/plain": [
       "48679363"
      ]
     },
     "execution_count": 35,
     "metadata": {},
     "output_type": "execute_result"
    }
   ],
   "source": [
    "df_title_akas.count()"
   ]
  },
  {
   "cell_type": "code",
   "execution_count": 21,
   "metadata": {},
   "outputs": [],
   "source": [
    "# convert the .csv file into .parquet\n",
    "# table: title.basics.tsv\n",
    "\n",
    "df_title_basics = spark.read.format('csv').options(inferSchema=True,header = True, sep='\\t').load('title.basics.tsv')\n",
    "df_title_basics.write.parquet('title.basics.parquet')\n",
    "df_title_basics = spark.read.parquet('title.basics.parquet')"
   ]
  },
  {
   "cell_type": "code",
   "execution_count": 36,
   "metadata": {},
   "outputs": [
    {
     "name": "stdout",
     "output_type": "stream",
     "text": [
      "+---------+---------+--------------------+--------------------+-------+---------+-------+--------------+--------------------+\n",
      "|   tconst|titleType|        primaryTitle|       originalTitle|isAdult|startYear|endYear|runtimeMinutes|              genres|\n",
      "+---------+---------+--------------------+--------------------+-------+---------+-------+--------------+--------------------+\n",
      "|tt0000001|    short|          Carmencita|          Carmencita|      0|     1894|     \\N|             1|   Documentary,Short|\n",
      "|tt0000002|    short|Le clown et ses c...|Le clown et ses c...|      0|     1892|     \\N|             5|     Animation,Short|\n",
      "|tt0000003|    short|      Pauvre Pierrot|      Pauvre Pierrot|      0|     1892|     \\N|             5|Animation,Comedy,...|\n",
      "|tt0000004|    short|         Un bon bock|         Un bon bock|      0|     1892|     \\N|            12|     Animation,Short|\n",
      "|tt0000005|    short|    Blacksmith Scene|    Blacksmith Scene|      0|     1893|     \\N|             1|        Comedy,Short|\n",
      "+---------+---------+--------------------+--------------------+-------+---------+-------+--------------+--------------------+\n",
      "only showing top 5 rows\n",
      "\n"
     ]
    }
   ],
   "source": [
    "df_title_basics.show(5)"
   ]
  },
  {
   "cell_type": "code",
   "execution_count": 37,
   "metadata": {},
   "outputs": [
    {
     "name": "stdout",
     "output_type": "stream",
     "text": [
      "root\n",
      " |-- tconst: string (nullable = true)\n",
      " |-- titleType: string (nullable = true)\n",
      " |-- primaryTitle: string (nullable = true)\n",
      " |-- originalTitle: string (nullable = true)\n",
      " |-- isAdult: string (nullable = true)\n",
      " |-- startYear: string (nullable = true)\n",
      " |-- endYear: string (nullable = true)\n",
      " |-- runtimeMinutes: string (nullable = true)\n",
      " |-- genres: string (nullable = true)\n",
      "\n"
     ]
    }
   ],
   "source": [
    "df_title_basics.printSchema()"
   ]
  },
  {
   "cell_type": "code",
   "execution_count": 22,
   "metadata": {},
   "outputs": [],
   "source": [
    "# convert the .csv file into .parquet\n",
    "# table: title.principals.tsv\n",
    "\n",
    "df_title_principals = spark.read.format('csv').options(inferSchema=True,header = True, sep='\\t').load('title.principals.tsv')\n",
    "df_title_principals.write.parquet('title.principals.parquet')\n",
    "df_title_principals = spark.read.parquet('title.principals.parquet')"
   ]
  },
  {
   "cell_type": "code",
   "execution_count": 38,
   "metadata": {},
   "outputs": [
    {
     "name": "stdout",
     "output_type": "stream",
     "text": [
      "+---------+--------+---------+---------------+--------------------+----------+\n",
      "|   tconst|ordering|   nconst|       category|                 job|characters|\n",
      "+---------+--------+---------+---------------+--------------------+----------+\n",
      "|tt0000001|       1|nm1588970|           self|                  \\N|  [\"Self\"]|\n",
      "|tt0000001|       2|nm0005690|       director|                  \\N|        \\N|\n",
      "|tt0000001|       3|nm0005690|       producer|            producer|        \\N|\n",
      "|tt0000001|       4|nm0374658|cinematographer|director of photo...|        \\N|\n",
      "|tt0000002|       1|nm0721526|       director|                  \\N|        \\N|\n",
      "+---------+--------+---------+---------------+--------------------+----------+\n",
      "only showing top 5 rows\n",
      "\n"
     ]
    }
   ],
   "source": [
    "df_title_principals.show(5)"
   ]
  },
  {
   "cell_type": "code",
   "execution_count": 39,
   "metadata": {},
   "outputs": [
    {
     "name": "stdout",
     "output_type": "stream",
     "text": [
      "root\n",
      " |-- tconst: string (nullable = true)\n",
      " |-- ordering: integer (nullable = true)\n",
      " |-- nconst: string (nullable = true)\n",
      " |-- category: string (nullable = true)\n",
      " |-- job: string (nullable = true)\n",
      " |-- characters: string (nullable = true)\n",
      "\n"
     ]
    }
   ],
   "source": [
    "df_title_principals.printSchema()"
   ]
  },
  {
   "cell_type": "code",
   "execution_count": 41,
   "metadata": {},
   "outputs": [
    {
     "data": {
      "text/plain": [
       "86327850"
      ]
     },
     "execution_count": 41,
     "metadata": {},
     "output_type": "execute_result"
    }
   ],
   "source": [
    "df_title_principals.count()"
   ]
  },
  {
   "cell_type": "code",
   "execution_count": 24,
   "metadata": {},
   "outputs": [],
   "source": [
    "# convert the .csv file into .parquet\n",
    "# table: title.ratings.tsv\n",
    "\n",
    "df_title_ratings = spark.read.format('csv').options(inferSchema=True,header = True, sep='\\t').load('title.ratings.tsv')\n",
    "df_title_ratings.write.parquet('title.ratings.parquet')\n",
    "df_title_ratings = spark.read.parquet('title.ratings.parquet')"
   ]
  },
  {
   "cell_type": "code",
   "execution_count": 42,
   "metadata": {},
   "outputs": [
    {
     "name": "stdout",
     "output_type": "stream",
     "text": [
      "+---------+-------------+--------+\n",
      "|   tconst|averageRating|numVotes|\n",
      "+---------+-------------+--------+\n",
      "|tt0000001|          5.7|    2059|\n",
      "|tt0000002|          5.6|     277|\n",
      "|tt0000003|          6.5|    2023|\n",
      "|tt0000004|          5.3|     180|\n",
      "|tt0000005|          6.2|    2787|\n",
      "+---------+-------------+--------+\n",
      "only showing top 5 rows\n",
      "\n"
     ]
    }
   ],
   "source": [
    "df_title_ratings.show(5)"
   ]
  },
  {
   "cell_type": "code",
   "execution_count": 43,
   "metadata": {},
   "outputs": [
    {
     "name": "stdout",
     "output_type": "stream",
     "text": [
      "root\n",
      " |-- tconst: string (nullable = true)\n",
      " |-- averageRating: double (nullable = true)\n",
      " |-- numVotes: integer (nullable = true)\n",
      "\n"
     ]
    }
   ],
   "source": [
    "df_title_ratings.printSchema()"
   ]
  },
  {
   "cell_type": "code",
   "execution_count": 44,
   "metadata": {},
   "outputs": [
    {
     "data": {
      "text/plain": [
       "1446041"
      ]
     },
     "execution_count": 44,
     "metadata": {},
     "output_type": "execute_result"
    }
   ],
   "source": [
    "df_title_ratings.count()"
   ]
  },
  {
   "cell_type": "markdown",
   "metadata": {},
   "source": [
    "### 2.1 Future Engineering"
   ]
  },
  {
   "cell_type": "code",
   "execution_count": 45,
   "metadata": {},
   "outputs": [
    {
     "name": "stdout",
     "output_type": "stream",
     "text": [
      "+---------+----------------+---------+---------+--------------------+--------------------+\n",
      "|   nconst|     primaryName|birthYear|deathYear|   primaryProfession|      knownForTitles|\n",
      "+---------+----------------+---------+---------+--------------------+--------------------+\n",
      "|nm1979452|    David Wexler|       \\N|       \\N|            director|           tt0387729|\n",
      "|nm1979453|Takeshi Tateishi|       \\N|       \\N|visual_effects,mi...|tt0208156,tt10951...|\n",
      "|nm1979454| Rodolfo Wellish|       \\N|       \\N|               actor|           tt0470111|\n",
      "|nm1979455|    Glory Friend|       \\N|       \\N|            producer| tt0455581,tt0133302|\n",
      "|nm1979456|   Michael Aaron|       \\N|       \\N|        actor,writer|tt0088568,tt04747...|\n",
      "+---------+----------------+---------+---------+--------------------+--------------------+\n",
      "only showing top 5 rows\n",
      "\n"
     ]
    }
   ],
   "source": [
    "# table: name_basics\n",
    "\n",
    "df_name_basics.show(5)"
   ]
  },
  {
   "cell_type": "markdown",
   "metadata": {},
   "source": [
    "#### Let´s drop off some columns that are unnecessary."
   ]
  },
  {
   "cell_type": "code",
   "execution_count": 50,
   "metadata": {},
   "outputs": [],
   "source": [
    "df_name_basics = df_name_basics.drop('birthYear','deathYear','primaryProfession')"
   ]
  },
  {
   "cell_type": "code",
   "execution_count": 51,
   "metadata": {},
   "outputs": [
    {
     "name": "stdout",
     "output_type": "stream",
     "text": [
      "+---------+----------------+--------------------+\n",
      "|   nconst|     primaryName|      knownForTitles|\n",
      "+---------+----------------+--------------------+\n",
      "|nm1979452|    David Wexler|           tt0387729|\n",
      "|nm1979453|Takeshi Tateishi|tt0208156,tt10951...|\n",
      "|nm1979454| Rodolfo Wellish|           tt0470111|\n",
      "|nm1979455|    Glory Friend| tt0455581,tt0133302|\n",
      "|nm1979456|   Michael Aaron|tt0088568,tt04747...|\n",
      "+---------+----------------+--------------------+\n",
      "only showing top 5 rows\n",
      "\n"
     ]
    }
   ],
   "source": [
    "df_name_basics.show(5)"
   ]
  },
  {
   "cell_type": "code",
   "execution_count": 46,
   "metadata": {},
   "outputs": [
    {
     "name": "stdout",
     "output_type": "stream",
     "text": [
      "+---------+--------+--------------------+------+--------+-----------+-------------+---------------+\n",
      "|  titleId|ordering|               title|region|language|      types|   attributes|isOriginalTitle|\n",
      "+---------+--------+--------------------+------+--------+-----------+-------------+---------------+\n",
      "|tt0000001|       1|          Carmencita|    \\N|      \\N|   original|           \\N|              1|\n",
      "|tt0000001|       2|          Carmencita|    DE|      \\N|         \\N|literal title|              0|\n",
      "|tt0000001|       3|          Carmencita|    US|      \\N|imdbDisplay|           \\N|              0|\n",
      "|tt0000001|       4|Carmencita - span...|    HU|      \\N|imdbDisplay|           \\N|              0|\n",
      "|tt0000001|       5|          Καρμενσίτα|    GR|      \\N|imdbDisplay|           \\N|              0|\n",
      "+---------+--------+--------------------+------+--------+-----------+-------------+---------------+\n",
      "only showing top 5 rows\n",
      "\n"
     ]
    }
   ],
   "source": [
    "# table: title_akas\n",
    "\n",
    "df_title_akas.show(5)"
   ]
  },
  {
   "cell_type": "markdown",
   "metadata": {},
   "source": [
    "#### Let´s drop off some columns that are unnecessary."
   ]
  },
  {
   "cell_type": "code",
   "execution_count": 57,
   "metadata": {},
   "outputs": [],
   "source": [
    "df_title_akas = df_title_akas.drop('language','types','attributes')\n",
    "\n",
    "df_title_akas.show(5)"
   ]
  },
  {
   "cell_type": "code",
   "execution_count": 71,
   "metadata": {},
   "outputs": [
    {
     "name": "stdout",
     "output_type": "stream",
     "text": [
      "+---------+--------+--------------------+------+---------------+\n",
      "|  titleId|ordering|               title|region|isOriginalTitle|\n",
      "+---------+--------+--------------------+------+---------------+\n",
      "|tt0000001|       1|          Carmencita|    \\N|              1|\n",
      "|tt0000001|       2|          Carmencita|    DE|              0|\n",
      "|tt0000001|       3|          Carmencita|    US|              0|\n",
      "|tt0000001|       4|Carmencita - span...|    HU|              0|\n",
      "|tt0000001|       5|          Καρμενσίτα|    GR|              0|\n",
      "+---------+--------+--------------------+------+---------------+\n",
      "only showing top 5 rows\n",
      "\n"
     ]
    }
   ],
   "source": [
    "df_title_akas.show(5)"
   ]
  },
  {
   "cell_type": "code",
   "execution_count": 58,
   "metadata": {},
   "outputs": [],
   "source": [
    "df_title_akas.createOrReplaceTempView('title_akas')"
   ]
  },
  {
   "cell_type": "code",
   "execution_count": 62,
   "metadata": {},
   "outputs": [],
   "source": [
    "results = spark.sql('''select * from title_akas''')"
   ]
  },
  {
   "cell_type": "code",
   "execution_count": 63,
   "metadata": {},
   "outputs": [
    {
     "name": "stdout",
     "output_type": "stream",
     "text": [
      "+---------+--------+--------------------+------+---------------+\n",
      "|  titleId|ordering|               title|region|isOriginalTitle|\n",
      "+---------+--------+--------------------+------+---------------+\n",
      "|tt0000001|       1|          Carmencita|    \\N|              1|\n",
      "|tt0000001|       2|          Carmencita|    DE|              0|\n",
      "|tt0000001|       3|          Carmencita|    US|              0|\n",
      "|tt0000001|       4|Carmencita - span...|    HU|              0|\n",
      "|tt0000001|       5|          Καρμενσίτα|    GR|              0|\n",
      "|tt0000001|       6|          Карменсита|    RU|              0|\n",
      "|tt0000001|       7|          Карменсіта|    UA|              0|\n",
      "|tt0000001|       8|      カルメンチータ|    JP|              0|\n",
      "|tt0000002|       1|Le clown et ses c...|    \\N|              1|\n",
      "|tt0000002|       2|   A bohóc és kutyái|    HU|              0|\n",
      "|tt0000002|       3|Clovnul si cainii...|    RO|              0|\n",
      "|tt0000002|       4|Der Clown und sei...|    DE|              0|\n",
      "|tt0000002|       5|Le clown et ses c...|    FR|              0|\n",
      "|tt0000002|       6|The Clown and His...|    US|              0|\n",
      "|tt0000002|       7|  Клоун и его собаки|    RU|              0|\n",
      "|tt0000002|       8|          道化師と犬|    JP|              0|\n",
      "|tt0000003|       1|      Pauvre Pierrot|    \\N|              1|\n",
      "|tt0000003|       2|       Armer Pierrot|    DE|              0|\n",
      "|tt0000003|       3|      Pauvre Pierrot|    FR|              0|\n",
      "|tt0000003|       4|        Poor Pierrot|    GB|              0|\n",
      "+---------+--------+--------------------+------+---------------+\n",
      "only showing top 20 rows\n",
      "\n"
     ]
    }
   ],
   "source": [
    "results.show()"
   ]
  },
  {
   "cell_type": "code",
   "execution_count": 64,
   "metadata": {},
   "outputs": [
    {
     "data": {
      "text/plain": [
       "48679363"
      ]
     },
     "execution_count": 64,
     "metadata": {},
     "output_type": "execute_result"
    }
   ],
   "source": [
    "results.count()"
   ]
  },
  {
   "cell_type": "code",
   "execution_count": 47,
   "metadata": {},
   "outputs": [
    {
     "name": "stdout",
     "output_type": "stream",
     "text": [
      "+---------+-------------+--------+\n",
      "|   tconst|averageRating|numVotes|\n",
      "+---------+-------------+--------+\n",
      "|tt0000001|          5.7|    2059|\n",
      "|tt0000002|          5.6|     277|\n",
      "|tt0000003|          6.5|    2023|\n",
      "|tt0000004|          5.3|     180|\n",
      "|tt0000005|          6.2|    2787|\n",
      "+---------+-------------+--------+\n",
      "only showing top 5 rows\n",
      "\n"
     ]
    }
   ],
   "source": [
    "# table: title_ratings\n",
    "\n",
    "df_title_ratings.show(5)"
   ]
  },
  {
   "cell_type": "code",
   "execution_count": 65,
   "metadata": {},
   "outputs": [],
   "source": [
    "df_title_ratings = df_title_ratings.withColumnRenamed('tconst','titleId')\n",
    "\n",
    "df_title_ratings.show(5)"
   ]
  },
  {
   "cell_type": "code",
   "execution_count": 66,
   "metadata": {},
   "outputs": [
    {
     "name": "stdout",
     "output_type": "stream",
     "text": [
      "+---------+-------------+--------+\n",
      "|  titleId|averageRating|numVotes|\n",
      "+---------+-------------+--------+\n",
      "|tt0000001|          5.7|    2059|\n",
      "|tt0000002|          5.6|     277|\n",
      "|tt0000003|          6.5|    2023|\n",
      "|tt0000004|          5.3|     180|\n",
      "|tt0000005|          6.2|    2787|\n",
      "+---------+-------------+--------+\n",
      "only showing top 5 rows\n",
      "\n"
     ]
    }
   ],
   "source": [
    "df_title_ratings.show(5)"
   ]
  },
  {
   "cell_type": "code",
   "execution_count": 84,
   "metadata": {},
   "outputs": [
    {
     "data": {
      "text/plain": [
       "1446041"
      ]
     },
     "execution_count": 84,
     "metadata": {},
     "output_type": "execute_result"
    }
   ],
   "source": [
    "df_title_ratings.count()"
   ]
  },
  {
   "cell_type": "code",
   "execution_count": 85,
   "metadata": {},
   "outputs": [],
   "source": [
    "df_title_ratings.createOrReplaceTempView('ratings')"
   ]
  },
  {
   "cell_type": "code",
   "execution_count": 86,
   "metadata": {},
   "outputs": [
    {
     "name": "stdout",
     "output_type": "stream",
     "text": [
      "+------------------+\n",
      "|  total_avg_rating|\n",
      "+------------------+\n",
      "|6.9615692777728935|\n",
      "+------------------+\n",
      "\n"
     ]
    }
   ],
   "source": [
    "results = spark.sql('select AVG(averageRating) AS total_avg_rating from ratings')\n",
    "\n",
    "results.show(5)"
   ]
  },
  {
   "cell_type": "code",
   "execution_count": 48,
   "metadata": {},
   "outputs": [
    {
     "name": "stdout",
     "output_type": "stream",
     "text": [
      "+---------+--------+---------+---------------+--------------------+----------+\n",
      "|   tconst|ordering|   nconst|       category|                 job|characters|\n",
      "+---------+--------+---------+---------------+--------------------+----------+\n",
      "|tt0000001|       1|nm1588970|           self|                  \\N|  [\"Self\"]|\n",
      "|tt0000001|       2|nm0005690|       director|                  \\N|        \\N|\n",
      "|tt0000001|       3|nm0005690|       producer|            producer|        \\N|\n",
      "|tt0000001|       4|nm0374658|cinematographer|director of photo...|        \\N|\n",
      "|tt0000002|       1|nm0721526|       director|                  \\N|        \\N|\n",
      "+---------+--------+---------+---------------+--------------------+----------+\n",
      "only showing top 5 rows\n",
      "\n"
     ]
    }
   ],
   "source": [
    "# table: title_principals\n",
    "\n",
    "df_title_principals.show(5)"
   ]
  },
  {
   "cell_type": "markdown",
   "metadata": {},
   "source": [
    "#### Let´s rename a column."
   ]
  },
  {
   "cell_type": "code",
   "execution_count": 67,
   "metadata": {},
   "outputs": [],
   "source": [
    "df_title_principals = df_title_principals.withColumnRenamed('tconst','titleId')\n",
    "\n",
    "df_title_principals.show(5)"
   ]
  },
  {
   "cell_type": "code",
   "execution_count": 72,
   "metadata": {},
   "outputs": [
    {
     "name": "stdout",
     "output_type": "stream",
     "text": [
      "+---------+--------+---------+---------------+--------------------+----------+\n",
      "|  titleId|ordering|   nconst|       category|                 job|characters|\n",
      "+---------+--------+---------+---------------+--------------------+----------+\n",
      "|tt0000001|       1|nm1588970|           self|                  \\N|  [\"Self\"]|\n",
      "|tt0000001|       2|nm0005690|       director|                  \\N|        \\N|\n",
      "|tt0000001|       3|nm0005690|       producer|            producer|        \\N|\n",
      "|tt0000001|       4|nm0374658|cinematographer|director of photo...|        \\N|\n",
      "|tt0000002|       1|nm0721526|       director|                  \\N|        \\N|\n",
      "+---------+--------+---------+---------------+--------------------+----------+\n",
      "only showing top 5 rows\n",
      "\n"
     ]
    }
   ],
   "source": [
    "df_title_principals.show(5)"
   ]
  },
  {
   "cell_type": "markdown",
   "metadata": {},
   "source": [
    "#### Let´s drop off some columns that are unnecessary."
   ]
  },
  {
   "cell_type": "code",
   "execution_count": 73,
   "metadata": {},
   "outputs": [],
   "source": [
    "df_title_principals = df_title_principals.drop('characters')"
   ]
  },
  {
   "cell_type": "code",
   "execution_count": 74,
   "metadata": {},
   "outputs": [
    {
     "name": "stdout",
     "output_type": "stream",
     "text": [
      "+---------+--------+---------+---------------+--------------------+\n",
      "|  titleId|ordering|   nconst|       category|                 job|\n",
      "+---------+--------+---------+---------------+--------------------+\n",
      "|tt0000001|       1|nm1588970|           self|                  \\N|\n",
      "|tt0000001|       2|nm0005690|       director|                  \\N|\n",
      "|tt0000001|       3|nm0005690|       producer|            producer|\n",
      "|tt0000001|       4|nm0374658|cinematographer|director of photo...|\n",
      "|tt0000002|       1|nm0721526|       director|                  \\N|\n",
      "+---------+--------+---------+---------------+--------------------+\n",
      "only showing top 5 rows\n",
      "\n"
     ]
    }
   ],
   "source": [
    "df_title_principals.show(5)"
   ]
  },
  {
   "cell_type": "code",
   "execution_count": 87,
   "metadata": {},
   "outputs": [],
   "source": [
    "df_title_principals.createOrReplaceTempView('principals')"
   ]
  },
  {
   "cell_type": "code",
   "execution_count": 89,
   "metadata": {},
   "outputs": [],
   "source": [
    "join = spark.sql('select averageRating,genre from ratings as r INNER JOIN principals p ON r.titleId = p.titleId')"
   ]
  },
  {
   "cell_type": "code",
   "execution_count": null,
   "metadata": {},
   "outputs": [],
   "source": [
    "join.show(5)"
   ]
  },
  {
   "cell_type": "code",
   "execution_count": 95,
   "metadata": {},
   "outputs": [],
   "source": [
    "join = spark.sql('select title,averageRating from title_akas AS a INNER JOIN ratings r ON a.titleId = r.titleId')"
   ]
  },
  {
   "cell_type": "code",
   "execution_count": 96,
   "metadata": {},
   "outputs": [
    {
     "name": "stdout",
     "output_type": "stream",
     "text": [
      "+--------------------+-------------+\n",
      "|               title|averageRating|\n",
      "+--------------------+-------------+\n",
      "|          Carmencita|          5.7|\n",
      "|          Carmencita|          5.7|\n",
      "|          Carmencita|          5.7|\n",
      "|Carmencita - span...|          5.7|\n",
      "|          Καρμενσίτα|          5.7|\n",
      "+--------------------+-------------+\n",
      "only showing top 5 rows\n",
      "\n"
     ]
    }
   ],
   "source": [
    "join.show(5)"
   ]
  },
  {
   "cell_type": "code",
   "execution_count": null,
   "metadata": {},
   "outputs": [],
   "source": []
  },
  {
   "cell_type": "code",
   "execution_count": 49,
   "metadata": {},
   "outputs": [
    {
     "name": "stdout",
     "output_type": "stream",
     "text": [
      "+---------+---------+--------------------+--------------------+-------+---------+-------+--------------+--------------------+\n",
      "|   tconst|titleType|        primaryTitle|       originalTitle|isAdult|startYear|endYear|runtimeMinutes|              genres|\n",
      "+---------+---------+--------------------+--------------------+-------+---------+-------+--------------+--------------------+\n",
      "|tt0000001|    short|          Carmencita|          Carmencita|      0|     1894|     \\N|             1|   Documentary,Short|\n",
      "|tt0000002|    short|Le clown et ses c...|Le clown et ses c...|      0|     1892|     \\N|             5|     Animation,Short|\n",
      "|tt0000003|    short|      Pauvre Pierrot|      Pauvre Pierrot|      0|     1892|     \\N|             5|Animation,Comedy,...|\n",
      "|tt0000004|    short|         Un bon bock|         Un bon bock|      0|     1892|     \\N|            12|     Animation,Short|\n",
      "|tt0000005|    short|    Blacksmith Scene|    Blacksmith Scene|      0|     1893|     \\N|             1|        Comedy,Short|\n",
      "+---------+---------+--------------------+--------------------+-------+---------+-------+--------------+--------------------+\n",
      "only showing top 5 rows\n",
      "\n"
     ]
    }
   ],
   "source": [
    "# table: title_basics\n",
    "\n",
    "df_title_basics.show(5)"
   ]
  },
  {
   "cell_type": "code",
   "execution_count": 80,
   "metadata": {},
   "outputs": [
    {
     "name": "stdout",
     "output_type": "stream",
     "text": [
      "+---------+---------+--------------------+--------------------+-------+---------+-------+--------------+--------------------+\n",
      "|  titleId|titleType|        primaryTitle|       originalTitle|isAdult|startYear|endYear|runtimeMinutes|              genres|\n",
      "+---------+---------+--------------------+--------------------+-------+---------+-------+--------------+--------------------+\n",
      "|tt0000001|    short|          Carmencita|          Carmencita|      0|     1894|     \\N|             1|   Documentary,Short|\n",
      "|tt0000002|    short|Le clown et ses c...|Le clown et ses c...|      0|     1892|     \\N|             5|     Animation,Short|\n",
      "|tt0000003|    short|      Pauvre Pierrot|      Pauvre Pierrot|      0|     1892|     \\N|             5|Animation,Comedy,...|\n",
      "|tt0000004|    short|         Un bon bock|         Un bon bock|      0|     1892|     \\N|            12|     Animation,Short|\n",
      "|tt0000005|    short|    Blacksmith Scene|    Blacksmith Scene|      0|     1893|     \\N|             1|        Comedy,Short|\n",
      "+---------+---------+--------------------+--------------------+-------+---------+-------+--------------+--------------------+\n",
      "only showing top 5 rows\n",
      "\n"
     ]
    }
   ],
   "source": [
    "df_title_basics = df_title_basics.withColumnRenamed('tconst','titleId')\n",
    "\n",
    "df_title_basics.show(5)"
   ]
  },
  {
   "cell_type": "markdown",
   "metadata": {},
   "source": [
    "#### Let´s drop off a column."
   ]
  },
  {
   "cell_type": "code",
   "execution_count": 81,
   "metadata": {},
   "outputs": [],
   "source": [
    "df_title_basics = df_title_basics.drop('originalTitle')"
   ]
  },
  {
   "cell_type": "code",
   "execution_count": 82,
   "metadata": {},
   "outputs": [
    {
     "name": "stdout",
     "output_type": "stream",
     "text": [
      "+---------+---------+--------------------+-------+---------+-------+--------------+--------------------+\n",
      "|  titleId|titleType|        primaryTitle|isAdult|startYear|endYear|runtimeMinutes|              genres|\n",
      "+---------+---------+--------------------+-------+---------+-------+--------------+--------------------+\n",
      "|tt0000001|    short|          Carmencita|      0|     1894|     \\N|             1|   Documentary,Short|\n",
      "|tt0000002|    short|Le clown et ses c...|      0|     1892|     \\N|             5|     Animation,Short|\n",
      "|tt0000003|    short|      Pauvre Pierrot|      0|     1892|     \\N|             5|Animation,Comedy,...|\n",
      "|tt0000004|    short|         Un bon bock|      0|     1892|     \\N|            12|     Animation,Short|\n",
      "|tt0000005|    short|    Blacksmith Scene|      0|     1893|     \\N|             1|        Comedy,Short|\n",
      "+---------+---------+--------------------+-------+---------+-------+--------------+--------------------+\n",
      "only showing top 5 rows\n",
      "\n"
     ]
    }
   ],
   "source": [
    "df_title_basics.show(5)"
   ]
  },
  {
   "cell_type": "code",
   "execution_count": null,
   "metadata": {},
   "outputs": [],
   "source": [
    "df_title_basics"
   ]
  },
  {
   "cell_type": "markdown",
   "metadata": {},
   "source": [
    "## 3. Exploratory Data Analysis (EDA)"
   ]
  },
  {
   "cell_type": "code",
   "execution_count": 25,
   "metadata": {},
   "outputs": [],
   "source": [
    "# definition of the \"histogram\" function\n",
    "\n",
    "def histogram(df, col, bins=10, xname=None, yname=None):\n",
    "    \n",
    "    '''\n",
    "    This function makes a histogram from spark dataframe named \n",
    "    df for column name col. \n",
    "    '''\n",
    "    \n",
    "    # Calculating histogram in Spark \n",
    "    vals = df.select(col).rdd.flatMap(lambda x: x).histogram(bins)\n",
    "\n",
    "    # Preprocessing histogram points and locations \n",
    "    width = vals[0][1] - vals[0][0]\n",
    "    loc = [vals[0][0] + (i+1) * width for i in range(len(vals[1]))]\n",
    "    \n",
    "    # Making a bar plot \n",
    "    mpt.bar(loc, vals[1], width=width)\n",
    "    mpt.xlabel(col)\n",
    "    mpt.ylabel(yname)\n",
    "    mpt.show()"
   ]
  },
  {
   "cell_type": "code",
   "execution_count": 29,
   "metadata": {},
   "outputs": [
    {
     "data": {
      "image/png": "[encoded data removed]",
      "text/plain": [
       "<Figure size 432x288 with 1 Axes>"
      ]
     },
     "metadata": {
      "needs_background": "light"
     },
     "output_type": "display_data"
    }
   ],
   "source": [
    "histogram(df_movies,'id',bins=15, yname='frequency')"
   ]
  },
  {
   "cell_type": "code",
   "execution_count": 39,
   "metadata": {},
   "outputs": [
    {
     "data": {
      "image/png": "[encoded data removed]",
      "text/plain": [
       "<Figure size 432x288 with 1 Axes>"
      ]
     },
     "metadata": {
      "needs_background": "light"
     },
     "output_type": "display_data"
    }
   ],
   "source": [
    "histogram(df_movies,'revenue',bins=15, yname='frequency')"
   ]
  },
  {
   "cell_type": "code",
   "execution_count": 43,
   "metadata": {},
   "outputs": [
    {
     "data": {
      "image/png": "[encoded data removed]",
      "text/plain": [
       "<Figure size 432x288 with 1 Axes>"
      ]
     },
     "metadata": {
      "needs_background": "light"
     },
     "output_type": "display_data"
    }
   ],
   "source": [
    "histogram(df_movies,'vote_count',bins=15, yname='frequency')"
   ]
  },
  {
   "cell_type": "code",
   "execution_count": 44,
   "metadata": {},
   "outputs": [
    {
     "data": {
      "image/png": "[encoded data removed]",
      "text/plain": [
       "<Figure size 432x288 with 1 Axes>"
      ]
     },
     "metadata": {
      "needs_background": "light"
     },
     "output_type": "display_data"
    }
   ],
   "source": [
    "histogram(df_movies,'vote_average',bins=15, yname='frequency')"
   ]
  },
  {
   "cell_type": "code",
   "execution_count": 45,
   "metadata": {},
   "outputs": [
    {
     "data": {
      "image/png": "[encoded data removed]",
      "text/plain": [
       "<Figure size 432x288 with 1 Axes>"
      ]
     },
     "metadata": {
      "needs_background": "light"
     },
     "output_type": "display_data"
    }
   ],
   "source": [
    "histogram(df_movies,'budget',bins=15, yname='frequency')"
   ]
  },
  {
   "cell_type": "code",
   "execution_count": 46,
   "metadata": {},
   "outputs": [
    {
     "data": {
      "image/png": "[encoded data removed]",
      "text/plain": [
       "<Figure size 432x288 with 1 Axes>"
      ]
     },
     "metadata": {
      "needs_background": "light"
     },
     "output_type": "display_data"
    },
    {
     "name": "stderr",
     "output_type": "stream",
     "text": [
      "----------------------------------------\n",
      "Exception occurred during processing of request from ('127.0.0.1', 50825)\n",
      "Traceback (most recent call last):\n",
      "  File \"/opt/anaconda3/lib/python3.11/socketserver.py\", line 317, in _handle_request_noblock\n",
      "    self.process_request(request, client_address)\n",
      "  File \"/opt/anaconda3/lib/python3.11/socketserver.py\", line 348, in process_request\n",
      "    self.finish_request(request, client_address)\n",
      "  File \"/opt/anaconda3/lib/python3.11/socketserver.py\", line 361, in finish_request\n",
      "    self.RequestHandlerClass(request, client_address, self)\n",
      "  File \"/opt/anaconda3/lib/python3.11/socketserver.py\", line 755, in __init__\n",
      "    self.handle()\n",
      "  File \"/opt/anaconda3/lib/python3.11/site-packages/pyspark/accumulators.py\", line 295, in handle\n",
      "    poll(accum_updates)\n",
      "  File \"/opt/anaconda3/lib/python3.11/site-packages/pyspark/accumulators.py\", line 267, in poll\n",
      "    if self.rfile in r and func():\n",
      "                           ^^^^^^\n",
      "  File \"/opt/anaconda3/lib/python3.11/site-packages/pyspark/accumulators.py\", line 271, in accum_updates\n",
      "    num_updates = read_int(self.rfile)\n",
      "                  ^^^^^^^^^^^^^^^^^^^^\n",
      "  File \"/opt/anaconda3/lib/python3.11/site-packages/pyspark/serializers.py\", line 596, in read_int\n",
      "    raise EOFError\n",
      "EOFError\n",
      "----------------------------------------\n"
     ]
    }
   ],
   "source": [
    "histogram(df_movies,'popularity',bins=15, yname='frequency')"
   ]
  },
  {
   "cell_type": "code",
   "execution_count": null,
   "metadata": {},
   "outputs": [],
   "source": []
  },
  {
   "cell_type": "code",
   "execution_count": null,
   "metadata": {},
   "outputs": [],
   "source": []
  },
  {
   "cell_type": "markdown",
   "metadata": {},
   "source": [
    "## 4. Business Questions"
   ]
  },
  {
   "cell_type": "markdown",
   "metadata": {},
   "source": [
    "## First question: ***What is the evolution of the rating per content?***"
   ]
  },
  {
   "cell_type": "markdown",
   "metadata": {},
   "source": [
    "## Second question: ***What is the average rating per genre?***"
   ]
  },
  {
   "cell_type": "markdown",
   "metadata": {},
   "source": [
    "## Third question: ***What are the genres which provide the highest ROI?***"
   ]
  },
  {
   "cell_type": "markdown",
   "metadata": {},
   "source": [
    "## Fourth question: ***What are the countries with the highest production of content?***"
   ]
  },
  {
   "cell_type": "markdown",
   "metadata": {},
   "source": [
    "## Fifth question: ***What is your recommendation for the client?***"
   ]
  }
 ],
 "metadata": {
  "kernelspec": {
   "display_name": "base",
   "language": "python",
   "name": "python3"
  },
  "language_info": {
   "codemirror_mode": {
    "name": "ipython",
    "version": 3
   },
   "file_extension": ".py",
   "mimetype": "text/x-python",
   "name": "python",
   "nbconvert_exporter": "python",
   "pygments_lexer": "ipython3",
   "version": "3.11.7"
  }
 },
 "nbformat": 4,
 "nbformat_minor": 2
}
