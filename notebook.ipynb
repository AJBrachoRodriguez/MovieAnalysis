{
 "cells": [
  {
   "cell_type": "markdown",
   "metadata": {},
   "source": [
    "# Project  ***Movie Analysis***"
   ]
  },
  {
   "cell_type": "markdown",
   "metadata": {},
   "source": [
    "# 1. Overview"
   ]
  },
  {
   "cell_type": "markdown",
   "metadata": {},
   "source": [
    "### ......................."
   ]
  },
  {
   "cell_type": "markdown",
   "metadata": {},
   "source": [
    "## 2. Preprocess the data"
   ]
  },
  {
   "cell_type": "code",
   "execution_count": 1,
   "metadata": {},
   "outputs": [],
   "source": [
    "# libraries: mathematical computing\n",
    "import numpy as np\n",
    "import pandas as pd\n",
    "\n",
    "# libraries: pyspark SparkContext\n",
    "from pyspark import SparkContext, SparkConf\n",
    "\n",
    "# libraries: pyspark sql\n",
    "from pyspark.sql.types import IntegerType, FloatType, DateType\n",
    "from pyspark.sql.window import Window\n",
    "from pyspark.sql import SparkSession\n",
    "import pyspark.sql.functions as f\n",
    "from  pyspark.sql.functions import monotonically_increasing_id, desc, row_number\n",
    "from pyspark.sql import SQLContext\n",
    "\n",
    "# libraries: visualization\n",
    "import seaborn as sb\n",
    "import matplotlib.pyplot as mpt\n",
    "import functools\n",
    "from collections import Counter\n",
    "from ydata_profiling import ProfileReport\n"
   ]
  },
  {
   "cell_type": "code",
   "execution_count": 2,
   "metadata": {},
   "outputs": [],
   "source": [
    "# Spark Builder\n",
    "\n",
    "spark = SparkSession.builder.appName(\"movieAnalysis\").getOrCreate()"
   ]
  },
  {
   "cell_type": "code",
   "execution_count": 3,
   "metadata": {},
   "outputs": [
    {
     "data": {
      "text/html": [
       "\n",
       "            <div>\n",
       "                <p><b>SparkSession - in-memory</b></p>\n",
       "                \n",
       "        <div>\n",
       "            <p><b>SparkContext</b></p>\n",
       "\n",
       "            <p><a href=\"http://192.168.1.4:4040\">Spark UI</a></p>\n",
       "\n",
       "            <dl>\n",
       "              <dt>Version</dt>\n",
       "                <dd><code>v3.5.1</code></dd>\n",
       "              <dt>Master</dt>\n",
       "                <dd><code>local[*]</code></dd>\n",
       "              <dt>AppName</dt>\n",
       "                <dd><code>movieAnalysis</code></dd>\n",
       "            </dl>\n",
       "        </div>\n",
       "        \n",
       "            </div>\n",
       "        "
      ],
      "text/plain": [
       "<pyspark.sql.session.SparkSession at 0x304c6f790>"
      ]
     },
     "execution_count": 3,
     "metadata": {},
     "output_type": "execute_result"
    }
   ],
   "source": [
    "spark"
   ]
  },
  {
   "cell_type": "markdown",
   "metadata": {},
   "source": [
    "#### Now, let´s convert the .csv files into .parquet because they´re faster to analyze."
   ]
  },
  {
   "cell_type": "code",
   "execution_count": 11,
   "metadata": {},
   "outputs": [],
   "source": [
    "# convert the .csv file into .parquet\n",
    "# table: movieDataset.csv\n",
    "\n",
    "##df = spark.read.csv('movieDataset.csv', header=True)\n",
    "\n",
    "##df.write.parquet('movieDataset.parquet')\n",
    "\n",
    "##df_movies = spark.read.parquet('movieDataset.parquet')"
   ]
  },
  {
   "cell_type": "code",
   "execution_count": 115,
   "metadata": {},
   "outputs": [
    {
     "name": "stdout",
     "output_type": "stream",
     "text": [
      "+------+--------------------+------------+----------+--------+------------+----------+-------+-----+--------------------+---------+--------------------+---------+-----------------+--------------------+--------------------+--------------------+--------------------+--------------------+--------------------+--------------------+--------------------+--------------------+--------------------+\n",
      "|    id|               title|vote_average|vote_count|  status|release_date|   revenue|runtime|adult|       backdrop_path|   budget|            homepage|  imdb_id|original_language|      original_title|            overview|          popularity|         poster_path|             tagline|              genres|production_companies|production_countries|    spoken_languages|            keywords|\n",
      "+------+--------------------+------------+----------+--------+------------+----------+-------+-----+--------------------+---------+--------------------+---------+-----------------+--------------------+--------------------+--------------------+--------------------+--------------------+--------------------+--------------------+--------------------+--------------------+--------------------+\n",
      "| 27205|           Inception|       8.364|     34495|Released|  2010-07-15| 825532764|    148|False|/8ZTVqvKDQ8emSGUE...|160000000|https://www.warne...|tt1375666|               en|           Inception|\"Cobb, a skilled ...| the implantation...|              83.952|/oYuLEt3zVCKq57qu...|Your mind is the ...|Action, Science F...|Legendary Picture...|United Kingdom, U...|English, French, ...|\n",
      "|157336|        Interstellar|       8.417|     32571|Released|  2014-11-05| 701729206|    169|False|/pbrkL804c8yAv3zB...|165000000|http://www.inters...|tt0816692|               en|        Interstellar|The adventures of...|             140.241|/gEU2QniE6E77NI6l...|Mankind was born ...|Adventure, Drama,...|Legendary Picture...|United Kingdom, U...|             English|rescue, future, s...|\n",
      "|   155|     The Dark Knight|       8.512|     30619|Released|  2008-07-16|1004558444|    152|False|/nMKdUUepR0i5zn0y...|185000000|https://www.warne...|tt0468569|               en|     The Dark Knight|Batman raises the...|             130.643|/qJ2tW6WMUDux911r...|Welcome to a worl...|Drama, Action, Cr...|DC Comics, Legend...|United Kingdom, U...|   English, Mandarin|joker, sadism, ch...|\n",
      "| 19995|              Avatar|       7.573|     29815|Released|  2009-12-15|2923706026|    162|False|/vL5LR6WdxWPjLPFR...|237000000|https://www.avata...|tt0499549|               en|              Avatar|In the 22nd centu...|              79.932|/kyeqWdyUXW608qlY...|Enter the world o...|Action, Adventure...|Dune Entertainmen...|United States of ...|    English, Spanish|future, society, ...|\n",
      "| 24428|        The Avengers|        7.71|     29166|Released|  2012-04-25|1518815515|    143|False|/9BBTo63ANSmhC4e6...|220000000|https://www.marve...|tt0848228|               en|        The Avengers|When an unexpecte...|              98.082|/RYMX2wcKCBAr24Uy...|Some assembly req...|Science Fiction, ...|      Marvel Studios|United States of ...|English, Hindi, R...|new york city, su...|\n",
      "|293660|            Deadpool|       7.606|     28894|Released|  2016-02-09| 783100000|    108|False|/en971MEXui9diirX...| 58000000|https://www.20thc...|tt1431045|               en|            Deadpool|The origin story ...|              72.735|/zq8Cl3PNIDGU3iWN...|Witness the begin...|Action, Adventure...|20th Century Fox,...|United States of ...|             English|superhero, anti h...|\n",
      "|299536|Avengers: Infinit...|       8.255|     27713|Released|  2018-04-25|2052415039|    149|False|/mDfJG3LC3Dqb67AZ...|300000000|https://www.marve...|tt4154756|               en|Avengers: Infinit...|As the Avengers a...|              154.34|/7WsyChQLEftFiDOV...|An entire univers...|Adventure, Action...|      Marvel Studios|United States of ...|      English, Xhosa|sacrifice, magic,...|\n",
      "|   550|          Fight Club|       8.438|     27238|Released|  1999-10-15| 100853753|    139|False|/hZkgoQYus5vegHoe...| 63000000|http://www.foxmov...|tt0137523|               en|          Fight Club|\"A ticking-time-b...| until an eccentr...|              69.498|/pB8BM7pdSp6B6Ih7...|Mischief. Mayhem....|               Drama|Regency Enterpris...|United States of ...|             English|\n",
      "|118340|Guardians of the ...|       7.906|     26638|Released|  2014-07-30| 772776600|    121|False|/uLtVbjvS1O7gXL8l...|170000000|http://marvel.com...|tt2015381|               en|Guardians of the ...|Light years from ...|              33.255|/r7vmZjiyZw9rpJMQ...|All heroes start ...|Action, Science F...|      Marvel Studios|United States of ...|             English|spacecraft, based...|\n",
      "|   680|        Pulp Fiction|       8.488|     25893|Released|  1994-09-10| 213900000|    154|False|/suaEOtk1N1sgg2MT...|  8500000|https://www.miram...|tt0110912|               en|        Pulp Fiction|A burger-loving h...|              74.862|/d5iIlFn5s0ImszYz...|Just because you ...|     Thriller, Crime|Miramax, A Band A...|United States of ...|English, Spanish,...|drug dealer, boxe...|\n",
      "|    13|        Forrest Gump|       8.477|     25409|Released|  1994-06-23| 677387716|    142|False|/qdIMHd4sEfJSckfV...| 55000000|https://www.param...|tt0109830|               en|        Forrest Gump|A man with a low ...|              92.693|/arw2vcBveWOVZr6p...|The world will ne...|Comedy, Drama, Ro...|Paramount, The St...|United States of ...|             English|vietnam war, viet...|\n",
      "|   671|Harry Potter and ...|       7.916|     25379|Released|  2001-11-16| 976475550|    152|False|/hziiv14OpD73u9gA...|125000000|https://www.warne...|tt0241527|               en|Harry Potter and ...|Harry Potter has ...|             185.482|/wuMc08IPKEatf9rn...|Let the magic begin.|  Adventure, Fantasy|Warner Bros. Pict...|United Kingdom, U...|             English|witch, school fri...|\n",
      "|  1726|            Iron Man|        7.64|     24874|Released|  2008-04-30| 585174222|    126|False|/cyecB7godJ6kNHGO...|140000000|https://www.marve...|tt0371746|               en|            Iron Man|After being held ...|              72.897|/78lPtwv72eTNqFW9...|Heroes aren't bor...|Action, Science F...|      Marvel Studios|United States of ...|English, Persian,...|middle east, supe...|\n",
      "| 68718|    Django Unchained|       8.171|     24672|Released|  2012-12-25| 425368238|    165|False|/5Lbm0gpFDRAPIV1C...|100000000|http://www.unchai...|tt1853728|               en|    Django Unchained|With the help of ...|              54.224|/7oWY8VDWW7thTzWh...|Life, liberty and...|      Drama, Western|The Weinstein Com...|United States of ...|English, French, ...|rescue, friendshi...|\n",
      "|   278|The Shawshank Red...|       8.702|     24649|Released|  1994-09-23|  28341469|    142|False|/kXfqcdQKsToO0OUX...| 25000000|                NULL|tt0111161|               en|The Shawshank Red...|Framed in the 194...|              122.61|/lyQBXzOQSuE59IsH...|Fear can hold you...|        Drama, Crime|Castle Rock Enter...|United States of ...|             English|prison, friendshi...|\n",
      "|299534|   Avengers: Endgame|       8.263|     23857|Released|  2019-04-24|2800000000|    181|False|/7RyHsO4yDXtBv1zU...|356000000|https://www.marve...|tt4154796|               en|   Avengers: Endgame|After the devasta...|              91.756|/or06FN3Dka5tukK1...|  Avenge the fallen.|Adventure, Scienc...|      Marvel Studios|United States of ...|English, Japanese...|superhero, time t...|\n",
      "|   603|          The Matrix|       8.206|     23815|Released|  1999-03-30| 463517383|    136|False|/oMsxZEvz9a708d49...| 63000000|http://www.warner...|tt0133093|               en|          The Matrix|Set in the 22nd c...|              78.564|/f89U3ADr1oiB1s9G...|Welcome to the Re...|Action, Science F...|Village Roadshow ...|United States of ...|             English|man vs machine, m...|\n",
      "|   597|             Titanic|         7.9|     23637|Released|  1997-11-18|2264162353|    194|False|/rzdPqYx7Um4FUZeD...|200000000|https://www.param...|tt0120338|               en|             Titanic|101-year-old Rose...|             102.348|/9xjZS2rlVxm8SFx8...|Nothing on Earth ...|      Drama, Romance|Paramount, 20th C...|United States of ...|English, French, ...|epic, ship, drown...|\n",
      "|475557|               Joker|       8.168|     23425|Released|  2019-10-01|1074458282|    122|False|/hO7KbdvGOtDdeg0W...| 55000000|http://www.jokerm...|tt7286456|               en|               Joker|During the 1980s,...|              54.522|/udDclJoHjfjb8Ekg...|Put on a happy face.|Crime, Thriller, ...|Warner Bros. Pict...|Canada, United St...|             English|dream, street gan...|\n",
      "|   120|The Lord of the R...|       8.402|     23323|Released|  2001-12-18| 871368364|    179|False|/x2RS3uTcsJJ9IfjN...| 93000000|http://www.lordof...|tt0120737|               en|The Lord of the R...|Young hobbit Frod...|              87.037|/6oom5QYQ2yQTMJIb...|One ring to rule ...|Adventure, Fantas...|New Line Cinema, ...|New Zealand, Unit...|             English|based on novel or...|\n",
      "|   122|The Lord of the R...|       8.474|     22334|Released|  2003-12-01|1118888979|    201|False|/2u7zbn8EudG6kLlB...| 94000000|http://www.lordof...|tt0167260|               en|The Lord of the R...|Aragorn is reveal...|              99.276|/rCzpDGLbOoPwLjy3...|The eye of the en...|Adventure, Fantas...|New Line Cinema, ...|New Zealand, Unit...|             English|based on novel or...|\n",
      "| 11324|      Shutter Island|         8.2|     22318|Released|  2010-02-14| 294800000|    138|False|/2nqsOT2AqPkTW81b...| 80000000|http://www.shutte...|tt1130884|               en|      Shutter Island|World War II sold...|              56.595|/4GDy0PHYX3VRXUtw...|Some places never...|Drama, Thriller, ...|Phoenix Pictures,...|United States of ...|     English, German|island, based on ...|\n",
      "|106646|The Wolf of Wall ...|       8.035|     22222|Released|  2013-12-25| 392000000|    180|False|/63y4XSVTZ7mRzAzk...|100000000|http://www.thewol...|tt0993846|               en|The Wolf of Wall ...|A New York stockb...|              97.444|/34m2tygAYBGqA9MX...| Earn. Spend. Party.|Crime, Drama, Comedy|EMJAG Productions...|United States of ...|     English, French|corruption, drug ...|\n",
      "| 99861|Avengers: Age of ...|       7.276|     21754|Released|  2015-04-22|1405403694|    141|False|/6YwkGolwdOMNpbTO...|365000000|http://marvel.com...|tt2395427|               en|Avengers: Age of ...|When Tony Stark t...|              96.565|/4ssDuvEDkSArWEdy...| A new age has come.|Action, Adventure...|      Marvel Studios|United States of ...|             English|artificial intell...|\n",
      "|271110|Captain America: ...|         7.4|     21541|Released|  2016-04-27|1155046416|    147|False|/wdwcOBMkt3zmPQuE...|250000000|https://www.marve...|tt3498820|               en|Captain America: ...|Following the eve...|              70.741|/rAGiXaUfPzY7CDEy...|United we stand. ...|Adventure, Action...|      Marvel Studios|United States of ...|Romanian, English...|civil war, superh...|\n",
      "| 49026|The Dark Knight R...|       7.777|     21335|Released|  2012-07-17|1081041287|    165|False|/c3OHQncTAnKFhdOT...|250000000|http://www.thedar...|tt1345836|               en|The Dark Knight R...|Following the dea...|              76.914|/hr0L2aueqlP2BYUb...|     The Legend Ends|Action, Crime, Dr...|Syncopy, Legendar...|United States of ...|             English|fight, burglar, h...|\n",
      "| 68721|          Iron Man 3|       6.928|     21064|Released|  2013-04-18|1215577205|    130|False|/aFTYFqrWp4RS46Tw...|200000000|https://www.marve...|tt1300854|               en|          Iron Man 3|When Tony Stark's...|               61.06|/qhPtAc1TKbMPqNvc...|Unleash the power...|Action, Adventure...|      Marvel Studios|United States of ...|             English|california, war o...|\n",
      "|284054|       Black Panther|        7.39|     21053|Released|  2018-02-13|1349926083|    135|False|/b6ZJZHUdMEFECvGi...|200000000|https://www.marve...|tt1825683|               en|       Black Panther|King T'Challa ret...|              43.665|/uxzzxijgPIY7slzF...| Long live the king.|Action, Adventure...|      Marvel Studios|United States of ...|English, Korean, ...|africa, superhero...|\n",
      "|284052|      Doctor Strange|       7.427|     20935|Released|  2016-10-25| 676343174|    115|False|/qUv51IFUvVRAP237...|180000000|http://marvel.com...|tt1211837|               en|      Doctor Strange|After his career ...|              70.535|/uGBVj3bEbCoZbDjj...|The impossibiliti...|Action, Adventure...|      Marvel Studios|United States of ...|             English|magic, superhero,...|\n",
      "| 76341|  Mad Max: Fury Road|       7.582|     20911|Released|  2015-05-13| 378858340|    121|False|/8yACFuo4OaIiKr9h...|150000000|https://www.warne...|tt1392190|               en|  Mad Max: Fury Road|An apocalyptic st...|              78.319|/8tZYtuWezp8Jbcsv...|  What a Lovely Day.|Action, Adventure...|Kennedy Miller Pr...|Australia, United...|             English|rescue, future, a...|\n",
      "| 16869|Inglourious Basterds|       8.215|     20746|Released|  2009-08-19| 321457747|    153|False|/8pEnePgGyfUqj8Qa...| 70000000|                NULL|tt0361748|               en|Inglourious Basterds|\"In Nazi-occupied...| lead by Lt. Aldo...|              59.162|/7sfbEnaARXDDhKm0...|Once upon a time ...|Drama, Thriller, War|The Weinstein Com...|France, Germany, ...|German, English, ...|\n",
      "| 70160|    The Hunger Games|       7.193|     20636|Released|  2012-03-12| 694394724|    142|False|/yDbyVT8tTOgXUrUX...| 75000000|http://www.thehun...|tt1392170|               en|    The Hunger Games|Every year in the...|              29.577|/yXCbOiVDCxO71zI7...|May The Odds Be E...|Science Fiction, ...|Lionsgate, Color ...|United States of ...|             English|based on novel or...|\n",
      "|315635|Spider-Man: Homec...|       7.345|     20507|Released|  2017-07-05| 880166924|    133|False|/fn4n6uOYcB6Uh89n...|175000000|http://www.spider...|tt2250912|               en|Spider-Man: Homec...|Following the eve...|               65.88|/c24sv2weTHPsmDa7...|Homework can wait...|Action, Adventure...|Marvel Studios, P...|United States of ...|             English|high school, new ...|\n",
      "|   672|Harry Potter and ...|       7.721|     20390|Released|  2002-11-13| 876688482|    161|False|/1stUIsjawROZxjiC...|100000000|https://www.warne...|tt0295297|               en|Harry Potter and ...|Cars fly, trees f...|             121.699|/sdEOH0992YZ0QSxg...|Hogwarts is back ...|  Adventure, Fantasy|Warner Bros. Pict...|United Kingdom, U...|             English|witch, flying car...|\n",
      "|283995|Guardians of the ...|       7.624|     20353|Released|  2017-04-19| 863756051|    137|False|/aJn9XeesqsrSLKcH...|200000000|http://marvel.com...|tt3896198|               en|Guardians of the ...|The Guardians mus...|              67.553|/y4MBh0EjBlMuOzv9...|          Obviously.|Science Fiction, ...|      Marvel Studios|United States of ...|             English|superhero, based ...|\n",
      "|   121|The Lord of the R...|       8.385|     20274|Released|  2002-12-18| 926287400|    179|False|/zcc0My3G4SYR72Vu...| 79000000|http://www.lordof...|tt0167261|               en|The Lord of the R...|Frodo and Sam are...|               78.73|/5VTN0pR8gcqV3EPU...|A New Power Is Ri...|Adventure, Fantas...|New Line Cinema, ...|New Zealand, Unit...|             English|mission, army, ba...|\n",
      "|  1771|Captain America: ...|       6.995|     20269|Released|  2011-07-22| 370569774|    124|False|/4NWWpT0jiMUak8r6...|140000000|https://www.marve...|tt0458339|               en|Captain America: ...|During World War ...|              43.665|/vSNxAJTlD0r02V9s...|When patriots bec...|Action, Adventure...|      Marvel Studios|United States of ...|French, Norwegian...|new york city, na...|\n",
      "|297761|       Suicide Squad|       5.909|     20097|Released|  2016-08-03| 746846894|    123|False|/zC70x9wqPPtxU99H...|175000000|http://www.suicid...|tt1386697|               en|       Suicide Squad|From DC Comics co...|              35.356|/xFw9RXKZDvevAGoc...|Worst. Heroes. Ever.|Action, Adventure...|DC Entertainment,...|United States of ...|English, Japanese...|secret mission, s...|\n",
      "|   673|Harry Potter and ...|        8.02|     20038|Released|  2004-05-31| 789804554|    141|False|/obKmfNexgL4ZP5cA...|130000000|https://www.warne...|tt0304141|               en|Harry Potter and ...|Year three at Hog...|             124.386|/aWxwnYoe8p2d2fcx...|Something wicked ...|  Adventure, Fantasy|Warner Bros. Pict...|United Kingdom, U...|             English|witch, school fri...|\n",
      "| 10195|                Thor|       6.768|     20023|Released|  2011-04-21| 449326618|    115|False|/1wOu8rdvPxU1ObHi...|150000000|http://thor.marve...|tt0800369|               en|                Thor|Against his fathe...|              51.277|/prSfAi1xGrhLQNxV...|Two worlds. One h...|Adventure, Fantas...|      Marvel Studios|United States of ...|             English|new mexico, super...|\n",
      "| 10138|          Iron Man 2|       6.835|     19756|Released|  2010-04-28| 623933331|    124|False|/jesRqfL9v6HNnowe...|200000000|https://www.marve...|tt1228705|               en|          Iron Man 2|With the world no...|              84.445|/6WBeq4fCfn7AN0o2...|It's not the armo...|Adventure, Action...|Marvel Studios, F...|United States of ...|English, Russian,...|technology, super...|\n",
      "|   272|       Batman Begins|       7.701|     19561|Released|  2005-06-10| 374218673|    140|False|/lh5lbisD4oDbEKgU...|150000000|https://www.warne...|tt0372784|               en|       Batman Begins|Driven by tragedy...|              66.286|/4MpN4kIEqUjW8OPt...|Evil fears the kn...|Action, Crime, Drama|Warner Bros. Pict...|United Kingdom, U...|English, Urdu, Ma...|martial arts, und...|\n",
      "|284053|      Thor: Ragnarok|       7.595|     19539|Released|  2017-10-02| 855301806|    131|False|/kaIfm5ryEOwYg8mL...|180000000|https://marvel.co...|tt3501632|               en|      Thor: Ragnarok|Thor is imprisone...|                45.2|/rzRwTcFvttcN1ZpX...|No hammer. No pro...|Action, Adventure...|      Marvel Studios|United States of ...|             English|superhero, based ...|\n",
      "|150540|          Inside Out|       7.922|     19463|Released|  2015-06-09| 857611174|     95|False|/j29ekbcLpBvxnGk6...|175000000|http://movies.dis...|tt2096673|               en|          Inside Out|Growing up can be...|             107.292|/2H1TmgdfNtsKlU9j...|Meet the little v...|Animation, Family...|Pixar, Walt Disne...|United States of ...|             English|dream, san franci...|\n",
      "|135397|      Jurassic World|       6.682|     19414|Released|  2015-06-06|1671537444|    124|False|/dF6FjTZzRTENfB4R...|150000000|http://www.jurass...|tt0369610|               en|      Jurassic World|Twenty-two years ...|              54.089|/A0LZHXUzo5C60Oah...|   The park is open.|Action, Adventure...|Amblin Entertainm...|United States of ...|             English|island, primal fe...|\n",
      "|   807|               Se7en|       8.368|     19403|Released|  1995-09-22| 327311859|    127|False|/i5H7zusQGsysGQ8i...| 33000000|http://www.sevenm...|tt0114369|               en|               Se7en|\"Two homicide det...| while his novice...|               Mills| scoffs at his ef...|              53.521|/6yoghtyTpznpBik8...|Seven deadly sins...|Crime, Mystery, T...|New Line Cinema, ...|\n",
      "|   674|Harry Potter and ...|       7.816|     19287|Released|  2005-11-16| 895921036|    157|False|/5rrGVmRUuCKVbqUu...|150000000|https://www.warne...|tt0330373|               en|Harry Potter and ...|When Harry Potter...|             134.276|/fECBtHlr0RB3foNH...|Dark And Difficul...|  Adventure, Fantasy|Warner Bros. Pict...|United Kingdom, U...|     English, French|witch, dying and ...|\n",
      "|    22|Pirates of the Ca...|       7.794|     19233|Released|  2003-07-09| 655011224|    143|False|/wW7Wt5bXzPy4VOEE...|140000000|https://movies.di...|tt0325980|               en|Pirates of the Ca...|Jack Sparrow, a f...|              80.509|/z8onk7LV9Mmw6zKz...|Prepare to be blo...|Adventure, Fantas...|Walt Disney Pictu...|United States of ...|             English|blacksmith, east ...|\n",
      "| 12445|Harry Potter and ...|       8.105|     19183|Released|  2011-07-12|1341511219|    130|False|/n5A7brJCjejceZmH...|125000000|https://www.warne...|tt1201607|               en|Harry Potter and ...|Harry, Ron and He...|             110.974|/c54HpQmuwXjHq2C9...|   It all ends here.|  Fantasy, Adventure|Warner Bros. Pict...|United Kingdom, U...|             English|witch, dying and ...|\n",
      "|    11|           Star Wars|       8.204|     19155|Released|  1977-05-25| 775398007|    121|False|/zqkmTXzjkAgXmEWL...| 11000000|http://www.starwa...|tt0076759|               en|           Star Wars|Princess Leia is ...|              88.559|/6FfCtAuVAW8XJjZ7...|A long time ago i...|Adventure, Action...|Lucasfilm Ltd., 2...|United States of ...|             English|empire, galaxy, r...|\n",
      "+------+--------------------+------------+----------+--------+------------+----------+-------+-----+--------------------+---------+--------------------+---------+-----------------+--------------------+--------------------+--------------------+--------------------+--------------------+--------------------+--------------------+--------------------+--------------------+--------------------+\n",
      "only showing top 50 rows\n",
      "\n"
     ]
    }
   ],
   "source": [
    "df_movies = spark.read.csv('movieDataset.csv', header=True)\n",
    "df_movies.show(50)"
   ]
  },
  {
   "cell_type": "code",
   "execution_count": 116,
   "metadata": {},
   "outputs": [
    {
     "name": "stdout",
     "output_type": "stream",
     "text": [
      "root\n",
      " |-- id: string (nullable = true)\n",
      " |-- title: string (nullable = true)\n",
      " |-- vote_average: string (nullable = true)\n",
      " |-- vote_count: string (nullable = true)\n",
      " |-- status: string (nullable = true)\n",
      " |-- release_date: string (nullable = true)\n",
      " |-- revenue: string (nullable = true)\n",
      " |-- runtime: string (nullable = true)\n",
      " |-- adult: string (nullable = true)\n",
      " |-- backdrop_path: string (nullable = true)\n",
      " |-- budget: string (nullable = true)\n",
      " |-- homepage: string (nullable = true)\n",
      " |-- imdb_id: string (nullable = true)\n",
      " |-- original_language: string (nullable = true)\n",
      " |-- original_title: string (nullable = true)\n",
      " |-- overview: string (nullable = true)\n",
      " |-- popularity: string (nullable = true)\n",
      " |-- poster_path: string (nullable = true)\n",
      " |-- tagline: string (nullable = true)\n",
      " |-- genres: string (nullable = true)\n",
      " |-- production_companies: string (nullable = true)\n",
      " |-- production_countries: string (nullable = true)\n",
      " |-- spoken_languages: string (nullable = true)\n",
      " |-- keywords: string (nullable = true)\n",
      "\n"
     ]
    }
   ],
   "source": [
    "df_movies.printSchema()"
   ]
  },
  {
   "cell_type": "code",
   "execution_count": 117,
   "metadata": {},
   "outputs": [
    {
     "data": {
      "text/plain": [
       "1052039"
      ]
     },
     "execution_count": 117,
     "metadata": {},
     "output_type": "execute_result"
    }
   ],
   "source": [
    "df_movies.count()"
   ]
  },
  {
   "cell_type": "markdown",
   "metadata": {},
   "source": [
    "#### Let´s convert the string columns into integer and/or float columns"
   ]
  },
  {
   "cell_type": "code",
   "execution_count": 118,
   "metadata": {},
   "outputs": [],
   "source": [
    "# convert string columns into integer columns\n",
    "\n",
    "df_movies = df_movies.withColumn(\"id\",df_movies[\"id\"].cast(IntegerType()))\n",
    "\n",
    "df_movies = df_movies.withColumn(\"vote_average\",df_movies[\"vote_average\"].cast(FloatType()))\n",
    "\n",
    "df_movies = df_movies.withColumn(\"vote_count\",df_movies[\"vote_count\"].cast(FloatType()))\n",
    "\n",
    "df_movies = df_movies.withColumn(\"release_date\",df_movies[\"release_date\"].cast(DateType()))\n",
    "\n",
    "df_movies = df_movies.withColumn(\"revenue\",df_movies[\"revenue\"].cast(IntegerType()))\n",
    "\n",
    "df_movies = df_movies.withColumn(\"runtime\",df_movies[\"runtime\"].cast(IntegerType()))\n",
    "\n",
    "df_movies = df_movies.withColumn(\"budget\",df_movies[\"budget\"].cast(IntegerType()))\n",
    "\n",
    "df_movies = df_movies.withColumn(\"popularity\",df_movies[\"popularity\"].cast(IntegerType()))"
   ]
  },
  {
   "cell_type": "code",
   "execution_count": 119,
   "metadata": {},
   "outputs": [
    {
     "name": "stdout",
     "output_type": "stream",
     "text": [
      "root\n",
      " |-- id: integer (nullable = true)\n",
      " |-- title: string (nullable = true)\n",
      " |-- vote_average: float (nullable = true)\n",
      " |-- vote_count: float (nullable = true)\n",
      " |-- status: string (nullable = true)\n",
      " |-- release_date: date (nullable = true)\n",
      " |-- revenue: integer (nullable = true)\n",
      " |-- runtime: integer (nullable = true)\n",
      " |-- adult: string (nullable = true)\n",
      " |-- backdrop_path: string (nullable = true)\n",
      " |-- budget: integer (nullable = true)\n",
      " |-- homepage: string (nullable = true)\n",
      " |-- imdb_id: string (nullable = true)\n",
      " |-- original_language: string (nullable = true)\n",
      " |-- original_title: string (nullable = true)\n",
      " |-- overview: string (nullable = true)\n",
      " |-- popularity: integer (nullable = true)\n",
      " |-- poster_path: string (nullable = true)\n",
      " |-- tagline: string (nullable = true)\n",
      " |-- genres: string (nullable = true)\n",
      " |-- production_companies: string (nullable = true)\n",
      " |-- production_countries: string (nullable = true)\n",
      " |-- spoken_languages: string (nullable = true)\n",
      " |-- keywords: string (nullable = true)\n",
      "\n"
     ]
    }
   ],
   "source": [
    "df_movies.printSchema()"
   ]
  },
  {
   "cell_type": "markdown",
   "metadata": {},
   "source": [
    "#### Let´s convert the .csv files into .parquet files to analyze the data faster."
   ]
  },
  {
   "cell_type": "code",
   "execution_count": 20,
   "metadata": {},
   "outputs": [],
   "source": [
    "# convert the .csv file into .parquet\n",
    "# table: name.basics.tsv\n",
    "\n",
    "df_name_basics = spark.read.format('csv').options(inferSchema=True,header = True, sep='\\t').load('name.basics.tsv')\n",
    "df_name_basics.write.parquet('name.basics.parquet')\n",
    "df_name_basics = spark.read.parquet('name.basics.parquet')"
   ]
  },
  {
   "cell_type": "code",
   "execution_count": 21,
   "metadata": {},
   "outputs": [
    {
     "name": "stdout",
     "output_type": "stream",
     "text": [
      "+--------------------+-------------------+---------+--------------------+--------------------+--------------------+\n",
      "|              nconst|        primaryName|birthYear|           deathYear|   primaryProfession|      knownForTitles|\n",
      "+--------------------+-------------------+---------+--------------------+--------------------+--------------------+\n",
      "|           nm0000001|       Fred Astaire|     1899|                1987|actor,miscellaneo...|tt0072308,tt00504...|\n",
      "|           nm0000002|      Lauren Bacall|     1924|                2014|actress,soundtrac...|tt0037382,tt00752...|\n",
      "|           nm0000003|    Brigitte Bardot|     1934|                  \\N|actress,music_dep...|tt0057345,tt00491...|\n",
      "|           nm0000004|       John Belushi|     1949|                1982|actor,writer,musi...|tt0072562,tt00779...|\n",
      "|nm0000005   Ingma...|               1918|     2007|writer,director,a...|tt0050986,tt00839...|                NULL|\n",
      "|           nm0000006|     Ingrid Bergman|     1915|                1982|actress,producer,...|tt0034583,tt00368...|\n",
      "|           nm0000007|    Humphrey Bogart|     1899|                1957|actor,producer,mi...|tt0034583,tt00425...|\n",
      "|           nm0000008|      Marlon Brando|     1924|                2004|actor,director,wr...|tt0078788,tt00686...|\n",
      "|           nm0000009|     Richard Burton|     1925|                1984|actor,producer,di...|tt0061184,tt00878...|\n",
      "|           nm0000010|       James Cagney|     1899|                1986|actor,director,pr...|tt0029870,tt00318...|\n",
      "|           nm0000011|        Gary Cooper|     1901|                1961|actor,stunts,prod...|tt0044706,tt00341...|\n",
      "|           nm0000012|        Bette Davis|     1908|                1989|actress,make_up_d...|tt0042192,tt00566...|\n",
      "|           nm0000013|          Doris Day|     1922|                2019|actress,producer,...|tt0048317,tt00455...|\n",
      "|           nm0000014|Olivia de Havilland|     1916|                2020|actress,soundtrac...|tt0031381,tt00414...|\n",
      "|           nm0000015|         James Dean|     1931|                1955|actor,miscellaneo...|tt0048028,tt00485...|\n",
      "|           nm0000016|    Georges Delerue|     1925|                1992|composer,music_de...|tt0091763,tt00963...|\n",
      "|           nm0000017|   Marlene Dietrich|     1901|                1992|actress,music_dep...|tt0051201,tt00550...|\n",
      "|           nm0000018|       Kirk Douglas|     1916|                2020|actor,producer,di...|tt0080736,tt00543...|\n",
      "|           nm0000019|   Federico Fellini|     1920|                1993|writer,director,a...|tt0050783,tt00568...|\n",
      "|           nm0000020|        Henry Fonda|     1905|                1982|actor,producer,mi...|tt0050083,tt00828...|\n",
      "|           nm0000021|      Joan Fontaine|     1917|                2013|actress,producer,...|tt0034248,tt00329...|\n",
      "|           nm0000022|        Clark Gable|     1901|                1960|actor,producer,so...|tt0025316,tt00313...|\n",
      "|           nm0000023|       Judy Garland|     1922|                1969|actress,soundtrac...|tt0032138,tt00475...|\n",
      "|           nm0000024|       John Gielgud|     1904|                2000|actor,director,wr...|tt0082031,tt00718...|\n",
      "|           nm0000025|    Jerry Goldsmith|     1929|                2004|music_department,...|tt0119488,tt01177...|\n",
      "|           nm0000026|         Cary Grant|     1904|                1986|actor,producer,so...|tt0053125,tt00569...|\n",
      "|           nm0000027|      Alec Guinness|     1914|                2000|actor,writer,soun...|tt0076759,tt00502...|\n",
      "|           nm0000028|      Rita Hayworth|     1918|                1987|actress,producer,...|tt0038559,tt00405...|\n",
      "|           nm0000029|  Margaux Hemingway|     1954|                1996|actress,miscellan...|tt0077800,tt01021...|\n",
      "|           nm0000030|     Audrey Hepburn|     1929|                1993|actress,soundtrac...|tt0054698,tt00462...|\n",
      "|           nm0000031|  Katharine Hepburn|     1907|                2003|actress,writer,so...|tt0032904,tt00632...|\n",
      "|           nm0000032|    Charlton Heston|     1923|                2008|actor,director,wr...|tt0052618,tt00498...|\n",
      "|           nm0000033|   Alfred Hitchcock|     1899|                1980|director,producer...|tt0054215,tt00523...|\n",
      "|           nm0000034|     William Holden|     1918|                1981|actor,miscellaneo...|tt0046359,tt00474...|\n",
      "|           nm0000035|       James Horner|     1953|                2015|music_department,...|tt0120338,tt04995...|\n",
      "|           nm0000036|      Buster Keaton|     1895|                1966|actor,writer,dire...|tt0017925,tt00151...|\n",
      "|           nm0000037|         Gene Kelly|     1912|                1996|actor,miscellaneo...|tt0045152,tt00432...|\n",
      "|           nm0000038|        Grace Kelly|     1929|                1982|actress,producer,...|tt0046912,tt00473...|\n",
      "|           nm0000039|       Deborah Kerr|     1921|                2007|actress,soundtrac...|tt0049408,tt00457...|\n",
      "|           nm0000040|    Stanley Kubrick|     1928|                1999|director,writer,p...|tt0062622,tt00726...|\n",
      "|           nm0000041|     Akira Kurosawa|     1910|                1998|writer,director,a...|tt0051808,tt00809...|\n",
      "|           nm0000042|          Alan Ladd|     1913|                1964|actor,producer,ca...|tt0046303,tt00354...|\n",
      "|           nm0000043|      Veronica Lake|     1922|                1973|actress,producer,...|tt0034240,tt00383...|\n",
      "|           nm0000044|     Burt Lancaster|     1913|                1994|actor,producer,mi...|tt0045793,tt00858...|\n",
      "|           nm0000045|          Bruce Lee|     1940|                1973|actor,writer,misc...|tt0068767,tt00689...|\n",
      "|           nm0000046|       Vivien Leigh|     1913|                1967|actress,writer,so...|tt0044081,tt00313...|\n",
      "|           nm0000047|       Sophia Loren|     1934|                  \\N|actress,soundtrac...|tt0054749,tt00583...|\n",
      "|           nm0000048|        Peter Lorre|     1904|                1964|actor,writer,dire...|tt0022100,tt00366...|\n",
      "|           nm0000049|      Henry Mancini|     1924|                1994|music_department,...|tt0054698,tt00851...|\n",
      "|           nm0000050|       Groucho Marx|     1890|                1977|actor,writer,dire...|tt0026778,tt00239...|\n",
      "+--------------------+-------------------+---------+--------------------+--------------------+--------------------+\n",
      "only showing top 50 rows\n",
      "\n"
     ]
    }
   ],
   "source": [
    "df_name_basics.show(50)"
   ]
  },
  {
   "cell_type": "code",
   "execution_count": 22,
   "metadata": {},
   "outputs": [
    {
     "data": {
      "text/plain": [
       "13544746"
      ]
     },
     "execution_count": 22,
     "metadata": {},
     "output_type": "execute_result"
    }
   ],
   "source": [
    "df_name_basics.count()"
   ]
  },
  {
   "cell_type": "code",
   "execution_count": 26,
   "metadata": {},
   "outputs": [
    {
     "name": "stdout",
     "output_type": "stream",
     "text": [
      "+---------+--------------------+---------+---------+--------------------+--------------------+\n",
      "|   nconst|         primaryName|birthYear|deathYear|   primaryProfession|      knownForTitles|\n",
      "+---------+--------------------+---------+---------+--------------------+--------------------+\n",
      "|nm1979452|        David Wexler|       \\N|       \\N|            director|           tt0387729|\n",
      "|nm1979453|    Takeshi Tateishi|       \\N|       \\N|visual_effects,mi...|tt0208156,tt10951...|\n",
      "|nm1979454|     Rodolfo Wellish|       \\N|       \\N|               actor|           tt0470111|\n",
      "|nm1979455|        Glory Friend|       \\N|       \\N|            producer| tt0455581,tt0133302|\n",
      "|nm1979456|       Michael Aaron|       \\N|       \\N|        actor,writer|tt0088568,tt04747...|\n",
      "|nm1979457|         John Wilson|       \\N|       \\N|      art_department|           tt0465411|\n",
      "|nm1979458|         Terese Gant|       \\N|       \\N|                  \\N|                  \\N|\n",
      "|nm1979459|    Cristina Vecchio|       \\N|       \\N|location_manageme...|tt0804507,tt14966...|\n",
      "|nm1979460|         Jamie Banks|       \\N|       \\N|camera_department...|tt0757891,tt04710...|\n",
      "|nm1979461|  Carmine Bevilacqua|       \\N|       \\N|               actor|           tt0163867|\n",
      "|nm1979462|           Zuxin Sun|       \\N|       \\N|               actor|tt0470736,tt04704...|\n",
      "|nm1979463|        Miles Ocampo|     1997|       \\N|actress,script_de...|tt29544849,tt1153...|\n",
      "|nm1979464|      Melody Wagener|       \\N|       \\N|       miscellaneous|           tt0365125|\n",
      "|nm1979465|       Michael Kiley|       \\N|       \\N|animation_departm...|tt0112131,tt04504...|\n",
      "|nm1979466|        The Lameduck|       \\N|       \\N|            composer|           tt0470064|\n",
      "|nm1979468|     Shridhar Shetty|       \\N|       \\N|               actor|tt1527595,tt01072...|\n",
      "|nm1979469|    Katherine McComb|       \\N|       \\N|  production_manager| tt0471029,tt0477561|\n",
      "|nm1979470|            Ben Kerr|       \\N|       \\N|  assistant_director|           tt0465456|\n",
      "|nm1979471|       Kuzman Petrov|       \\N|       \\N|              writer|           tt0470932|\n",
      "|nm1979472|Taylor Marshall-G...|     1976|       \\N|producer,miscella...|tt0450232,tt03992...|\n",
      "|nm1979473|       Clovis Perren|       \\N|       \\N|  production_manager|           tt0243907|\n",
      "|nm1979474|      Ryan Markowitz|       \\N|       \\N|                  \\N|                  \\N|\n",
      "|nm1979475|       Katrina Brede|       \\N|       \\N|miscellaneous,dir...|tt15716758,tt9543...|\n",
      "|nm1979476|          Tim Brandt|       \\N|       \\N|               actor| tt0163246,tt1710264|\n",
      "|nm1979477|          Tomas Novy|       \\N|       \\N|   camera_department|tt0342561,tt02900...|\n",
      "|nm1979478|        Shawn Harris|     1982|       \\N|actor,writer,prod...|tt8844988,tt04624...|\n",
      "|nm1979479|         Bjørn Olsen|       \\N|       \\N|               actor|           tt0470041|\n",
      "|nm1979480|      Christy Keller|       \\N|       \\N|actress,director,...|tt3079040,tt12747...|\n",
      "|nm1979481|        Pavla Zimova|       \\N|       \\N|  costume_department| tt0419706,tt0415407|\n",
      "|nm1979482|   Ryan Stefan Bantu|       \\N|       \\N| miscellaneous,actor|tt0114885,tt01178...|\n",
      "|nm1979483|    Tad Joseph Wells|       \\N|       \\N|               actor|           tt0335179|\n",
      "|nm1979484|     Deboriah Dupree|       \\N|       \\N|art_director,set_...|tt8186932,tt12973...|\n",
      "|nm1979485|           Tina Kidd|       \\N|       \\N|             actress|           tt0163867|\n",
      "|nm1979486|          Ben Gibson|       \\N|       \\N|               actor|           tt0083780|\n",
      "|nm1979487|    Camille Nagasaki|     1980|       \\N|actress,miscellan...|tt1234243,tt20768...|\n",
      "|nm1979488|           Kim Woods|       \\N|       \\N|       miscellaneous|           tt0289397|\n",
      "|nm1979489|       Astrid Merget|       \\N|       \\N|       miscellaneous|           tt0451106|\n",
      "|nm1979490|            Grace Oh|       \\N|       \\N|            producer| tt4936034,tt0892388|\n",
      "|nm1979491|        John Bassani|       \\N|       \\N|               actor|           tt0122145|\n",
      "|nm1979492|    Colin Williamson|       \\N|       \\N|writer,editor,mis...|tt4838950,tt03734...|\n",
      "|nm1979493|    Alexandra Kalian|       \\N|       \\N|             actress|           tt0163867|\n",
      "|nm1979494|      Richard Wimble|       \\N|       \\N|      art_department|           tt0465411|\n",
      "|nm1979495|    Tracy Bellswallo|       \\N|       \\N|             actress|           tt0163246|\n",
      "|nm1979496|       Paul Reichlin|       \\N|       \\N|       miscellaneous|           tt0427453|\n",
      "|nm1979497|       Paul Hinderer|       \\N|       \\N|art_department,pr...|tt0103393,tt01219...|\n",
      "|nm1979498|    Stephen Cannella|       \\N|       \\N|camera_department...|tt1456060,tt90459...|\n",
      "|nm1979499|      Jessica Dickey|       \\N|       \\N|writer,actress,mi...|tt11828492,tt0285...|\n",
      "|nm1979500|         Brian Jones|       \\N|       \\N|               actor|           tt0163867|\n",
      "|nm1979501|           Rita Burg|     1900|       \\N|    actress,producer|tt23160310,tt0470...|\n",
      "|nm1979502|        Manuel Ortiz|       \\N|       \\N|               actor|tt0290318,tt00982...|\n",
      "+---------+--------------------+---------+---------+--------------------+--------------------+\n",
      "only showing top 50 rows\n",
      "\n"
     ]
    }
   ],
   "source": [
    "#df_name_basics = spark.read.parquet('name.basics.parquet')\n",
    "df_name_basics.show(50)"
   ]
  },
  {
   "cell_type": "code",
   "execution_count": 24,
   "metadata": {},
   "outputs": [
    {
     "data": {
      "text/plain": [
       "13544746"
      ]
     },
     "execution_count": 24,
     "metadata": {},
     "output_type": "execute_result"
    }
   ],
   "source": [
    "df_name_basics.count()"
   ]
  },
  {
   "cell_type": "code",
   "execution_count": 31,
   "metadata": {},
   "outputs": [],
   "source": [
    "# convert the .csv file into .parquet\n",
    "# table: title.akas.tsv\n",
    "\n",
    "df_title_akas = spark.read.format('csv').options(inferSchema=True,header = True, sep='\\t').load('title.akas.tsv')\n",
    "df_title_akas.write.parquet('title.akas.parquet')\n",
    "df_title_akas = spark.read.parquet('title.akas.parquet')"
   ]
  },
  {
   "cell_type": "code",
   "execution_count": 33,
   "metadata": {},
   "outputs": [
    {
     "name": "stdout",
     "output_type": "stream",
     "text": [
      "+---------+--------+--------------------+------+--------+-----------+-------------+---------------+\n",
      "|  titleId|ordering|               title|region|language|      types|   attributes|isOriginalTitle|\n",
      "+---------+--------+--------------------+------+--------+-----------+-------------+---------------+\n",
      "|tt0000001|       1|          Carmencita|    \\N|      \\N|   original|           \\N|              1|\n",
      "|tt0000001|       2|          Carmencita|    DE|      \\N|         \\N|literal title|              0|\n",
      "|tt0000001|       3|          Carmencita|    US|      \\N|imdbDisplay|           \\N|              0|\n",
      "|tt0000001|       4|Carmencita - span...|    HU|      \\N|imdbDisplay|           \\N|              0|\n",
      "|tt0000001|       5|          Καρμενσίτα|    GR|      \\N|imdbDisplay|           \\N|              0|\n",
      "+---------+--------+--------------------+------+--------+-----------+-------------+---------------+\n",
      "only showing top 5 rows\n",
      "\n"
     ]
    }
   ],
   "source": [
    "df_title_akas.show(5)"
   ]
  },
  {
   "cell_type": "code",
   "execution_count": 34,
   "metadata": {},
   "outputs": [
    {
     "name": "stdout",
     "output_type": "stream",
     "text": [
      "root\n",
      " |-- titleId: string (nullable = true)\n",
      " |-- ordering: integer (nullable = true)\n",
      " |-- title: string (nullable = true)\n",
      " |-- region: string (nullable = true)\n",
      " |-- language: string (nullable = true)\n",
      " |-- types: string (nullable = true)\n",
      " |-- attributes: string (nullable = true)\n",
      " |-- isOriginalTitle: integer (nullable = true)\n",
      "\n"
     ]
    }
   ],
   "source": [
    "df_title_akas.printSchema()"
   ]
  },
  {
   "cell_type": "code",
   "execution_count": 35,
   "metadata": {},
   "outputs": [
    {
     "data": {
      "text/plain": [
       "48679363"
      ]
     },
     "execution_count": 35,
     "metadata": {},
     "output_type": "execute_result"
    }
   ],
   "source": [
    "df_title_akas.count()"
   ]
  },
  {
   "cell_type": "code",
   "execution_count": 56,
   "metadata": {},
   "outputs": [],
   "source": [
    "# convert the .csv file into .parquet\n",
    "# table: title.basics.tsv\n",
    "\n",
    "df_title_basics = spark.read.format('csv').options(inferSchema=True,header = True, sep='\\t').load('title.basics.tsv')\n",
    "#df_title_basics.write.parquet('title.basics.parquet')\n",
    "df_title_basics = spark.read.parquet('title.basics.parquet')"
   ]
  },
  {
   "cell_type": "code",
   "execution_count": 57,
   "metadata": {},
   "outputs": [
    {
     "name": "stdout",
     "output_type": "stream",
     "text": [
      "+---------+---------+--------------------+--------------------+-------+---------+-------+--------------+--------------------+\n",
      "|   tconst|titleType|        primaryTitle|       originalTitle|isAdult|startYear|endYear|runtimeMinutes|              genres|\n",
      "+---------+---------+--------------------+--------------------+-------+---------+-------+--------------+--------------------+\n",
      "|tt0000001|    short|          Carmencita|          Carmencita|      0|     1894|     \\N|             1|   Documentary,Short|\n",
      "|tt0000002|    short|Le clown et ses c...|Le clown et ses c...|      0|     1892|     \\N|             5|     Animation,Short|\n",
      "|tt0000003|    short|      Pauvre Pierrot|      Pauvre Pierrot|      0|     1892|     \\N|             5|Animation,Comedy,...|\n",
      "|tt0000004|    short|         Un bon bock|         Un bon bock|      0|     1892|     \\N|            12|     Animation,Short|\n",
      "|tt0000005|    short|    Blacksmith Scene|    Blacksmith Scene|      0|     1893|     \\N|             1|        Comedy,Short|\n",
      "+---------+---------+--------------------+--------------------+-------+---------+-------+--------------+--------------------+\n",
      "only showing top 5 rows\n",
      "\n"
     ]
    }
   ],
   "source": [
    "df_title_basics.show(5)"
   ]
  },
  {
   "cell_type": "code",
   "execution_count": 37,
   "metadata": {},
   "outputs": [
    {
     "name": "stdout",
     "output_type": "stream",
     "text": [
      "root\n",
      " |-- tconst: string (nullable = true)\n",
      " |-- titleType: string (nullable = true)\n",
      " |-- primaryTitle: string (nullable = true)\n",
      " |-- originalTitle: string (nullable = true)\n",
      " |-- isAdult: string (nullable = true)\n",
      " |-- startYear: string (nullable = true)\n",
      " |-- endYear: string (nullable = true)\n",
      " |-- runtimeMinutes: string (nullable = true)\n",
      " |-- genres: string (nullable = true)\n",
      "\n"
     ]
    }
   ],
   "source": [
    "df_title_basics.printSchema()"
   ]
  },
  {
   "cell_type": "code",
   "execution_count": 48,
   "metadata": {},
   "outputs": [],
   "source": [
    "# convert the .csv file into .parquet\n",
    "# table: title.principals.tsv\n",
    "\n",
    "df_title_principals = spark.read.format('csv').options(inferSchema=True,header = True, sep='\\t').load('title.principals.tsv')\n",
    "df_title_principals.write.parquet('title.principals.parquet')\n",
    "df_title_principals = spark.read.parquet('title.principals.parquet')"
   ]
  },
  {
   "cell_type": "code",
   "execution_count": 38,
   "metadata": {},
   "outputs": [
    {
     "name": "stdout",
     "output_type": "stream",
     "text": [
      "+---------+--------+---------+---------------+--------------------+----------+\n",
      "|   tconst|ordering|   nconst|       category|                 job|characters|\n",
      "+---------+--------+---------+---------------+--------------------+----------+\n",
      "|tt0000001|       1|nm1588970|           self|                  \\N|  [\"Self\"]|\n",
      "|tt0000001|       2|nm0005690|       director|                  \\N|        \\N|\n",
      "|tt0000001|       3|nm0005690|       producer|            producer|        \\N|\n",
      "|tt0000001|       4|nm0374658|cinematographer|director of photo...|        \\N|\n",
      "|tt0000002|       1|nm0721526|       director|                  \\N|        \\N|\n",
      "+---------+--------+---------+---------------+--------------------+----------+\n",
      "only showing top 5 rows\n",
      "\n"
     ]
    }
   ],
   "source": [
    "df_title_principals.show(5)"
   ]
  },
  {
   "cell_type": "code",
   "execution_count": 39,
   "metadata": {},
   "outputs": [
    {
     "name": "stdout",
     "output_type": "stream",
     "text": [
      "root\n",
      " |-- tconst: string (nullable = true)\n",
      " |-- ordering: integer (nullable = true)\n",
      " |-- nconst: string (nullable = true)\n",
      " |-- category: string (nullable = true)\n",
      " |-- job: string (nullable = true)\n",
      " |-- characters: string (nullable = true)\n",
      "\n"
     ]
    }
   ],
   "source": [
    "df_title_principals.printSchema()"
   ]
  },
  {
   "cell_type": "code",
   "execution_count": 41,
   "metadata": {},
   "outputs": [
    {
     "data": {
      "text/plain": [
       "86327850"
      ]
     },
     "execution_count": 41,
     "metadata": {},
     "output_type": "execute_result"
    }
   ],
   "source": [
    "df_title_principals.count()"
   ]
  },
  {
   "cell_type": "code",
   "execution_count": 41,
   "metadata": {},
   "outputs": [],
   "source": [
    "# convert the .csv file into .parquet\n",
    "# table: title.ratings.tsv\n",
    "\n",
    "df_title_ratings = spark.read.format('csv').options(inferSchema=True,header = True, sep='\\t').load('title.ratings.tsv')\n",
    "#df_title_ratings.write.parquet('title.ratings.parquet')\n",
    "df_title_ratings = spark.read.parquet('title.ratings.parquet')"
   ]
  },
  {
   "cell_type": "code",
   "execution_count": 42,
   "metadata": {},
   "outputs": [
    {
     "name": "stdout",
     "output_type": "stream",
     "text": [
      "+---------+-------------+--------+\n",
      "|   tconst|averageRating|numVotes|\n",
      "+---------+-------------+--------+\n",
      "|tt0000001|          5.7|    2059|\n",
      "|tt0000002|          5.6|     277|\n",
      "|tt0000003|          6.5|    2023|\n",
      "|tt0000004|          5.3|     180|\n",
      "|tt0000005|          6.2|    2787|\n",
      "+---------+-------------+--------+\n",
      "only showing top 5 rows\n",
      "\n"
     ]
    }
   ],
   "source": [
    "df_title_ratings.show(5)"
   ]
  },
  {
   "cell_type": "code",
   "execution_count": 43,
   "metadata": {},
   "outputs": [
    {
     "name": "stdout",
     "output_type": "stream",
     "text": [
      "root\n",
      " |-- tconst: string (nullable = true)\n",
      " |-- averageRating: double (nullable = true)\n",
      " |-- numVotes: integer (nullable = true)\n",
      "\n"
     ]
    }
   ],
   "source": [
    "df_title_ratings.printSchema()"
   ]
  },
  {
   "cell_type": "code",
   "execution_count": 44,
   "metadata": {},
   "outputs": [
    {
     "data": {
      "text/plain": [
       "1446041"
      ]
     },
     "execution_count": 44,
     "metadata": {},
     "output_type": "execute_result"
    }
   ],
   "source": [
    "df_title_ratings.count()"
   ]
  },
  {
   "cell_type": "markdown",
   "metadata": {},
   "source": [
    "### 2.1 Future Engineering"
   ]
  },
  {
   "cell_type": "code",
   "execution_count": 120,
   "metadata": {},
   "outputs": [
    {
     "name": "stdout",
     "output_type": "stream",
     "text": [
      "+------+---------------+------------+----------+--------+------------+----------+-------+-----+--------------------+---------+--------------------+---------+-----------------+---------------+--------------------+----------+--------------------+--------------------+--------------------+--------------------+--------------------+--------------------+--------------------+\n",
      "|    id|          title|vote_average|vote_count|  status|release_date|   revenue|runtime|adult|       backdrop_path|   budget|            homepage|  imdb_id|original_language| original_title|            overview|popularity|         poster_path|             tagline|              genres|production_companies|production_countries|    spoken_languages|            keywords|\n",
      "+------+---------------+------------+----------+--------+------------+----------+-------+-----+--------------------+---------+--------------------+---------+-----------------+---------------+--------------------+----------+--------------------+--------------------+--------------------+--------------------+--------------------+--------------------+--------------------+\n",
      "| 27205|      Inception|       8.364|   34495.0|Released|  2010-07-15| 825532764|    148|False|/8ZTVqvKDQ8emSGUE...|160000000|https://www.warne...|tt1375666|               en|      Inception|\"Cobb, a skilled ...|      NULL|              83.952|/oYuLEt3zVCKq57qu...|Your mind is the ...|Action, Science F...|Legendary Picture...|United Kingdom, U...|English, French, ...|\n",
      "|157336|   Interstellar|       8.417|   32571.0|Released|  2014-11-05| 701729206|    169|False|/pbrkL804c8yAv3zB...|165000000|http://www.inters...|tt0816692|               en|   Interstellar|The adventures of...|       140|/gEU2QniE6E77NI6l...|Mankind was born ...|Adventure, Drama,...|Legendary Picture...|United Kingdom, U...|             English|rescue, future, s...|\n",
      "|   155|The Dark Knight|       8.512|   30619.0|Released|  2008-07-16|1004558444|    152|False|/nMKdUUepR0i5zn0y...|185000000|https://www.warne...|tt0468569|               en|The Dark Knight|Batman raises the...|       130|/qJ2tW6WMUDux911r...|Welcome to a worl...|Drama, Action, Cr...|DC Comics, Legend...|United Kingdom, U...|   English, Mandarin|joker, sadism, ch...|\n",
      "| 19995|         Avatar|       7.573|   29815.0|Released|  2009-12-15|      NULL|    162|False|/vL5LR6WdxWPjLPFR...|237000000|https://www.avata...|tt0499549|               en|         Avatar|In the 22nd centu...|        79|/kyeqWdyUXW608qlY...|Enter the world o...|Action, Adventure...|Dune Entertainmen...|United States of ...|    English, Spanish|future, society, ...|\n",
      "| 24428|   The Avengers|        7.71|   29166.0|Released|  2012-04-25|1518815515|    143|False|/9BBTo63ANSmhC4e6...|220000000|https://www.marve...|tt0848228|               en|   The Avengers|When an unexpecte...|        98|/RYMX2wcKCBAr24Uy...|Some assembly req...|Science Fiction, ...|      Marvel Studios|United States of ...|English, Hindi, R...|new york city, su...|\n",
      "+------+---------------+------------+----------+--------+------------+----------+-------+-----+--------------------+---------+--------------------+---------+-----------------+---------------+--------------------+----------+--------------------+--------------------+--------------------+--------------------+--------------------+--------------------+--------------------+\n",
      "only showing top 5 rows\n",
      "\n"
     ]
    }
   ],
   "source": [
    "# table: df_movies (another kaggle dataset)\n",
    "\n",
    "df_movies.show(5)"
   ]
  },
  {
   "cell_type": "markdown",
   "metadata": {},
   "source": [
    "#### Let´s drop off some columns."
   ]
  },
  {
   "cell_type": "code",
   "execution_count": 121,
   "metadata": {},
   "outputs": [],
   "source": [
    "df_movies = df_movies.drop('adult','backdrop_path','homepage','original_title','overview','poster_path','tagline','spoken_languages','keywords','production_companies','original_language','release_date','vote_count','status')"
   ]
  },
  {
   "cell_type": "code",
   "execution_count": 122,
   "metadata": {},
   "outputs": [
    {
     "name": "stdout",
     "output_type": "stream",
     "text": [
      "+------+---------------+------------+----------+-------+---------+---------+----------+--------------------+--------------------+\n",
      "|    id|          title|vote_average|   revenue|runtime|   budget|  imdb_id|popularity|              genres|production_countries|\n",
      "+------+---------------+------------+----------+-------+---------+---------+----------+--------------------+--------------------+\n",
      "| 27205|      Inception|       8.364| 825532764|    148|160000000|tt1375666|      NULL|Your mind is the ...|Legendary Picture...|\n",
      "|157336|   Interstellar|       8.417| 701729206|    169|165000000|tt0816692|       140|Adventure, Drama,...|United Kingdom, U...|\n",
      "|   155|The Dark Knight|       8.512|1004558444|    152|185000000|tt0468569|       130|Drama, Action, Cr...|United Kingdom, U...|\n",
      "| 19995|         Avatar|       7.573|      NULL|    162|237000000|tt0499549|        79|Action, Adventure...|United States of ...|\n",
      "| 24428|   The Avengers|        7.71|1518815515|    143|220000000|tt0848228|        98|Science Fiction, ...|United States of ...|\n",
      "+------+---------------+------------+----------+-------+---------+---------+----------+--------------------+--------------------+\n",
      "only showing top 5 rows\n",
      "\n"
     ]
    }
   ],
   "source": [
    "df_movies.show(5)"
   ]
  },
  {
   "cell_type": "code",
   "execution_count": 123,
   "metadata": {},
   "outputs": [],
   "source": [
    "df_movies = df_movies.withColumnRenamed('imdb_id','titleId')"
   ]
  },
  {
   "cell_type": "code",
   "execution_count": 124,
   "metadata": {},
   "outputs": [
    {
     "name": "stdout",
     "output_type": "stream",
     "text": [
      "+------+---------------+------------+----------+-------+---------+---------+----------+--------------------+--------------------+\n",
      "|    id|          title|vote_average|   revenue|runtime|   budget|  titleId|popularity|              genres|production_countries|\n",
      "+------+---------------+------------+----------+-------+---------+---------+----------+--------------------+--------------------+\n",
      "| 27205|      Inception|       8.364| 825532764|    148|160000000|tt1375666|      NULL|Your mind is the ...|Legendary Picture...|\n",
      "|157336|   Interstellar|       8.417| 701729206|    169|165000000|tt0816692|       140|Adventure, Drama,...|United Kingdom, U...|\n",
      "|   155|The Dark Knight|       8.512|1004558444|    152|185000000|tt0468569|       130|Drama, Action, Cr...|United Kingdom, U...|\n",
      "| 19995|         Avatar|       7.573|      NULL|    162|237000000|tt0499549|        79|Action, Adventure...|United States of ...|\n",
      "| 24428|   The Avengers|        7.71|1518815515|    143|220000000|tt0848228|        98|Science Fiction, ...|United States of ...|\n",
      "+------+---------------+------------+----------+-------+---------+---------+----------+--------------------+--------------------+\n",
      "only showing top 5 rows\n",
      "\n"
     ]
    }
   ],
   "source": [
    "df_movies.show(5)"
   ]
  },
  {
   "cell_type": "code",
   "execution_count": 125,
   "metadata": {},
   "outputs": [],
   "source": [
    "# here, we create a view of the dataframe\n",
    "\n",
    "df_movies.createOrReplaceTempView('df_movies')"
   ]
  },
  {
   "cell_type": "code",
   "execution_count": 27,
   "metadata": {},
   "outputs": [
    {
     "name": "stdout",
     "output_type": "stream",
     "text": [
      "+---------+----------------+---------+---------+--------------------+--------------------+\n",
      "|   nconst|     primaryName|birthYear|deathYear|   primaryProfession|      knownForTitles|\n",
      "+---------+----------------+---------+---------+--------------------+--------------------+\n",
      "|nm1979452|    David Wexler|       \\N|       \\N|            director|           tt0387729|\n",
      "|nm1979453|Takeshi Tateishi|       \\N|       \\N|visual_effects,mi...|tt0208156,tt10951...|\n",
      "|nm1979454| Rodolfo Wellish|       \\N|       \\N|               actor|           tt0470111|\n",
      "|nm1979455|    Glory Friend|       \\N|       \\N|            producer| tt0455581,tt0133302|\n",
      "|nm1979456|   Michael Aaron|       \\N|       \\N|        actor,writer|tt0088568,tt04747...|\n",
      "+---------+----------------+---------+---------+--------------------+--------------------+\n",
      "only showing top 5 rows\n",
      "\n"
     ]
    }
   ],
   "source": [
    "# table: name_basics\n",
    "\n",
    "df_name_basics.show(5)"
   ]
  },
  {
   "cell_type": "markdown",
   "metadata": {},
   "source": [
    "#### Let´s drop off some columns that are unnecessary."
   ]
  },
  {
   "cell_type": "code",
   "execution_count": 28,
   "metadata": {},
   "outputs": [],
   "source": [
    "df_name_basics = df_name_basics.drop('birthYear','deathYear','primaryProfession')"
   ]
  },
  {
   "cell_type": "code",
   "execution_count": 29,
   "metadata": {},
   "outputs": [
    {
     "name": "stdout",
     "output_type": "stream",
     "text": [
      "+---------+----------------+--------------------+\n",
      "|   nconst|     primaryName|      knownForTitles|\n",
      "+---------+----------------+--------------------+\n",
      "|nm1979452|    David Wexler|           tt0387729|\n",
      "|nm1979453|Takeshi Tateishi|tt0208156,tt10951...|\n",
      "|nm1979454| Rodolfo Wellish|           tt0470111|\n",
      "|nm1979455|    Glory Friend| tt0455581,tt0133302|\n",
      "|nm1979456|   Michael Aaron|tt0088568,tt04747...|\n",
      "+---------+----------------+--------------------+\n",
      "only showing top 5 rows\n",
      "\n"
     ]
    }
   ],
   "source": [
    "df_name_basics.show(5)"
   ]
  },
  {
   "cell_type": "code",
   "execution_count": 62,
   "metadata": {},
   "outputs": [
    {
     "name": "stdout",
     "output_type": "stream",
     "text": [
      "root\n",
      " |-- nconst: string (nullable = true)\n",
      " |-- primaryName: string (nullable = true)\n",
      " |-- knownForTitles: string (nullable = true)\n",
      "\n"
     ]
    }
   ],
   "source": [
    "df_name_basics.printSchema()"
   ]
  },
  {
   "cell_type": "code",
   "execution_count": 32,
   "metadata": {},
   "outputs": [
    {
     "name": "stdout",
     "output_type": "stream",
     "text": [
      "+---------+--------+--------------------+------+--------+-----------+-------------+---------------+\n",
      "|  titleId|ordering|               title|region|language|      types|   attributes|isOriginalTitle|\n",
      "+---------+--------+--------------------+------+--------+-----------+-------------+---------------+\n",
      "|tt0000001|       1|          Carmencita|    \\N|      \\N|   original|           \\N|              1|\n",
      "|tt0000001|       2|          Carmencita|    DE|      \\N|         \\N|literal title|              0|\n",
      "|tt0000001|       3|          Carmencita|    US|      \\N|imdbDisplay|           \\N|              0|\n",
      "|tt0000001|       4|Carmencita - span...|    HU|      \\N|imdbDisplay|           \\N|              0|\n",
      "|tt0000001|       5|          Καρμενσίτα|    GR|      \\N|imdbDisplay|           \\N|              0|\n",
      "+---------+--------+--------------------+------+--------+-----------+-------------+---------------+\n",
      "only showing top 5 rows\n",
      "\n"
     ]
    }
   ],
   "source": [
    "# table: title_akas\n",
    "\n",
    "df_title_akas.show(5)"
   ]
  },
  {
   "cell_type": "code",
   "execution_count": 33,
   "metadata": {},
   "outputs": [
    {
     "data": {
      "text/plain": [
       "48679363"
      ]
     },
     "execution_count": 33,
     "metadata": {},
     "output_type": "execute_result"
    }
   ],
   "source": [
    "df_title_akas.count()"
   ]
  },
  {
   "cell_type": "markdown",
   "metadata": {},
   "source": [
    "#### Let´s drop off some columns that are unnecessary."
   ]
  },
  {
   "cell_type": "code",
   "execution_count": 63,
   "metadata": {},
   "outputs": [
    {
     "name": "stdout",
     "output_type": "stream",
     "text": [
      "+---------+--------+--------------------+------+\n",
      "|  titleId|ordering|               title|region|\n",
      "+---------+--------+--------------------+------+\n",
      "|tt0000001|       1|          Carmencita|    \\N|\n",
      "|tt0000001|       2|          Carmencita|    DE|\n",
      "|tt0000001|       3|          Carmencita|    US|\n",
      "|tt0000001|       4|Carmencita - span...|    HU|\n",
      "|tt0000001|       5|          Καρμενσίτα|    GR|\n",
      "+---------+--------+--------------------+------+\n",
      "only showing top 5 rows\n",
      "\n"
     ]
    }
   ],
   "source": [
    "df_title_akas = df_title_akas.drop('language','types','attributes','isOriginalTitle')\n",
    "\n",
    "df_title_akas.show(5)"
   ]
  },
  {
   "cell_type": "code",
   "execution_count": 91,
   "metadata": {},
   "outputs": [
    {
     "name": "stdout",
     "output_type": "stream",
     "text": [
      "root\n",
      " |-- titleId: string (nullable = true)\n",
      " |-- ordering: integer (nullable = true)\n",
      " |-- title: string (nullable = true)\n",
      " |-- region: string (nullable = true)\n",
      "\n"
     ]
    }
   ],
   "source": [
    "df_title_akas.printSchema()"
   ]
  },
  {
   "cell_type": "code",
   "execution_count": 36,
   "metadata": {},
   "outputs": [],
   "source": [
    "df_title_akas.createOrReplaceTempView('title_akas')"
   ]
  },
  {
   "cell_type": "code",
   "execution_count": 37,
   "metadata": {},
   "outputs": [],
   "source": [
    "results = spark.sql('''select * from title_akas''')"
   ]
  },
  {
   "cell_type": "code",
   "execution_count": 38,
   "metadata": {},
   "outputs": [
    {
     "name": "stdout",
     "output_type": "stream",
     "text": [
      "+---------+--------+--------------------+------+---------------+\n",
      "|  titleId|ordering|               title|region|isOriginalTitle|\n",
      "+---------+--------+--------------------+------+---------------+\n",
      "|tt0000001|       1|          Carmencita|    \\N|              1|\n",
      "|tt0000001|       2|          Carmencita|    DE|              0|\n",
      "|tt0000001|       3|          Carmencita|    US|              0|\n",
      "|tt0000001|       4|Carmencita - span...|    HU|              0|\n",
      "|tt0000001|       5|          Καρμενσίτα|    GR|              0|\n",
      "|tt0000001|       6|          Карменсита|    RU|              0|\n",
      "|tt0000001|       7|          Карменсіта|    UA|              0|\n",
      "|tt0000001|       8|      カルメンチータ|    JP|              0|\n",
      "|tt0000002|       1|Le clown et ses c...|    \\N|              1|\n",
      "|tt0000002|       2|   A bohóc és kutyái|    HU|              0|\n",
      "|tt0000002|       3|Clovnul si cainii...|    RO|              0|\n",
      "|tt0000002|       4|Der Clown und sei...|    DE|              0|\n",
      "|tt0000002|       5|Le clown et ses c...|    FR|              0|\n",
      "|tt0000002|       6|The Clown and His...|    US|              0|\n",
      "|tt0000002|       7|  Клоун и его собаки|    RU|              0|\n",
      "|tt0000002|       8|          道化師と犬|    JP|              0|\n",
      "|tt0000003|       1|      Pauvre Pierrot|    \\N|              1|\n",
      "|tt0000003|       2|       Armer Pierrot|    DE|              0|\n",
      "|tt0000003|       3|      Pauvre Pierrot|    FR|              0|\n",
      "|tt0000003|       4|        Poor Pierrot|    GB|              0|\n",
      "+---------+--------+--------------------+------+---------------+\n",
      "only showing top 20 rows\n",
      "\n"
     ]
    }
   ],
   "source": [
    "results.show()"
   ]
  },
  {
   "cell_type": "code",
   "execution_count": 39,
   "metadata": {},
   "outputs": [
    {
     "data": {
      "text/plain": [
       "48679363"
      ]
     },
     "execution_count": 39,
     "metadata": {},
     "output_type": "execute_result"
    }
   ],
   "source": [
    "results.count()"
   ]
  },
  {
   "cell_type": "code",
   "execution_count": 43,
   "metadata": {},
   "outputs": [
    {
     "name": "stdout",
     "output_type": "stream",
     "text": [
      "+---------+-------------+--------+\n",
      "|   tconst|averageRating|numVotes|\n",
      "+---------+-------------+--------+\n",
      "|tt0000001|          5.7|    2059|\n",
      "|tt0000002|          5.6|     277|\n",
      "|tt0000003|          6.5|    2023|\n",
      "|tt0000004|          5.3|     180|\n",
      "|tt0000005|          6.2|    2787|\n",
      "+---------+-------------+--------+\n",
      "only showing top 5 rows\n",
      "\n"
     ]
    }
   ],
   "source": [
    "# table: title_ratings\n",
    "\n",
    "df_title_ratings.show(5)"
   ]
  },
  {
   "cell_type": "code",
   "execution_count": 44,
   "metadata": {},
   "outputs": [
    {
     "name": "stdout",
     "output_type": "stream",
     "text": [
      "+---------+-------------+--------+\n",
      "|  titleId|averageRating|numVotes|\n",
      "+---------+-------------+--------+\n",
      "|tt0000001|          5.7|    2059|\n",
      "|tt0000002|          5.6|     277|\n",
      "|tt0000003|          6.5|    2023|\n",
      "|tt0000004|          5.3|     180|\n",
      "|tt0000005|          6.2|    2787|\n",
      "+---------+-------------+--------+\n",
      "only showing top 5 rows\n",
      "\n"
     ]
    }
   ],
   "source": [
    "df_title_ratings = df_title_ratings.withColumnRenamed('tconst','titleId')\n",
    "\n",
    "df_title_ratings.show(5)"
   ]
  },
  {
   "cell_type": "code",
   "execution_count": 92,
   "metadata": {},
   "outputs": [
    {
     "name": "stdout",
     "output_type": "stream",
     "text": [
      "root\n",
      " |-- titleId: string (nullable = true)\n",
      " |-- averageRating: double (nullable = true)\n",
      " |-- numVotes: integer (nullable = true)\n",
      "\n"
     ]
    }
   ],
   "source": [
    "df_title_ratings.printSchema()"
   ]
  },
  {
   "cell_type": "code",
   "execution_count": 45,
   "metadata": {},
   "outputs": [
    {
     "data": {
      "text/plain": [
       "1446041"
      ]
     },
     "execution_count": 45,
     "metadata": {},
     "output_type": "execute_result"
    }
   ],
   "source": [
    "df_title_ratings.count()"
   ]
  },
  {
   "cell_type": "code",
   "execution_count": 46,
   "metadata": {},
   "outputs": [],
   "source": [
    "df_title_ratings.createOrReplaceTempView('ratings')"
   ]
  },
  {
   "cell_type": "code",
   "execution_count": 47,
   "metadata": {},
   "outputs": [
    {
     "name": "stdout",
     "output_type": "stream",
     "text": [
      "+------------------+\n",
      "|  total_avg_rating|\n",
      "+------------------+\n",
      "|6.9615692777728935|\n",
      "+------------------+\n",
      "\n"
     ]
    }
   ],
   "source": [
    "results = spark.sql('select AVG(averageRating) AS total_avg_rating from ratings')\n",
    "\n",
    "results.show(5)"
   ]
  },
  {
   "cell_type": "code",
   "execution_count": 49,
   "metadata": {},
   "outputs": [
    {
     "name": "stdout",
     "output_type": "stream",
     "text": [
      "+---------+--------+---------+---------------+--------------------+----------+\n",
      "|   tconst|ordering|   nconst|       category|                 job|characters|\n",
      "+---------+--------+---------+---------------+--------------------+----------+\n",
      "|tt0000001|       1|nm1588970|           self|                  \\N|  [\"Self\"]|\n",
      "|tt0000001|       2|nm0005690|       director|                  \\N|        \\N|\n",
      "|tt0000001|       3|nm0005690|       producer|            producer|        \\N|\n",
      "|tt0000001|       4|nm0374658|cinematographer|director of photo...|        \\N|\n",
      "|tt0000002|       1|nm0721526|       director|                  \\N|        \\N|\n",
      "+---------+--------+---------+---------------+--------------------+----------+\n",
      "only showing top 5 rows\n",
      "\n"
     ]
    }
   ],
   "source": [
    "# table: title_principals\n",
    "\n",
    "df_title_principals.show(5)"
   ]
  },
  {
   "cell_type": "markdown",
   "metadata": {},
   "source": [
    "#### Let´s rename a column."
   ]
  },
  {
   "cell_type": "code",
   "execution_count": 50,
   "metadata": {},
   "outputs": [
    {
     "name": "stdout",
     "output_type": "stream",
     "text": [
      "+---------+--------+---------+---------------+--------------------+----------+\n",
      "|  titleId|ordering|   nconst|       category|                 job|characters|\n",
      "+---------+--------+---------+---------------+--------------------+----------+\n",
      "|tt0000001|       1|nm1588970|           self|                  \\N|  [\"Self\"]|\n",
      "|tt0000001|       2|nm0005690|       director|                  \\N|        \\N|\n",
      "|tt0000001|       3|nm0005690|       producer|            producer|        \\N|\n",
      "|tt0000001|       4|nm0374658|cinematographer|director of photo...|        \\N|\n",
      "|tt0000002|       1|nm0721526|       director|                  \\N|        \\N|\n",
      "+---------+--------+---------+---------------+--------------------+----------+\n",
      "only showing top 5 rows\n",
      "\n"
     ]
    }
   ],
   "source": [
    "df_title_principals = df_title_principals.withColumnRenamed('tconst','titleId')\n",
    "\n",
    "df_title_principals.show(5)"
   ]
  },
  {
   "cell_type": "code",
   "execution_count": 51,
   "metadata": {},
   "outputs": [
    {
     "name": "stdout",
     "output_type": "stream",
     "text": [
      "+---------+--------+---------+---------------+--------------------+----------+\n",
      "|  titleId|ordering|   nconst|       category|                 job|characters|\n",
      "+---------+--------+---------+---------------+--------------------+----------+\n",
      "|tt0000001|       1|nm1588970|           self|                  \\N|  [\"Self\"]|\n",
      "|tt0000001|       2|nm0005690|       director|                  \\N|        \\N|\n",
      "|tt0000001|       3|nm0005690|       producer|            producer|        \\N|\n",
      "|tt0000001|       4|nm0374658|cinematographer|director of photo...|        \\N|\n",
      "|tt0000002|       1|nm0721526|       director|                  \\N|        \\N|\n",
      "+---------+--------+---------+---------------+--------------------+----------+\n",
      "only showing top 5 rows\n",
      "\n"
     ]
    }
   ],
   "source": [
    "df_title_principals.show(5)"
   ]
  },
  {
   "cell_type": "markdown",
   "metadata": {},
   "source": [
    "#### Let´s drop off some columns that are unnecessary."
   ]
  },
  {
   "cell_type": "code",
   "execution_count": 52,
   "metadata": {},
   "outputs": [],
   "source": [
    "df_title_principals = df_title_principals.drop('characters','job')"
   ]
  },
  {
   "cell_type": "code",
   "execution_count": 53,
   "metadata": {},
   "outputs": [
    {
     "name": "stdout",
     "output_type": "stream",
     "text": [
      "+---------+--------+---------+---------------+\n",
      "|  titleId|ordering|   nconst|       category|\n",
      "+---------+--------+---------+---------------+\n",
      "|tt0000001|       1|nm1588970|           self|\n",
      "|tt0000001|       2|nm0005690|       director|\n",
      "|tt0000001|       3|nm0005690|       producer|\n",
      "|tt0000001|       4|nm0374658|cinematographer|\n",
      "|tt0000002|       1|nm0721526|       director|\n",
      "+---------+--------+---------+---------------+\n",
      "only showing top 5 rows\n",
      "\n"
     ]
    }
   ],
   "source": [
    "df_title_principals.show(5)"
   ]
  },
  {
   "cell_type": "code",
   "execution_count": 93,
   "metadata": {},
   "outputs": [
    {
     "name": "stdout",
     "output_type": "stream",
     "text": [
      "root\n",
      " |-- titleId: string (nullable = true)\n",
      " |-- ordering: integer (nullable = true)\n",
      " |-- nconst: string (nullable = true)\n",
      " |-- category: string (nullable = true)\n",
      "\n"
     ]
    }
   ],
   "source": [
    "df_title_principals.printSchema()"
   ]
  },
  {
   "cell_type": "code",
   "execution_count": 54,
   "metadata": {},
   "outputs": [],
   "source": [
    "df_title_principals.createOrReplaceTempView('principals')"
   ]
  },
  {
   "cell_type": "code",
   "execution_count": 89,
   "metadata": {},
   "outputs": [],
   "source": [
    "join = spark.sql('select averageRating,genre from ratings as r INNER JOIN principals p ON r.titleId = p.titleId')"
   ]
  },
  {
   "cell_type": "code",
   "execution_count": null,
   "metadata": {},
   "outputs": [],
   "source": [
    "join.show(5)"
   ]
  },
  {
   "cell_type": "code",
   "execution_count": 95,
   "metadata": {},
   "outputs": [],
   "source": [
    "join = spark.sql('select title,averageRating from title_akas AS a INNER JOIN ratings r ON a.titleId = r.titleId')"
   ]
  },
  {
   "cell_type": "code",
   "execution_count": 96,
   "metadata": {},
   "outputs": [
    {
     "name": "stdout",
     "output_type": "stream",
     "text": [
      "+--------------------+-------------+\n",
      "|               title|averageRating|\n",
      "+--------------------+-------------+\n",
      "|          Carmencita|          5.7|\n",
      "|          Carmencita|          5.7|\n",
      "|          Carmencita|          5.7|\n",
      "|Carmencita - span...|          5.7|\n",
      "|          Καρμενσίτα|          5.7|\n",
      "+--------------------+-------------+\n",
      "only showing top 5 rows\n",
      "\n"
     ]
    }
   ],
   "source": [
    "join.show(5)"
   ]
  },
  {
   "cell_type": "code",
   "execution_count": 58,
   "metadata": {},
   "outputs": [
    {
     "name": "stdout",
     "output_type": "stream",
     "text": [
      "+---------+---------+--------------------+--------------------+-------+---------+-------+--------------+--------------------+\n",
      "|   tconst|titleType|        primaryTitle|       originalTitle|isAdult|startYear|endYear|runtimeMinutes|              genres|\n",
      "+---------+---------+--------------------+--------------------+-------+---------+-------+--------------+--------------------+\n",
      "|tt0000001|    short|          Carmencita|          Carmencita|      0|     1894|     \\N|             1|   Documentary,Short|\n",
      "|tt0000002|    short|Le clown et ses c...|Le clown et ses c...|      0|     1892|     \\N|             5|     Animation,Short|\n",
      "|tt0000003|    short|      Pauvre Pierrot|      Pauvre Pierrot|      0|     1892|     \\N|             5|Animation,Comedy,...|\n",
      "|tt0000004|    short|         Un bon bock|         Un bon bock|      0|     1892|     \\N|            12|     Animation,Short|\n",
      "|tt0000005|    short|    Blacksmith Scene|    Blacksmith Scene|      0|     1893|     \\N|             1|        Comedy,Short|\n",
      "+---------+---------+--------------------+--------------------+-------+---------+-------+--------------+--------------------+\n",
      "only showing top 5 rows\n",
      "\n"
     ]
    }
   ],
   "source": [
    "# table: title_basics\n",
    "\n",
    "df_title_basics.show(5)"
   ]
  },
  {
   "cell_type": "code",
   "execution_count": 59,
   "metadata": {},
   "outputs": [
    {
     "name": "stdout",
     "output_type": "stream",
     "text": [
      "+---------+---------+--------------------+--------------------+-------+---------+-------+--------------+--------------------+\n",
      "|  titleId|titleType|        primaryTitle|       originalTitle|isAdult|startYear|endYear|runtimeMinutes|              genres|\n",
      "+---------+---------+--------------------+--------------------+-------+---------+-------+--------------+--------------------+\n",
      "|tt0000001|    short|          Carmencita|          Carmencita|      0|     1894|     \\N|             1|   Documentary,Short|\n",
      "|tt0000002|    short|Le clown et ses c...|Le clown et ses c...|      0|     1892|     \\N|             5|     Animation,Short|\n",
      "|tt0000003|    short|      Pauvre Pierrot|      Pauvre Pierrot|      0|     1892|     \\N|             5|Animation,Comedy,...|\n",
      "|tt0000004|    short|         Un bon bock|         Un bon bock|      0|     1892|     \\N|            12|     Animation,Short|\n",
      "|tt0000005|    short|    Blacksmith Scene|    Blacksmith Scene|      0|     1893|     \\N|             1|        Comedy,Short|\n",
      "+---------+---------+--------------------+--------------------+-------+---------+-------+--------------+--------------------+\n",
      "only showing top 5 rows\n",
      "\n"
     ]
    }
   ],
   "source": [
    "df_title_basics = df_title_basics.withColumnRenamed('tconst','titleId')\n",
    "\n",
    "df_title_basics.show(5)"
   ]
  },
  {
   "cell_type": "markdown",
   "metadata": {},
   "source": [
    "#### Let´s drop off a column."
   ]
  },
  {
   "cell_type": "code",
   "execution_count": 95,
   "metadata": {},
   "outputs": [],
   "source": [
    "df_title_basics = df_title_basics.drop('originalTitle','isAdult','startYear','endYear','titleType')"
   ]
  },
  {
   "cell_type": "code",
   "execution_count": 96,
   "metadata": {},
   "outputs": [
    {
     "name": "stdout",
     "output_type": "stream",
     "text": [
      "+---------+--------------------+--------------+--------------------+\n",
      "|  titleId|        primaryTitle|runtimeMinutes|              genres|\n",
      "+---------+--------------------+--------------+--------------------+\n",
      "|tt0000001|          Carmencita|             1|   Documentary,Short|\n",
      "|tt0000002|Le clown et ses c...|             5|     Animation,Short|\n",
      "|tt0000003|      Pauvre Pierrot|             5|Animation,Comedy,...|\n",
      "|tt0000004|         Un bon bock|            12|     Animation,Short|\n",
      "|tt0000005|    Blacksmith Scene|             1|        Comedy,Short|\n",
      "+---------+--------------------+--------------+--------------------+\n",
      "only showing top 5 rows\n",
      "\n"
     ]
    }
   ],
   "source": [
    "df_title_basics.show(5)"
   ]
  },
  {
   "cell_type": "code",
   "execution_count": 97,
   "metadata": {},
   "outputs": [
    {
     "name": "stdout",
     "output_type": "stream",
     "text": [
      "root\n",
      " |-- titleId: string (nullable = true)\n",
      " |-- primaryTitle: string (nullable = true)\n",
      " |-- runtimeMinutes: string (nullable = true)\n",
      " |-- genres: string (nullable = true)\n",
      "\n"
     ]
    }
   ],
   "source": [
    "df_title_basics.printSchema()"
   ]
  },
  {
   "cell_type": "markdown",
   "metadata": {},
   "source": [
    "#### Let´s change the type of the column \"runtimeMinutes\"."
   ]
  },
  {
   "cell_type": "code",
   "execution_count": 98,
   "metadata": {},
   "outputs": [],
   "source": [
    "df_title_basics = df_title_basics.withColumn(\"runtimeMinutes\",df_title_basics[\"runtimeMinutes\"].cast(IntegerType()))\n"
   ]
  },
  {
   "cell_type": "code",
   "execution_count": 99,
   "metadata": {},
   "outputs": [
    {
     "name": "stdout",
     "output_type": "stream",
     "text": [
      "root\n",
      " |-- titleId: string (nullable = true)\n",
      " |-- primaryTitle: string (nullable = true)\n",
      " |-- runtimeMinutes: integer (nullable = true)\n",
      " |-- genres: string (nullable = true)\n",
      "\n"
     ]
    }
   ],
   "source": [
    "df_title_basics.printSchema()"
   ]
  },
  {
   "cell_type": "code",
   "execution_count": 100,
   "metadata": {},
   "outputs": [],
   "source": [
    "df_title_basics.createOrReplaceTempView('title_basics')"
   ]
  },
  {
   "cell_type": "code",
   "execution_count": 101,
   "metadata": {},
   "outputs": [
    {
     "name": "stdout",
     "output_type": "stream",
     "text": [
      "+---------+--------------------+--------------+--------------------+\n",
      "|  titleId|        primaryTitle|runtimeMinutes|              genres|\n",
      "+---------+--------------------+--------------+--------------------+\n",
      "|tt0000001|          Carmencita|             1|   Documentary,Short|\n",
      "|tt0000002|Le clown et ses c...|             5|     Animation,Short|\n",
      "|tt0000003|      Pauvre Pierrot|             5|Animation,Comedy,...|\n",
      "|tt0000004|         Un bon bock|            12|     Animation,Short|\n",
      "|tt0000005|    Blacksmith Scene|             1|        Comedy,Short|\n",
      "|tt0000006|   Chinese Opium Den|             1|               Short|\n",
      "|tt0000007|Corbett and Court...|             1|         Short,Sport|\n",
      "|tt0000008|Edison Kinetoscop...|             1|   Documentary,Short|\n",
      "|tt0000009|          Miss Jerry|            45|             Romance|\n",
      "|tt0000010| Leaving the Factory|             1|   Documentary,Short|\n",
      "|tt0000011|Akrobatisches Pot...|             1|   Documentary,Short|\n",
      "|tt0000012|The Arrival of a ...|             1|   Documentary,Short|\n",
      "|tt0000013|The Photographica...|             1|   Documentary,Short|\n",
      "|tt0000014| The Waterer Watered|             1|        Comedy,Short|\n",
      "|tt0000015| Autour d'une cabine|             2|     Animation,Short|\n",
      "|tt0000016|Boat Leaving the ...|             1|   Documentary,Short|\n",
      "|tt0000017|Italienischer Bau...|             1|   Documentary,Short|\n",
      "|tt0000018|Das boxende Känguruh|             1|               Short|\n",
      "|tt0000019|    The Clown Barber|          NULL|        Comedy,Short|\n",
      "|tt0000020|      The Derby 1895|             1|Documentary,Short...|\n",
      "+---------+--------------------+--------------+--------------------+\n",
      "only showing top 20 rows\n",
      "\n"
     ]
    }
   ],
   "source": [
    "results = spark.sql(\"select * from title_basics\")\n",
    "results.show()"
   ]
  },
  {
   "cell_type": "markdown",
   "metadata": {},
   "source": [
    "### 2.2 Data Cleaning"
   ]
  },
  {
   "cell_type": "markdown",
   "metadata": {},
   "source": [
    "#### Let´s take a look at the tables until now."
   ]
  },
  {
   "cell_type": "code",
   "execution_count": 126,
   "metadata": {},
   "outputs": [
    {
     "name": "stdout",
     "output_type": "stream",
     "text": [
      "+------+--------------------+------------+----------+-------+---------+---------+----------+--------------------+--------------------+\n",
      "|    id|               title|vote_average|   revenue|runtime|   budget|  titleId|popularity|              genres|production_countries|\n",
      "+------+--------------------+------------+----------+-------+---------+---------+----------+--------------------+--------------------+\n",
      "| 27205|           Inception|       8.364| 825532764|    148|160000000|tt1375666|      NULL|Your mind is the ...|Legendary Picture...|\n",
      "|157336|        Interstellar|       8.417| 701729206|    169|165000000|tt0816692|       140|Adventure, Drama,...|United Kingdom, U...|\n",
      "|   155|     The Dark Knight|       8.512|1004558444|    152|185000000|tt0468569|       130|Drama, Action, Cr...|United Kingdom, U...|\n",
      "| 19995|              Avatar|       7.573|      NULL|    162|237000000|tt0499549|        79|Action, Adventure...|United States of ...|\n",
      "| 24428|        The Avengers|        7.71|1518815515|    143|220000000|tt0848228|        98|Science Fiction, ...|United States of ...|\n",
      "|293660|            Deadpool|       7.606| 783100000|    108| 58000000|tt1431045|        72|Action, Adventure...|United States of ...|\n",
      "|299536|Avengers: Infinit...|       8.255|2052415039|    149|300000000|tt4154756|       154|Adventure, Action...|United States of ...|\n",
      "|   550|          Fight Club|       8.438| 100853753|    139| 63000000|tt0137523|      NULL|Mischief. Mayhem....|Regency Enterpris...|\n",
      "|118340|Guardians of the ...|       7.906| 772776600|    121|170000000|tt2015381|        33|Action, Science F...|United States of ...|\n",
      "|   680|        Pulp Fiction|       8.488| 213900000|    154|  8500000|tt0110912|        74|     Thriller, Crime|United States of ...|\n",
      "+------+--------------------+------------+----------+-------+---------+---------+----------+--------------------+--------------------+\n",
      "only showing top 10 rows\n",
      "\n"
     ]
    }
   ],
   "source": [
    "### table: df_movies\n",
    "\n",
    "df_movies.show(10)"
   ]
  },
  {
   "cell_type": "code",
   "execution_count": 106,
   "metadata": {},
   "outputs": [
    {
     "name": "stdout",
     "output_type": "stream",
     "text": [
      "root\n",
      " |-- id: integer (nullable = true)\n",
      " |-- title: string (nullable = true)\n",
      " |-- vote_average: float (nullable = true)\n",
      " |-- vote_count: float (nullable = true)\n",
      " |-- status: string (nullable = true)\n",
      " |-- revenue: integer (nullable = true)\n",
      " |-- runtime: integer (nullable = true)\n",
      " |-- budget: integer (nullable = true)\n",
      " |-- titleId: string (nullable = true)\n",
      " |-- popularity: integer (nullable = true)\n",
      " |-- genres: string (nullable = true)\n",
      " |-- production_countries: string (nullable = true)\n",
      "\n"
     ]
    }
   ],
   "source": [
    "df_movies.printSchema()"
   ]
  },
  {
   "cell_type": "code",
   "execution_count": 127,
   "metadata": {},
   "outputs": [
    {
     "data": {
      "text/plain": [
       "1052039"
      ]
     },
     "execution_count": 127,
     "metadata": {},
     "output_type": "execute_result"
    }
   ],
   "source": [
    "df_movies.count()"
   ]
  },
  {
   "cell_type": "code",
   "execution_count": 128,
   "metadata": {},
   "outputs": [
    {
     "data": {
      "text/plain": [
       "DataFrame[id: int, title: string, vote_average: float, revenue: int, runtime: int, budget: int, titleId: string, popularity: int, genres: string, production_countries: string]"
      ]
     },
     "execution_count": 128,
     "metadata": {},
     "output_type": "execute_result"
    }
   ],
   "source": [
    "# drop duplicated and null values\n",
    "\n",
    "df_movies.dropDuplicates()\n",
    "df_movies.na.drop(how=\"any\").show(truncate=False)"
   ]
  },
  {
   "cell_type": "code",
   "execution_count": 134,
   "metadata": {},
   "outputs": [
    {
     "name": "stdout",
     "output_type": "stream",
     "text": [
      "+---------+--------+--------------------+------+\n",
      "|  titleId|ordering|               title|region|\n",
      "+---------+--------+--------------------+------+\n",
      "|tt0000001|       1|          Carmencita|    \\N|\n",
      "|tt0000001|       2|          Carmencita|    DE|\n",
      "|tt0000001|       3|          Carmencita|    US|\n",
      "|tt0000001|       4|Carmencita - span...|    HU|\n",
      "|tt0000001|       5|          Καρμενσίτα|    GR|\n",
      "|tt0000001|       6|          Карменсита|    RU|\n",
      "|tt0000001|       7|          Карменсіта|    UA|\n",
      "|tt0000001|       8|      カルメンチータ|    JP|\n",
      "|tt0000002|       1|Le clown et ses c...|    \\N|\n",
      "|tt0000002|       2|   A bohóc és kutyái|    HU|\n",
      "+---------+--------+--------------------+------+\n",
      "only showing top 10 rows\n",
      "\n"
     ]
    }
   ],
   "source": [
    "### table: df_title_akas\n",
    "\n",
    "df_title_akas.show(10)"
   ]
  },
  {
   "cell_type": "code",
   "execution_count": 135,
   "metadata": {},
   "outputs": [
    {
     "data": {
      "text/plain": [
       "48679363"
      ]
     },
     "execution_count": 135,
     "metadata": {},
     "output_type": "execute_result"
    }
   ],
   "source": [
    "df_title_akas.count()"
   ]
  },
  {
   "cell_type": "code",
   "execution_count": 136,
   "metadata": {},
   "outputs": [
    {
     "name": "stdout",
     "output_type": "stream",
     "text": [
      "+---------+--------+-------------------------+------+\n",
      "|titleId  |ordering|title                    |region|\n",
      "+---------+--------+-------------------------+------+\n",
      "|tt0000001|1       |Carmencita               |\\N    |\n",
      "|tt0000001|2       |Carmencita               |DE    |\n",
      "|tt0000001|3       |Carmencita               |US    |\n",
      "|tt0000001|4       |Carmencita - spanyol tánc|HU    |\n",
      "|tt0000001|5       |Καρμενσίτα               |GR    |\n",
      "|tt0000001|6       |Карменсита               |RU    |\n",
      "|tt0000001|7       |Карменсіта               |UA    |\n",
      "|tt0000001|8       |カルメンチータ           |JP    |\n",
      "|tt0000002|1       |Le clown et ses chiens   |\\N    |\n",
      "|tt0000002|2       |A bohóc és kutyái        |HU    |\n",
      "|tt0000002|3       |Clovnul si cainii sai    |RO    |\n",
      "|tt0000002|4       |Der Clown und seine Hunde|DE    |\n",
      "|tt0000002|5       |Le clown et ses chiens   |FR    |\n",
      "|tt0000002|6       |The Clown and His Dogs   |US    |\n",
      "|tt0000002|7       |Клоун и его собаки       |RU    |\n",
      "|tt0000002|8       |道化師と犬               |JP    |\n",
      "|tt0000003|1       |Pauvre Pierrot           |\\N    |\n",
      "|tt0000003|2       |Armer Pierrot            |DE    |\n",
      "|tt0000003|3       |Pauvre Pierrot           |FR    |\n",
      "|tt0000003|4       |Poor Pierrot             |GB    |\n",
      "+---------+--------+-------------------------+------+\n",
      "only showing top 20 rows\n",
      "\n"
     ]
    }
   ],
   "source": [
    "# drop duplicated and null values\n",
    "\n",
    "df_title_akas.dropDuplicates()\n",
    "df_title_akas.na.drop(how=\"any\").show(truncate=False)"
   ]
  },
  {
   "cell_type": "code",
   "execution_count": 137,
   "metadata": {},
   "outputs": [
    {
     "data": {
      "text/plain": [
       "48679363"
      ]
     },
     "execution_count": 137,
     "metadata": {},
     "output_type": "execute_result"
    }
   ],
   "source": [
    "df_title_akas.count()"
   ]
  },
  {
   "cell_type": "code",
   "execution_count": 138,
   "metadata": {},
   "outputs": [
    {
     "name": "stdout",
     "output_type": "stream",
     "text": [
      "+---------+-------------+--------+\n",
      "|  titleId|averageRating|numVotes|\n",
      "+---------+-------------+--------+\n",
      "|tt0000001|          5.7|    2059|\n",
      "|tt0000002|          5.6|     277|\n",
      "|tt0000003|          6.5|    2023|\n",
      "|tt0000004|          5.3|     180|\n",
      "|tt0000005|          6.2|    2787|\n",
      "|tt0000006|          5.1|     187|\n",
      "|tt0000007|          5.4|     872|\n",
      "|tt0000008|          5.4|    2202|\n",
      "|tt0000009|          5.4|     212|\n",
      "|tt0000010|          6.8|    7594|\n",
      "+---------+-------------+--------+\n",
      "only showing top 10 rows\n",
      "\n"
     ]
    }
   ],
   "source": [
    "### table: df_title_ratings\n",
    "\n",
    "df_title_ratings.show(10)"
   ]
  },
  {
   "cell_type": "code",
   "execution_count": 139,
   "metadata": {},
   "outputs": [
    {
     "name": "stdout",
     "output_type": "stream",
     "text": [
      "+---------+-------------+--------+\n",
      "|titleId  |averageRating|numVotes|\n",
      "+---------+-------------+--------+\n",
      "|tt0000001|5.7          |2059    |\n",
      "|tt0000002|5.6          |277     |\n",
      "|tt0000003|6.5          |2023    |\n",
      "|tt0000004|5.3          |180     |\n",
      "|tt0000005|6.2          |2787    |\n",
      "|tt0000006|5.1          |187     |\n",
      "|tt0000007|5.4          |872     |\n",
      "|tt0000008|5.4          |2202    |\n",
      "|tt0000009|5.4          |212     |\n",
      "|tt0000010|6.8          |7594    |\n",
      "|tt0000011|5.2          |389     |\n",
      "|tt0000012|7.4          |12928   |\n",
      "|tt0000013|5.7          |1973    |\n",
      "|tt0000014|7.1          |5874    |\n",
      "|tt0000015|6.1          |1184    |\n",
      "|tt0000016|5.9          |1584    |\n",
      "|tt0000017|4.6          |348     |\n",
      "|tt0000018|5.2          |629     |\n",
      "|tt0000019|5.1          |32      |\n",
      "|tt0000020|4.7          |383     |\n",
      "+---------+-------------+--------+\n",
      "only showing top 20 rows\n",
      "\n"
     ]
    }
   ],
   "source": [
    "# drop duplicated and null values\n",
    "\n",
    "df_title_ratings.dropDuplicates()\n",
    "df_title_ratings.na.drop(how=\"any\").show(truncate=False)"
   ]
  },
  {
   "cell_type": "code",
   "execution_count": 140,
   "metadata": {},
   "outputs": [
    {
     "data": {
      "text/plain": [
       "1446041"
      ]
     },
     "execution_count": 140,
     "metadata": {},
     "output_type": "execute_result"
    }
   ],
   "source": [
    "df_title_ratings.count()"
   ]
  },
  {
   "cell_type": "markdown",
   "metadata": {},
   "source": [
    "## 3. Exploratory Data Analysis (EDA)"
   ]
  },
  {
   "cell_type": "code",
   "execution_count": 141,
   "metadata": {},
   "outputs": [],
   "source": [
    "# definition of the \"histogram\" function\n",
    "\n",
    "def histogram(df, col, bins=10, xname=None, yname=None):\n",
    "    \n",
    "    '''\n",
    "    This function makes a histogram from spark dataframe named \n",
    "    df for column name col. \n",
    "    '''\n",
    "    \n",
    "    # Calculating histogram in Spark \n",
    "    vals = df.select(col).rdd.flatMap(lambda x: x).histogram(bins)\n",
    "\n",
    "    # Preprocessing histogram points and locations \n",
    "    width = vals[0][1] - vals[0][0]\n",
    "    loc = [vals[0][0] + (i+1) * width for i in range(len(vals[1]))]\n",
    "    \n",
    "    # Making a bar plot \n",
    "    mpt.bar(loc, vals[1], width=width)\n",
    "    mpt.xlabel(col)\n",
    "    mpt.ylabel(yname)\n",
    "    mpt.show()"
   ]
  },
  {
   "cell_type": "code",
   "execution_count": 143,
   "metadata": {},
   "outputs": [
    {
     "data": {
      "image/png": "[encoded data removed]",
      "text/plain": [
       "<Figure size 432x288 with 1 Axes>"
      ]
     },
     "metadata": {
      "needs_background": "light"
     },
     "output_type": "display_data"
    }
   ],
   "source": [
    "## table: df_movies\n",
    "\n",
    "histogram(df_movies,'vote_average',bins=15, yname='frequency')"
   ]
  },
  {
   "cell_type": "code",
   "execution_count": 163,
   "metadata": {},
   "outputs": [
    {
     "data": {
      "image/png": "[encoded data removed]",
      "text/plain": [
       "<Figure size 432x288 with 1 Axes>"
      ]
     },
     "metadata": {
      "needs_background": "light"
     },
     "output_type": "display_data"
    }
   ],
   "source": [
    "histogram(df_movies,'revenue',bins=50, yname='frequency')"
   ]
  },
  {
   "cell_type": "code",
   "execution_count": 162,
   "metadata": {},
   "outputs": [
    {
     "data": {
      "image/png": "[encoded data removed]",
      "text/plain": [
       "<Figure size 432x288 with 1 Axes>"
      ]
     },
     "metadata": {
      "needs_background": "light"
     },
     "output_type": "display_data"
    }
   ],
   "source": [
    "histogram(df_movies,'budget',bins=50, yname='frequency')"
   ]
  },
  {
   "cell_type": "code",
   "execution_count": 159,
   "metadata": {},
   "outputs": [
    {
     "data": {
      "image/png": "[encoded data removed]",
      "text/plain": [
       "<Figure size 432x288 with 1 Axes>"
      ]
     },
     "metadata": {
      "needs_background": "light"
     },
     "output_type": "display_data"
    }
   ],
   "source": [
    "histogram(df_movies,'popularity',bins=50, yname='frequency')"
   ]
  },
  {
   "cell_type": "code",
   "execution_count": 155,
   "metadata": {},
   "outputs": [
    {
     "data": {
      "image/png": "[encoded data removed]",
      "text/plain": [
       "<Figure size 432x288 with 1 Axes>"
      ]
     },
     "metadata": {
      "needs_background": "light"
     },
     "output_type": "display_data"
    }
   ],
   "source": [
    "histogram(df_movies,'runtime',bins=1000, yname='frequency')"
   ]
  },
  {
   "cell_type": "code",
   "execution_count": 46,
   "metadata": {},
   "outputs": [
    {
     "data": {
      "image/png": "[encoded data removed]",
      "text/plain": [
       "<Figure size 432x288 with 1 Axes>"
      ]
     },
     "metadata": {
      "needs_background": "light"
     },
     "output_type": "display_data"
    },
    {
     "name": "stderr",
     "output_type": "stream",
     "text": [
      "----------------------------------------\n",
      "Exception occurred during processing of request from ('127.0.0.1', 50825)\n",
      "Traceback (most recent call last):\n",
      "  File \"/opt/anaconda3/lib/python3.11/socketserver.py\", line 317, in _handle_request_noblock\n",
      "    self.process_request(request, client_address)\n",
      "  File \"/opt/anaconda3/lib/python3.11/socketserver.py\", line 348, in process_request\n",
      "    self.finish_request(request, client_address)\n",
      "  File \"/opt/anaconda3/lib/python3.11/socketserver.py\", line 361, in finish_request\n",
      "    self.RequestHandlerClass(request, client_address, self)\n",
      "  File \"/opt/anaconda3/lib/python3.11/socketserver.py\", line 755, in __init__\n",
      "    self.handle()\n",
      "  File \"/opt/anaconda3/lib/python3.11/site-packages/pyspark/accumulators.py\", line 295, in handle\n",
      "    poll(accum_updates)\n",
      "  File \"/opt/anaconda3/lib/python3.11/site-packages/pyspark/accumulators.py\", line 267, in poll\n",
      "    if self.rfile in r and func():\n",
      "                           ^^^^^^\n",
      "  File \"/opt/anaconda3/lib/python3.11/site-packages/pyspark/accumulators.py\", line 271, in accum_updates\n",
      "    num_updates = read_int(self.rfile)\n",
      "                  ^^^^^^^^^^^^^^^^^^^^\n",
      "  File \"/opt/anaconda3/lib/python3.11/site-packages/pyspark/serializers.py\", line 596, in read_int\n",
      "    raise EOFError\n",
      "EOFError\n",
      "----------------------------------------\n"
     ]
    }
   ],
   "source": [
    "histogram(df_movies,'popularity',bins=15, yname='frequency')"
   ]
  },
  {
   "cell_type": "code",
   "execution_count": 170,
   "metadata": {},
   "outputs": [
    {
     "data": {
      "image/png": "[encoded data removed]",
      "text/plain": [
       "<Figure size 432x288 with 1 Axes>"
      ]
     },
     "metadata": {
      "needs_background": "light"
     },
     "output_type": "display_data"
    }
   ],
   "source": [
    "## table: df_title_ratings\n",
    "\n",
    "histogram(df_title_ratings,'averageRating',bins=100, yname='frequency')"
   ]
  },
  {
   "cell_type": "markdown",
   "metadata": {},
   "source": [
    "#### Let´s analyze the table \"df_movies\" using SparkSQL."
   ]
  },
  {
   "cell_type": "code",
   "execution_count": 182,
   "metadata": {},
   "outputs": [
    {
     "name": "stdout",
     "output_type": "stream",
     "text": [
      "+----------------------+\n",
      "|count(DISTINCT genres)|\n",
      "+----------------------+\n",
      "|                 45229|\n",
      "+----------------------+\n",
      "\n"
     ]
    }
   ],
   "source": [
    "genresDist = spark.sql(\"SELECT COUNT(DISTINCT(genres)) FROM df_movies\") \n",
    "genresDist.show(10)"
   ]
  },
  {
   "cell_type": "code",
   "execution_count": 184,
   "metadata": {},
   "outputs": [
    {
     "data": {
      "text/plain": [
       "pyspark.sql.dataframe.DataFrame"
      ]
     },
     "execution_count": 184,
     "metadata": {},
     "output_type": "execute_result"
    }
   ],
   "source": [
    "type(genresDist)"
   ]
  },
  {
   "cell_type": "code",
   "execution_count": 185,
   "metadata": {},
   "outputs": [
    {
     "name": "stdout",
     "output_type": "stream",
     "text": [
      "+---------+-------------+--------+\n",
      "|  titleId|averageRating|numVotes|\n",
      "+---------+-------------+--------+\n",
      "|tt0000001|          5.7|    2059|\n",
      "|tt0000002|          5.6|     277|\n",
      "|tt0000003|          6.5|    2023|\n",
      "|tt0000004|          5.3|     180|\n",
      "|tt0000005|          6.2|    2787|\n",
      "+---------+-------------+--------+\n",
      "only showing top 5 rows\n",
      "\n"
     ]
    }
   ],
   "source": [
    "df_title_ratings.show(5)"
   ]
  },
  {
   "cell_type": "code",
   "execution_count": 202,
   "metadata": {},
   "outputs": [
    {
     "data": {
      "text/plain": [
       "1052039"
      ]
     },
     "execution_count": 202,
     "metadata": {},
     "output_type": "execute_result"
    }
   ],
   "source": [
    "df_movies.count()"
   ]
  },
  {
   "cell_type": "code",
   "execution_count": 186,
   "metadata": {},
   "outputs": [
    {
     "name": "stdout",
     "output_type": "stream",
     "text": [
      "+------+------------+------------+---------+-------+---------+---------+----------+--------------------+--------------------+\n",
      "|    id|       title|vote_average|  revenue|runtime|   budget|  titleId|popularity|              genres|production_countries|\n",
      "+------+------------+------------+---------+-------+---------+---------+----------+--------------------+--------------------+\n",
      "| 27205|   Inception|       8.364|825532764|    148|160000000|tt1375666|      NULL|Your mind is the ...|Legendary Picture...|\n",
      "|157336|Interstellar|       8.417|701729206|    169|165000000|tt0816692|       140|Adventure, Drama,...|United Kingdom, U...|\n",
      "+------+------------+------------+---------+-------+---------+---------+----------+--------------------+--------------------+\n",
      "only showing top 2 rows\n",
      "\n"
     ]
    }
   ],
   "source": [
    "df_movies.show(2)"
   ]
  },
  {
   "cell_type": "code",
   "execution_count": 369,
   "metadata": {},
   "outputs": [],
   "source": [
    "query = spark.sql(\"select genres,title from df_movies\")"
   ]
  },
  {
   "cell_type": "code",
   "execution_count": 370,
   "metadata": {},
   "outputs": [
    {
     "name": "stdout",
     "output_type": "stream",
     "text": [
      "+--------------------+--------------------+\n",
      "|              genres|               title|\n",
      "+--------------------+--------------------+\n",
      "|Your mind is the ...|           Inception|\n",
      "|Adventure, Drama,...|        Interstellar|\n",
      "|Drama, Action, Cr...|     The Dark Knight|\n",
      "|Action, Adventure...|              Avatar|\n",
      "|Science Fiction, ...|        The Avengers|\n",
      "|Action, Adventure...|            Deadpool|\n",
      "|Adventure, Action...|Avengers: Infinit...|\n",
      "|Mischief. Mayhem....|          Fight Club|\n",
      "|Action, Science F...|Guardians of the ...|\n",
      "|     Thriller, Crime|        Pulp Fiction|\n",
      "|Comedy, Drama, Ro...|        Forrest Gump|\n",
      "|  Adventure, Fantasy|Harry Potter and ...|\n",
      "|Action, Science F...|            Iron Man|\n",
      "|      Drama, Western|    Django Unchained|\n",
      "|        Drama, Crime|The Shawshank Red...|\n",
      "|Adventure, Scienc...|   Avengers: Endgame|\n",
      "|Action, Science F...|          The Matrix|\n",
      "|      Drama, Romance|             Titanic|\n",
      "|Crime, Thriller, ...|               Joker|\n",
      "|Adventure, Fantas...|The Lord of the R...|\n",
      "+--------------------+--------------------+\n",
      "only showing top 20 rows\n",
      "\n"
     ]
    }
   ],
   "source": [
    "query.show()"
   ]
  },
  {
   "cell_type": "code",
   "execution_count": null,
   "metadata": {},
   "outputs": [],
   "source": []
  },
  {
   "cell_type": "code",
   "execution_count": 197,
   "metadata": {},
   "outputs": [],
   "source": [
    "# genre: Action\n",
    "\n",
    "Action = spark.sql(\"SELECT title, vote_average, genres from df_movies where genres ='Action' \")\n",
    "avg_Action = Action.agg({'vote_average':'avg'})"
   ]
  },
  {
   "cell_type": "code",
   "execution_count": 211,
   "metadata": {},
   "outputs": [],
   "source": [
    "avg_Action = Action.agg({'vote_average':'avg'})"
   ]
  },
  {
   "cell_type": "code",
   "execution_count": 213,
   "metadata": {},
   "outputs": [
    {
     "name": "stdout",
     "output_type": "stream",
     "text": [
      "+-----------------+\n",
      "|avg(vote_average)|\n",
      "+-----------------+\n",
      "|2.394578823837241|\n",
      "+-----------------+\n",
      "\n"
     ]
    }
   ],
   "source": [
    "avg_Action.show()"
   ]
  },
  {
   "cell_type": "code",
   "execution_count": 363,
   "metadata": {},
   "outputs": [],
   "source": [
    "# genre: Comedy\n",
    "\n",
    "Comedy = spark.sql(\"SELECT title, vote_average, genres from df_movies where genres ='Comedy' \")\n",
    "avg_Comedy = Comedy.agg({'vote_average':'avg'})"
   ]
  },
  {
   "cell_type": "code",
   "execution_count": 364,
   "metadata": {},
   "outputs": [
    {
     "name": "stdout",
     "output_type": "stream",
     "text": [
      "+-----------------+\n",
      "|avg(vote_average)|\n",
      "+-----------------+\n",
      "|2.750109684860086|\n",
      "+-----------------+\n",
      "\n"
     ]
    }
   ],
   "source": [
    "avg_Comedy.show()"
   ]
  },
  {
   "cell_type": "code",
   "execution_count": 374,
   "metadata": {},
   "outputs": [
    {
     "name": "stdout",
     "output_type": "stream",
     "text": [
      "+-----------------+\n",
      "|avg(vote_average)|\n",
      "+-----------------+\n",
      "|2.304220381021451|\n",
      "+-----------------+\n",
      "\n"
     ]
    }
   ],
   "source": [
    "# genre: Drama\n",
    "\n",
    "Drama = spark.sql(\"SELECT title, vote_average, genres from df_movies where genres ='Drama' \")\n",
    "avg_Drama = Drama.agg({'vote_average':'avg'})\n",
    "avg_Drama.show()"
   ]
  },
  {
   "cell_type": "code",
   "execution_count": 375,
   "metadata": {},
   "outputs": [
    {
     "name": "stdout",
     "output_type": "stream",
     "text": [
      "+------------------+\n",
      "| avg(vote_average)|\n",
      "+------------------+\n",
      "|1.8782346411516733|\n",
      "+------------------+\n",
      "\n"
     ]
    }
   ],
   "source": [
    "# genre: Documentary\n",
    "\n",
    "Documentary = spark.sql(\"SELECT title, vote_average, genres from df_movies where genres ='Documentary' \")\n",
    "avg_Documentary = Documentary.agg({'vote_average':'avg'})\n",
    "avg_Documentary.show()"
   ]
  },
  {
   "cell_type": "code",
   "execution_count": 377,
   "metadata": {},
   "outputs": [
    {
     "name": "stdout",
     "output_type": "stream",
     "text": [
      "+-----------------+\n",
      "|avg(vote_average)|\n",
      "+-----------------+\n",
      "| 2.53427092973576|\n",
      "+-----------------+\n",
      "\n"
     ]
    }
   ],
   "source": [
    "# genre: War\n",
    "\n",
    "War = spark.sql(\"SELECT title, vote_average, genres from df_movies where genres ='War' \")\n",
    "avg_War = War.agg({'vote_average':'avg'})\n",
    "avg_War.show()"
   ]
  },
  {
   "cell_type": "code",
   "execution_count": 379,
   "metadata": {},
   "outputs": [
    {
     "name": "stdout",
     "output_type": "stream",
     "text": [
      "+------------------+\n",
      "| avg(vote_average)|\n",
      "+------------------+\n",
      "|2.1072058336983366|\n",
      "+------------------+\n",
      "\n"
     ]
    }
   ],
   "source": [
    "# genre: Crime\n",
    "\n",
    "Crime = spark.sql(\"SELECT title, vote_average, genres from df_movies where genres ='Crime' \")\n",
    "avg_Crime = Crime.agg({'vote_average':'avg'})\n",
    "avg_Crime.show()"
   ]
  },
  {
   "cell_type": "code",
   "execution_count": 401,
   "metadata": {},
   "outputs": [
    {
     "name": "stdout",
     "output_type": "stream",
     "text": [
      "+---------------+\n",
      "|count(numVotes)|\n",
      "+---------------+\n",
      "|        1446041|\n",
      "+---------------+\n",
      "\n"
     ]
    }
   ],
   "source": [
    "# genre: Crime\n",
    "\n",
    "result = spark.sql(\"SELECT COUNT(numVotes) from ratings \")\n",
    "result.show()"
   ]
  },
  {
   "cell_type": "code",
   "execution_count": null,
   "metadata": {},
   "outputs": [],
   "source": []
  },
  {
   "cell_type": "code",
   "execution_count": 366,
   "metadata": {},
   "outputs": [
    {
     "name": "stdout",
     "output_type": "stream",
     "text": [
      "+-----------------+\n",
      "|avg(vote_average)|\n",
      "+-----------------+\n",
      "|             NULL|\n",
      "+-----------------+\n",
      "\n"
     ]
    }
   ],
   "source": []
  },
  {
   "cell_type": "code",
   "execution_count": null,
   "metadata": {},
   "outputs": [],
   "source": []
  },
  {
   "cell_type": "code",
   "execution_count": null,
   "metadata": {},
   "outputs": [],
   "source": []
  },
  {
   "cell_type": "markdown",
   "metadata": {},
   "source": [
    "#### Let´s try to switch to a more friendly library for graphics such as pandas or seaborn."
   ]
  },
  {
   "cell_type": "code",
   "execution_count": 282,
   "metadata": {},
   "outputs": [
    {
     "name": "stderr",
     "output_type": "stream",
     "text": [
      "/opt/anaconda3/lib/python3.11/site-packages/pyspark/sql/dataframe.py:5723: FutureWarning:\n",
      "\n",
      "DataFrame.to_pandas_on_spark is deprecated. Use DataFrame.pandas_api instead.\n",
      "\n"
     ]
    }
   ],
   "source": [
    "## table: df_movies\n",
    "\n",
    "df_movies_pd = df_movies.to_pandas_on_spark()"
   ]
  },
  {
   "cell_type": "code",
   "execution_count": 172,
   "metadata": {},
   "outputs": [
    {
     "data": {
      "text/plain": [
       "pyspark.sql.dataframe.DataFrame"
      ]
     },
     "execution_count": 172,
     "metadata": {},
     "output_type": "execute_result"
    }
   ],
   "source": [
    "type(df_movies)"
   ]
  },
  {
   "cell_type": "code",
   "execution_count": 217,
   "metadata": {},
   "outputs": [
    {
     "data": {
      "text/html": [
       "<div>\n",
       "<style scoped>\n",
       "    .dataframe tbody tr th:only-of-type {\n",
       "        vertical-align: middle;\n",
       "    }\n",
       "\n",
       "    .dataframe tbody tr th {\n",
       "        vertical-align: top;\n",
       "    }\n",
       "\n",
       "    .dataframe thead th {\n",
       "        text-align: right;\n",
       "    }\n",
       "</style>\n",
       "<table border=\"1\" class=\"dataframe\">\n",
       "  <thead>\n",
       "    <tr style=\"text-align: right;\">\n",
       "      <th></th>\n",
       "      <th>id</th>\n",
       "      <th>title</th>\n",
       "      <th>vote_average</th>\n",
       "      <th>revenue</th>\n",
       "      <th>runtime</th>\n",
       "      <th>budget</th>\n",
       "      <th>titleId</th>\n",
       "      <th>popularity</th>\n",
       "      <th>genres</th>\n",
       "      <th>production_countries</th>\n",
       "    </tr>\n",
       "  </thead>\n",
       "  <tbody>\n",
       "    <tr>\n",
       "      <th>0</th>\n",
       "      <td>27205</td>\n",
       "      <td>Inception</td>\n",
       "      <td>8.364</td>\n",
       "      <td>825532764</td>\n",
       "      <td>148</td>\n",
       "      <td>160000000</td>\n",
       "      <td>tt1375666</td>\n",
       "      <td>NaN</td>\n",
       "      <td>Your mind is the scene of the crime.</td>\n",
       "      <td>Legendary Pictures, Syncopy, Warner Bros. Pict...</td>\n",
       "    </tr>\n",
       "    <tr>\n",
       "      <th>1</th>\n",
       "      <td>157336</td>\n",
       "      <td>Interstellar</td>\n",
       "      <td>8.417</td>\n",
       "      <td>701729206</td>\n",
       "      <td>169</td>\n",
       "      <td>165000000</td>\n",
       "      <td>tt0816692</td>\n",
       "      <td>140.0</td>\n",
       "      <td>Adventure, Drama, Science Fiction</td>\n",
       "      <td>United Kingdom, United States of America</td>\n",
       "    </tr>\n",
       "  </tbody>\n",
       "</table>\n",
       "</div>"
      ],
      "text/plain": [
       "       id         title  vote_average    revenue  runtime     budget    titleId  popularity                                genres                                production_countries\n",
       "0   27205     Inception         8.364  825532764      148  160000000  tt1375666         NaN  Your mind is the scene of the crime.  Legendary Pictures, Syncopy, Warner Bros. Pictures\n",
       "1  157336  Interstellar         8.417  701729206      169  165000000  tt0816692       140.0     Adventure, Drama, Science Fiction            United Kingdom, United States of America"
      ]
     },
     "execution_count": 217,
     "metadata": {},
     "output_type": "execute_result"
    }
   ],
   "source": [
    "df_movies_pd.head(2)"
   ]
  },
  {
   "cell_type": "code",
   "execution_count": 218,
   "metadata": {},
   "outputs": [
    {
     "name": "stdout",
     "output_type": "stream",
     "text": [
      "<class 'pyspark.pandas.frame.DataFrame'>\n",
      "Int64Index: 1052039 entries, 0 to 1052038\n",
      "Data columns (total 10 columns):\n",
      " #   Column                Non-Null Count    Dtype  \n",
      "---  ------                --------------    -----  \n",
      " 0   id                    1052039 non-null  int32  \n",
      " 1   title                 1052027 non-null  object \n",
      " 2   vote_average          1051919 non-null  float32\n",
      " 3   revenue               1051922 non-null  int32  \n",
      " 4   runtime               1052009 non-null  int32  \n",
      " 5   budget                1051926 non-null  int32  \n",
      " 6   titleId               584324 non-null   object \n",
      " 7   popularity            998268 non-null   int32  \n",
      " 8   genres                656821 non-null   object \n",
      " 9   production_countries  612745 non-null   object \n",
      "dtypes: float32(1), int32(5), object(4)"
     ]
    }
   ],
   "source": [
    "df_movies_pd.info()"
   ]
  },
  {
   "cell_type": "code",
   "execution_count": 345,
   "metadata": {},
   "outputs": [],
   "source": [
    "df_movies_pd = df_movies.toPandas()"
   ]
  },
  {
   "cell_type": "code",
   "execution_count": 346,
   "metadata": {},
   "outputs": [
    {
     "data": {
      "text/plain": [
       "<Axes: >"
      ]
     },
     "execution_count": 346,
     "metadata": {},
     "output_type": "execute_result"
    },
    {
     "data": {
      "image/png": "[encoded data removed]",
      "text/plain": [
       "<Figure size 432x288 with 1 Axes>"
      ]
     },
     "metadata": {
      "needs_background": "light"
     },
     "output_type": "display_data"
    }
   ],
   "source": [
    "df_movies_pd.boxplot(column=['vote_average'])"
   ]
  },
  {
   "cell_type": "code",
   "execution_count": null,
   "metadata": {},
   "outputs": [],
   "source": [
    "df_movies_pd.boxplot(column=['runtime'], by=['genres'])"
   ]
  },
  {
   "cell_type": "code",
   "execution_count": 347,
   "metadata": {},
   "outputs": [
    {
     "data": {
      "text/plain": [
       "<Axes: >"
      ]
     },
     "execution_count": 347,
     "metadata": {},
     "output_type": "execute_result"
    },
    {
     "data": {
      "image/png": "[encoded data removed]",
      "text/plain": [
       "<Figure size 432x288 with 1 Axes>"
      ]
     },
     "metadata": {
      "needs_background": "light"
     },
     "output_type": "display_data"
    }
   ],
   "source": [
    "df_movies_pd.boxplot(column=['revenue'])"
   ]
  },
  {
   "cell_type": "code",
   "execution_count": 348,
   "metadata": {},
   "outputs": [
    {
     "data": {
      "text/plain": [
       "array([[<Axes: title={'center': 'revenue'}>]], dtype=object)"
      ]
     },
     "execution_count": 348,
     "metadata": {},
     "output_type": "execute_result"
    },
    {
     "data": {
      "image/png": "[encoded data removed]",
      "text/plain": [
       "<Figure size 432x288 with 1 Axes>"
      ]
     },
     "metadata": {
      "needs_background": "light"
     },
     "output_type": "display_data"
    }
   ],
   "source": [
    "df_movies_pd.hist(['revenue'])"
   ]
  },
  {
   "cell_type": "code",
   "execution_count": 349,
   "metadata": {},
   "outputs": [
    {
     "data": {
      "text/plain": [
       "<Axes: >"
      ]
     },
     "execution_count": 349,
     "metadata": {},
     "output_type": "execute_result"
    },
    {
     "data": {
      "image/png": "[encoded data removed]",
      "text/plain": [
       "<Figure size 432x288 with 1 Axes>"
      ]
     },
     "metadata": {
      "needs_background": "light"
     },
     "output_type": "display_data"
    }
   ],
   "source": [
    "df_movies_pd.boxplot(column=['popularity'])"
   ]
  },
  {
   "cell_type": "code",
   "execution_count": 350,
   "metadata": {},
   "outputs": [],
   "source": [
    "value = df_movies_pd['popularity']\n"
   ]
  },
  {
   "cell_type": "code",
   "execution_count": 351,
   "metadata": {},
   "outputs": [],
   "source": [
    "Q1 = df_movies_pd['popularity'].quantile(0.25)\n",
    "Q3 = df_movies_pd['popularity'].quantile(0.75)\n",
    "IQR = Q3 - Q1\n",
    "lower_bound = Q1 - 1.5 * IQR\n",
    "upper_bound = Q3 + 1.5 * IQR\n",
    "\n",
    "df_movies_pd_new = df_movies_pd[(df_movies_pd['popularity'] >= lower_bound) & (df_movies_pd['popularity'] <= upper_bound)]"
   ]
  },
  {
   "cell_type": "code",
   "execution_count": 352,
   "metadata": {},
   "outputs": [
    {
     "data": {
      "text/plain": [
       "<Axes: >"
      ]
     },
     "execution_count": 352,
     "metadata": {},
     "output_type": "execute_result"
    },
    {
     "data": {
      "image/png": "[encoded data removed]",
      "text/plain": [
       "<Figure size 432x288 with 1 Axes>"
      ]
     },
     "metadata": {
      "needs_background": "light"
     },
     "output_type": "display_data"
    }
   ],
   "source": [
    "df_movies_pd_new.boxplot(['popularity'])"
   ]
  },
  {
   "cell_type": "code",
   "execution_count": 353,
   "metadata": {},
   "outputs": [
    {
     "data": {
      "text/plain": [
       "array([[<Axes: title={'center': 'popularity'}>]], dtype=object)"
      ]
     },
     "execution_count": 353,
     "metadata": {},
     "output_type": "execute_result"
    },
    {
     "data": {
      "image/png": "[encoded data removed]",
      "text/plain": [
       "<Figure size 432x288 with 1 Axes>"
      ]
     },
     "metadata": {
      "needs_background": "light"
     },
     "output_type": "display_data"
    }
   ],
   "source": [
    "df_movies_pd_new.hist(['popularity'])"
   ]
  },
  {
   "cell_type": "markdown",
   "metadata": {},
   "source": []
  },
  {
   "cell_type": "code",
   "execution_count": null,
   "metadata": {},
   "outputs": [],
   "source": []
  },
  {
   "cell_type": "code",
   "execution_count": null,
   "metadata": {},
   "outputs": [],
   "source": []
  },
  {
   "cell_type": "code",
   "execution_count": 309,
   "metadata": {},
   "outputs": [],
   "source": [
    "Q1 = value.quantile(.25)\n",
    "Q3 = value.quantile(.75)\n",
    "RIQ = Q3 - Q1\n",
    "lower_limit = Q1 - 1.5 * RIQ\n",
    "higher_limit = Q3 + 1.5 * RIQ"
   ]
  },
  {
   "cell_type": "code",
   "execution_count": null,
   "metadata": {},
   "outputs": [],
   "source": [
    "selecction = (value >)"
   ]
  },
  {
   "cell_type": "code",
   "execution_count": null,
   "metadata": {},
   "outputs": [],
   "source": []
  },
  {
   "cell_type": "code",
   "execution_count": 354,
   "metadata": {},
   "outputs": [],
   "source": [
    "def fix_outliers(df:pd.DataFrame, column:str):\n",
    "    value = df[f\"{column}\"]\n",
    "    Q1 = value.quantile(.25)\n",
    "    Q3 = value.quantile(.75)\n",
    "    RIQ = Q3 - Q1\n",
    "    lower_limit = Q1 - 1.5*RIQ\n",
    "    higher_limit = Q3 + 1.5*RIQ\n",
    "    selecction = (value >= lower_limit) & (value <= higher_limit)\n",
    "    df = df[selecction]\n",
    "\n",
    "    return df\n",
    "\n",
    "#value = df_movies_pd['popularity']\n",
    "#Q1 = value.quantile(.25)\n",
    "#Q3 = value.quantile(.75)\n",
    "#RIQ = Q3 - Q1\n",
    "#lower_limit = Q1 - 1.5*RIQ\n",
    "#higher_limit = Q3 + 1.5*RIQ"
   ]
  },
  {
   "cell_type": "code",
   "execution_count": 355,
   "metadata": {},
   "outputs": [
    {
     "data": {
      "text/plain": [
       "<Axes: >"
      ]
     },
     "execution_count": 355,
     "metadata": {},
     "output_type": "execute_result"
    },
    {
     "data": {
      "image/png": "[encoded data removed]",
      "text/plain": [
       "<Figure size 432x288 with 1 Axes>"
      ]
     },
     "metadata": {
      "needs_background": "light"
     },
     "output_type": "display_data"
    }
   ],
   "source": [
    "df_movies_pd.boxplot(column=['popularity'])"
   ]
  },
  {
   "cell_type": "code",
   "execution_count": 356,
   "metadata": {},
   "outputs": [],
   "source": [
    "df_movies_pd_new = fix_outliers(df_movies_pd,'popularity')"
   ]
  },
  {
   "cell_type": "code",
   "execution_count": 357,
   "metadata": {},
   "outputs": [
    {
     "data": {
      "text/plain": [
       "<Axes: >"
      ]
     },
     "execution_count": 357,
     "metadata": {},
     "output_type": "execute_result"
    },
    {
     "data": {
      "image/png": "[encoded data removed]",
      "text/plain": [
       "<Figure size 432x288 with 1 Axes>"
      ]
     },
     "metadata": {
      "needs_background": "light"
     },
     "output_type": "display_data"
    }
   ],
   "source": [
    "df_movies_pd_new.boxplot(column=['popularity'])"
   ]
  },
  {
   "cell_type": "code",
   "execution_count": 358,
   "metadata": {},
   "outputs": [
    {
     "data": {
      "text/plain": [
       "array([[<Axes: title={'center': 'popularity'}>]], dtype=object)"
      ]
     },
     "execution_count": 358,
     "metadata": {},
     "output_type": "execute_result"
    },
    {
     "data": {
      "image/png": "[encoded data removed]",
      "text/plain": [
       "<Figure size 432x288 with 1 Axes>"
      ]
     },
     "metadata": {
      "needs_background": "light"
     },
     "output_type": "display_data"
    }
   ],
   "source": [
    "df_movies_pd_new.hist('popularity')"
   ]
  },
  {
   "cell_type": "code",
   "execution_count": null,
   "metadata": {},
   "outputs": [],
   "source": []
  },
  {
   "cell_type": "code",
   "execution_count": null,
   "metadata": {},
   "outputs": [],
   "source": []
  },
  {
   "cell_type": "code",
   "execution_count": 317,
   "metadata": {},
   "outputs": [
    {
     "data": {
      "text/plain": [
       "<Axes: >"
      ]
     },
     "execution_count": 317,
     "metadata": {},
     "output_type": "execute_result"
    },
    {
     "data": {
      "image/png": "[encoded data removed]",
      "text/plain": [
       "<Figure size 432x288 with 1 Axes>"
      ]
     },
     "metadata": {
      "needs_background": "light"
     },
     "output_type": "display_data"
    }
   ],
   "source": [
    "#sb.boxplot(df_movies_pd['popularity'])"
   ]
  },
  {
   "cell_type": "code",
   "execution_count": 303,
   "metadata": {},
   "outputs": [
    {
     "data": {
      "text/plain": [
       "array([[<Axes: title={'center': 'popularity'}>]], dtype=object)"
      ]
     },
     "execution_count": 303,
     "metadata": {},
     "output_type": "execute_result"
    },
    {
     "data": {
      "image/png": "[encoded data removed]",
      "text/plain": [
       "<Figure size 432x288 with 1 Axes>"
      ]
     },
     "metadata": {
      "needs_background": "light"
     },
     "output_type": "display_data"
    }
   ],
   "source": [
    "df_movies_pd.hist(['popularity'])"
   ]
  },
  {
   "cell_type": "code",
   "execution_count": 304,
   "metadata": {},
   "outputs": [
    {
     "name": "stdout",
     "output_type": "stream",
     "text": [
      "<class 'pandas.core.frame.DataFrame'>\n",
      "RangeIndex: 1052039 entries, 0 to 1052038\n",
      "Data columns (total 10 columns):\n",
      " #   Column                Non-Null Count    Dtype  \n",
      "---  ------                --------------    -----  \n",
      " 0   id                    1052039 non-null  int32  \n",
      " 1   title                 1052027 non-null  object \n",
      " 2   vote_average          1051919 non-null  float32\n",
      " 3   revenue               1051922 non-null  float64\n",
      " 4   runtime               1052009 non-null  float64\n",
      " 5   budget                1051926 non-null  float64\n",
      " 6   titleId               584324 non-null   object \n",
      " 7   popularity            998268 non-null   float64\n",
      " 8   genres                656821 non-null   object \n",
      " 9   production_countries  612745 non-null   object \n",
      "dtypes: float32(1), float64(4), int32(1), object(4)\n",
      "memory usage: 72.2+ MB\n"
     ]
    }
   ],
   "source": [
    "df_movies_pd.info()"
   ]
  },
  {
   "cell_type": "code",
   "execution_count": 359,
   "metadata": {},
   "outputs": [
    {
     "data": {
      "text/plain": [
       "<Axes: >"
      ]
     },
     "execution_count": 359,
     "metadata": {},
     "output_type": "execute_result"
    },
    {
     "data": {
      "image/png": "[encoded data removed]",
      "text/plain": [
       "<Figure size 432x288 with 1 Axes>"
      ]
     },
     "metadata": {
      "needs_background": "light"
     },
     "output_type": "display_data"
    }
   ],
   "source": [
    "df_movies_pd.boxplot(column=['budget'])"
   ]
  },
  {
   "cell_type": "code",
   "execution_count": 360,
   "metadata": {},
   "outputs": [],
   "source": [
    "df_movies_pd_new = fix_outliers(df_movies_pd,'budget')"
   ]
  },
  {
   "cell_type": "code",
   "execution_count": 362,
   "metadata": {},
   "outputs": [
    {
     "data": {
      "text/plain": [
       "<Axes: >"
      ]
     },
     "execution_count": 362,
     "metadata": {},
     "output_type": "execute_result"
    },
    {
     "data": {
      "image/png": "[encoded data removed]",
      "text/plain": [
       "<Figure size 432x288 with 1 Axes>"
      ]
     },
     "metadata": {
      "needs_background": "light"
     },
     "output_type": "display_data"
    }
   ],
   "source": [
    "df_movies_pd_new.boxplot(column=['budget'])"
   ]
  },
  {
   "cell_type": "code",
   "execution_count": 361,
   "metadata": {},
   "outputs": [
    {
     "ename": "KeyError",
     "evalue": "0",
     "output_type": "error",
     "traceback": [
      "\u001b[0;31m---------------------------------------------------------------------------\u001b[0m",
      "\u001b[0;31mKeyError\u001b[0m                                  Traceback (most recent call last)",
      "File \u001b[0;32m/opt/anaconda3/lib/python3.11/site-packages/pandas/core/indexes/base.py:3805\u001b[0m, in \u001b[0;36mIndex.get_loc\u001b[0;34m(self, key)\u001b[0m\n\u001b[1;32m   3804\u001b[0m \u001b[38;5;28;01mtry\u001b[39;00m:\n\u001b[0;32m-> 3805\u001b[0m     \u001b[38;5;28;01mreturn\u001b[39;00m \u001b[38;5;28mself\u001b[39m\u001b[38;5;241m.\u001b[39m_engine\u001b[38;5;241m.\u001b[39mget_loc(casted_key)\n\u001b[1;32m   3806\u001b[0m \u001b[38;5;28;01mexcept\u001b[39;00m \u001b[38;5;167;01mKeyError\u001b[39;00m \u001b[38;5;28;01mas\u001b[39;00m err:\n",
      "File \u001b[0;32mindex.pyx:167\u001b[0m, in \u001b[0;36mpandas._libs.index.IndexEngine.get_loc\u001b[0;34m()\u001b[0m\n",
      "File \u001b[0;32mindex.pyx:196\u001b[0m, in \u001b[0;36mpandas._libs.index.IndexEngine.get_loc\u001b[0;34m()\u001b[0m\n",
      "File \u001b[0;32mpandas/_libs/hashtable_class_helper.pxi:2606\u001b[0m, in \u001b[0;36mpandas._libs.hashtable.Int64HashTable.get_item\u001b[0;34m()\u001b[0m\n",
      "File \u001b[0;32mpandas/_libs/hashtable_class_helper.pxi:2630\u001b[0m, in \u001b[0;36mpandas._libs.hashtable.Int64HashTable.get_item\u001b[0;34m()\u001b[0m\n",
      "\u001b[0;31mKeyError\u001b[0m: 0",
      "\nThe above exception was the direct cause of the following exception:\n",
      "\u001b[0;31mKeyError\u001b[0m                                  Traceback (most recent call last)",
      "Cell \u001b[0;32mIn[361], line 1\u001b[0m\n\u001b[0;32m----> 1\u001b[0m sb\u001b[38;5;241m.\u001b[39mboxplot(df_movies_pd_new[\u001b[38;5;124m'\u001b[39m\u001b[38;5;124mbudget\u001b[39m\u001b[38;5;124m'\u001b[39m])\n",
      "File \u001b[0;32m/opt/anaconda3/lib/python3.11/site-packages/seaborn/categorical.py:2231\u001b[0m, in \u001b[0;36mboxplot\u001b[0;34m(data, x, y, hue, order, hue_order, orient, color, palette, saturation, width, dodge, fliersize, linewidth, whis, ax, **kwargs)\u001b[0m\n\u001b[1;32m   2224\u001b[0m \u001b[38;5;28;01mdef\u001b[39;00m \u001b[38;5;21mboxplot\u001b[39m(\n\u001b[1;32m   2225\u001b[0m     data\u001b[38;5;241m=\u001b[39m\u001b[38;5;28;01mNone\u001b[39;00m, \u001b[38;5;241m*\u001b[39m, x\u001b[38;5;241m=\u001b[39m\u001b[38;5;28;01mNone\u001b[39;00m, y\u001b[38;5;241m=\u001b[39m\u001b[38;5;28;01mNone\u001b[39;00m, hue\u001b[38;5;241m=\u001b[39m\u001b[38;5;28;01mNone\u001b[39;00m, order\u001b[38;5;241m=\u001b[39m\u001b[38;5;28;01mNone\u001b[39;00m, hue_order\u001b[38;5;241m=\u001b[39m\u001b[38;5;28;01mNone\u001b[39;00m,\n\u001b[1;32m   2226\u001b[0m     orient\u001b[38;5;241m=\u001b[39m\u001b[38;5;28;01mNone\u001b[39;00m, color\u001b[38;5;241m=\u001b[39m\u001b[38;5;28;01mNone\u001b[39;00m, palette\u001b[38;5;241m=\u001b[39m\u001b[38;5;28;01mNone\u001b[39;00m, saturation\u001b[38;5;241m=\u001b[39m\u001b[38;5;241m.75\u001b[39m, width\u001b[38;5;241m=\u001b[39m\u001b[38;5;241m.8\u001b[39m,\n\u001b[1;32m   2227\u001b[0m     dodge\u001b[38;5;241m=\u001b[39m\u001b[38;5;28;01mTrue\u001b[39;00m, fliersize\u001b[38;5;241m=\u001b[39m\u001b[38;5;241m5\u001b[39m, linewidth\u001b[38;5;241m=\u001b[39m\u001b[38;5;28;01mNone\u001b[39;00m, whis\u001b[38;5;241m=\u001b[39m\u001b[38;5;241m1.5\u001b[39m, ax\u001b[38;5;241m=\u001b[39m\u001b[38;5;28;01mNone\u001b[39;00m,\n\u001b[1;32m   2228\u001b[0m     \u001b[38;5;241m*\u001b[39m\u001b[38;5;241m*\u001b[39mkwargs\n\u001b[1;32m   2229\u001b[0m ):\n\u001b[0;32m-> 2231\u001b[0m     plotter \u001b[38;5;241m=\u001b[39m _BoxPlotter(x, y, hue, data, order, hue_order,\n\u001b[1;32m   2232\u001b[0m                           orient, color, palette, saturation,\n\u001b[1;32m   2233\u001b[0m                           width, dodge, fliersize, linewidth)\n\u001b[1;32m   2235\u001b[0m     \u001b[38;5;28;01mif\u001b[39;00m ax \u001b[38;5;129;01mis\u001b[39;00m \u001b[38;5;28;01mNone\u001b[39;00m:\n\u001b[1;32m   2236\u001b[0m         ax \u001b[38;5;241m=\u001b[39m plt\u001b[38;5;241m.\u001b[39mgca()\n",
      "File \u001b[0;32m/opt/anaconda3/lib/python3.11/site-packages/seaborn/categorical.py:785\u001b[0m, in \u001b[0;36m_BoxPlotter.__init__\u001b[0;34m(self, x, y, hue, data, order, hue_order, orient, color, palette, saturation, width, dodge, fliersize, linewidth)\u001b[0m\n\u001b[1;32m    781\u001b[0m \u001b[38;5;28;01mdef\u001b[39;00m \u001b[38;5;21m__init__\u001b[39m(\u001b[38;5;28mself\u001b[39m, x, y, hue, data, order, hue_order,\n\u001b[1;32m    782\u001b[0m              orient, color, palette, saturation,\n\u001b[1;32m    783\u001b[0m              width, dodge, fliersize, linewidth):\n\u001b[0;32m--> 785\u001b[0m     \u001b[38;5;28mself\u001b[39m\u001b[38;5;241m.\u001b[39mestablish_variables(x, y, hue, data, orient, order, hue_order)\n\u001b[1;32m    786\u001b[0m     \u001b[38;5;28mself\u001b[39m\u001b[38;5;241m.\u001b[39mestablish_colors(color, palette, saturation)\n\u001b[1;32m    788\u001b[0m     \u001b[38;5;28mself\u001b[39m\u001b[38;5;241m.\u001b[39mdodge \u001b[38;5;241m=\u001b[39m dodge\n",
      "File \u001b[0;32m/opt/anaconda3/lib/python3.11/site-packages/seaborn/categorical.py:486\u001b[0m, in \u001b[0;36m_CategoricalPlotter.establish_variables\u001b[0;34m(self, x, y, hue, data, orient, order, hue_order, units)\u001b[0m\n\u001b[1;32m    484\u001b[0m \u001b[38;5;28;01mif\u001b[39;00m \u001b[38;5;28mhasattr\u001b[39m(data, \u001b[38;5;124m\"\u001b[39m\u001b[38;5;124mshape\u001b[39m\u001b[38;5;124m\"\u001b[39m):\n\u001b[1;32m    485\u001b[0m     \u001b[38;5;28;01mif\u001b[39;00m \u001b[38;5;28mlen\u001b[39m(data\u001b[38;5;241m.\u001b[39mshape) \u001b[38;5;241m==\u001b[39m \u001b[38;5;241m1\u001b[39m:\n\u001b[0;32m--> 486\u001b[0m         \u001b[38;5;28;01mif\u001b[39;00m np\u001b[38;5;241m.\u001b[39misscalar(data[\u001b[38;5;241m0\u001b[39m]):\n\u001b[1;32m    487\u001b[0m             plot_data \u001b[38;5;241m=\u001b[39m [data]\n\u001b[1;32m    488\u001b[0m         \u001b[38;5;28;01melse\u001b[39;00m:\n",
      "File \u001b[0;32m/opt/anaconda3/lib/python3.11/site-packages/pandas/core/series.py:1121\u001b[0m, in \u001b[0;36mSeries.__getitem__\u001b[0;34m(self, key)\u001b[0m\n\u001b[1;32m   1118\u001b[0m     \u001b[38;5;28;01mreturn\u001b[39;00m \u001b[38;5;28mself\u001b[39m\u001b[38;5;241m.\u001b[39m_values[key]\n\u001b[1;32m   1120\u001b[0m \u001b[38;5;28;01melif\u001b[39;00m key_is_scalar:\n\u001b[0;32m-> 1121\u001b[0m     \u001b[38;5;28;01mreturn\u001b[39;00m \u001b[38;5;28mself\u001b[39m\u001b[38;5;241m.\u001b[39m_get_value(key)\n\u001b[1;32m   1123\u001b[0m \u001b[38;5;66;03m# Convert generator to list before going through hashable part\u001b[39;00m\n\u001b[1;32m   1124\u001b[0m \u001b[38;5;66;03m# (We will iterate through the generator there to check for slices)\u001b[39;00m\n\u001b[1;32m   1125\u001b[0m \u001b[38;5;28;01mif\u001b[39;00m is_iterator(key):\n",
      "File \u001b[0;32m/opt/anaconda3/lib/python3.11/site-packages/pandas/core/series.py:1237\u001b[0m, in \u001b[0;36mSeries._get_value\u001b[0;34m(self, label, takeable)\u001b[0m\n\u001b[1;32m   1234\u001b[0m     \u001b[38;5;28;01mreturn\u001b[39;00m \u001b[38;5;28mself\u001b[39m\u001b[38;5;241m.\u001b[39m_values[label]\n\u001b[1;32m   1236\u001b[0m \u001b[38;5;66;03m# Similar to Index.get_value, but we do not fall back to positional\u001b[39;00m\n\u001b[0;32m-> 1237\u001b[0m loc \u001b[38;5;241m=\u001b[39m \u001b[38;5;28mself\u001b[39m\u001b[38;5;241m.\u001b[39mindex\u001b[38;5;241m.\u001b[39mget_loc(label)\n\u001b[1;32m   1239\u001b[0m \u001b[38;5;28;01mif\u001b[39;00m is_integer(loc):\n\u001b[1;32m   1240\u001b[0m     \u001b[38;5;28;01mreturn\u001b[39;00m \u001b[38;5;28mself\u001b[39m\u001b[38;5;241m.\u001b[39m_values[loc]\n",
      "File \u001b[0;32m/opt/anaconda3/lib/python3.11/site-packages/pandas/core/indexes/base.py:3812\u001b[0m, in \u001b[0;36mIndex.get_loc\u001b[0;34m(self, key)\u001b[0m\n\u001b[1;32m   3807\u001b[0m     \u001b[38;5;28;01mif\u001b[39;00m \u001b[38;5;28misinstance\u001b[39m(casted_key, \u001b[38;5;28mslice\u001b[39m) \u001b[38;5;129;01mor\u001b[39;00m (\n\u001b[1;32m   3808\u001b[0m         \u001b[38;5;28misinstance\u001b[39m(casted_key, abc\u001b[38;5;241m.\u001b[39mIterable)\n\u001b[1;32m   3809\u001b[0m         \u001b[38;5;129;01mand\u001b[39;00m \u001b[38;5;28many\u001b[39m(\u001b[38;5;28misinstance\u001b[39m(x, \u001b[38;5;28mslice\u001b[39m) \u001b[38;5;28;01mfor\u001b[39;00m x \u001b[38;5;129;01min\u001b[39;00m casted_key)\n\u001b[1;32m   3810\u001b[0m     ):\n\u001b[1;32m   3811\u001b[0m         \u001b[38;5;28;01mraise\u001b[39;00m InvalidIndexError(key)\n\u001b[0;32m-> 3812\u001b[0m     \u001b[38;5;28;01mraise\u001b[39;00m \u001b[38;5;167;01mKeyError\u001b[39;00m(key) \u001b[38;5;28;01mfrom\u001b[39;00m \u001b[38;5;21;01merr\u001b[39;00m\n\u001b[1;32m   3813\u001b[0m \u001b[38;5;28;01mexcept\u001b[39;00m \u001b[38;5;167;01mTypeError\u001b[39;00m:\n\u001b[1;32m   3814\u001b[0m     \u001b[38;5;66;03m# If we have a listlike key, _check_indexing_error will raise\u001b[39;00m\n\u001b[1;32m   3815\u001b[0m     \u001b[38;5;66;03m#  InvalidIndexError. Otherwise we fall through and re-raise\u001b[39;00m\n\u001b[1;32m   3816\u001b[0m     \u001b[38;5;66;03m#  the TypeError.\u001b[39;00m\n\u001b[1;32m   3817\u001b[0m     \u001b[38;5;28mself\u001b[39m\u001b[38;5;241m.\u001b[39m_check_indexing_error(key)\n",
      "\u001b[0;31mKeyError\u001b[0m: 0"
     ]
    }
   ],
   "source": [
    "sb.boxplot(df_movies_pd_new['budget'])"
   ]
  },
  {
   "cell_type": "code",
   "execution_count": 293,
   "metadata": {},
   "outputs": [],
   "source": [
    "df_movies_pd = fix_outliers(df_movies_pd,'budget')"
   ]
  },
  {
   "cell_type": "code",
   "execution_count": 294,
   "metadata": {},
   "outputs": [
    {
     "data": {
      "text/plain": [
       "<Axes: >"
      ]
     },
     "execution_count": 294,
     "metadata": {},
     "output_type": "execute_result"
    },
    {
     "data": {
      "image/png": "[encoded data removed]",
      "text/plain": [
       "<Figure size 432x288 with 1 Axes>"
      ]
     },
     "metadata": {
      "needs_background": "light"
     },
     "output_type": "display_data"
    }
   ],
   "source": [
    "df_movies_pd.boxplot(column=['budget'])"
   ]
  },
  {
   "cell_type": "code",
   "execution_count": 295,
   "metadata": {},
   "outputs": [
    {
     "data": {
      "text/plain": [
       "array([[<Axes: title={'center': 'budget'}>]], dtype=object)"
      ]
     },
     "execution_count": 295,
     "metadata": {},
     "output_type": "execute_result"
    },
    {
     "data": {
      "image/png": "[encoded data removed]",
      "text/plain": [
       "<Figure size 432x288 with 1 Axes>"
      ]
     },
     "metadata": {
      "needs_background": "light"
     },
     "output_type": "display_data"
    }
   ],
   "source": [
    "df_movies_pd.hist(['budget'])"
   ]
  },
  {
   "cell_type": "code",
   "execution_count": null,
   "metadata": {},
   "outputs": [],
   "source": []
  },
  {
   "cell_type": "code",
   "execution_count": 247,
   "metadata": {},
   "outputs": [],
   "source": [
    "## table: df_title_ratings\n",
    "\n",
    "df_title_ratings_pd = df_title_ratings.toPandas()"
   ]
  },
  {
   "cell_type": "code",
   "execution_count": 248,
   "metadata": {},
   "outputs": [
    {
     "data": {
      "text/plain": [
       "pandas.core.frame.DataFrame"
      ]
     },
     "execution_count": 248,
     "metadata": {},
     "output_type": "execute_result"
    }
   ],
   "source": [
    "type(df_title_ratings_pd)"
   ]
  },
  {
   "cell_type": "code",
   "execution_count": 340,
   "metadata": {},
   "outputs": [
    {
     "data": {
      "text/plain": [
       "<Axes: >"
      ]
     },
     "execution_count": 340,
     "metadata": {},
     "output_type": "execute_result"
    },
    {
     "data": {
      "image/png": "[encoded data removed]",
      "text/plain": [
       "<Figure size 432x288 with 1 Axes>"
      ]
     },
     "metadata": {
      "needs_background": "light"
     },
     "output_type": "display_data"
    }
   ],
   "source": [
    "df_title_ratings_pd.boxplot(column=['averageRating'])\n"
   ]
  },
  {
   "cell_type": "code",
   "execution_count": 325,
   "metadata": {},
   "outputs": [],
   "source": [
    "df_title_ratings_pd_new = fix_outliers(df_title_ratings_pd,'averageRating')"
   ]
  },
  {
   "cell_type": "code",
   "execution_count": 341,
   "metadata": {},
   "outputs": [
    {
     "data": {
      "text/plain": [
       "pandas.core.frame.DataFrame"
      ]
     },
     "execution_count": 341,
     "metadata": {},
     "output_type": "execute_result"
    }
   ],
   "source": [
    "type(df_title_ratings_pd_new)"
   ]
  },
  {
   "cell_type": "code",
   "execution_count": 342,
   "metadata": {},
   "outputs": [
    {
     "data": {
      "text/plain": [
       "<Axes: >"
      ]
     },
     "execution_count": 342,
     "metadata": {},
     "output_type": "execute_result"
    },
    {
     "data": {
      "image/png": "[encoded data removed]",
      "text/plain": [
       "<Figure size 432x288 with 1 Axes>"
      ]
     },
     "metadata": {
      "needs_background": "light"
     },
     "output_type": "display_data"
    }
   ],
   "source": [
    "df_title_ratings_pd_new.boxplot(column = ['averageRating'])"
   ]
  },
  {
   "cell_type": "code",
   "execution_count": 343,
   "metadata": {},
   "outputs": [
    {
     "data": {
      "text/plain": [
       "array([[<Axes: title={'center': 'averageRating'}>]], dtype=object)"
      ]
     },
     "execution_count": 343,
     "metadata": {},
     "output_type": "execute_result"
    },
    {
     "data": {
      "image/png": "[encoded data removed]",
      "text/plain": [
       "<Figure size 432x288 with 1 Axes>"
      ]
     },
     "metadata": {
      "needs_background": "light"
     },
     "output_type": "display_data"
    }
   ],
   "source": [
    "df_title_ratings_pd_new.hist(['averageRating'])"
   ]
  },
  {
   "cell_type": "code",
   "execution_count": 329,
   "metadata": {},
   "outputs": [
    {
     "name": "stdout",
     "output_type": "stream",
     "text": [
      "<class 'pandas.core.frame.DataFrame'>\n",
      "Index: 44631 entries, 492 to 1445937\n",
      "Data columns (total 3 columns):\n",
      " #   Column         Non-Null Count  Dtype  \n",
      "---  ------         --------------  -----  \n",
      " 0   titleId        44631 non-null  object \n",
      " 1   averageRating  44631 non-null  float64\n",
      " 2   numVotes       44631 non-null  int32  \n",
      "dtypes: float64(1), int32(1), object(1)\n",
      "memory usage: 1.2+ MB\n"
     ]
    }
   ],
   "source": [
    "df_title_ratings_pd_new.info()"
   ]
  },
  {
   "cell_type": "code",
   "execution_count": 344,
   "metadata": {},
   "outputs": [
    {
     "data": {
      "text/plain": [
       "<Axes: >"
      ]
     },
     "execution_count": 344,
     "metadata": {},
     "output_type": "execute_result"
    },
    {
     "data": {
      "image/png": "[encoded data removed]",
      "text/plain": [
       "<Figure size 432x288 with 1 Axes>"
      ]
     },
     "metadata": {
      "needs_background": "light"
     },
     "output_type": "display_data"
    }
   ],
   "source": [
    "df_title_ratings_pd.boxplot(column=['numVotes'])"
   ]
  },
  {
   "cell_type": "code",
   "execution_count": 273,
   "metadata": {},
   "outputs": [],
   "source": [
    "df_title_ratings_pd = fix_outliers(df_title_ratings_pd,'numVotes')"
   ]
  },
  {
   "cell_type": "code",
   "execution_count": 274,
   "metadata": {},
   "outputs": [
    {
     "data": {
      "text/plain": [
       "<Axes: >"
      ]
     },
     "execution_count": 274,
     "metadata": {},
     "output_type": "execute_result"
    },
    {
     "data": {
      "image/png": "[encoded data removed]",
      "text/plain": [
       "<Figure size 432x288 with 1 Axes>"
      ]
     },
     "metadata": {
      "needs_background": "light"
     },
     "output_type": "display_data"
    }
   ],
   "source": [
    "df_title_ratings_pd.boxplot(column=['numVotes'])"
   ]
  },
  {
   "cell_type": "code",
   "execution_count": 275,
   "metadata": {},
   "outputs": [
    {
     "data": {
      "text/plain": [
       "array([[<Axes: title={'center': 'numVotes'}>]], dtype=object)"
      ]
     },
     "execution_count": 275,
     "metadata": {},
     "output_type": "execute_result"
    },
    {
     "data": {
      "image/png": "[encoded data removed]",
      "text/plain": [
       "<Figure size 432x288 with 1 Axes>"
      ]
     },
     "metadata": {
      "needs_background": "light"
     },
     "output_type": "display_data"
    }
   ],
   "source": [
    "df_title_ratings_pd.hist(['numVotes'])"
   ]
  },
  {
   "cell_type": "code",
   "execution_count": null,
   "metadata": {},
   "outputs": [],
   "source": []
  },
  {
   "cell_type": "code",
   "execution_count": 270,
   "metadata": {},
   "outputs": [
    {
     "data": {
      "text/plain": [
       "<Axes: >"
      ]
     },
     "execution_count": 270,
     "metadata": {},
     "output_type": "execute_result"
    },
    {
     "data": {
      "image/png": "[encoded data removed]",
      "text/plain": [
       "<Figure size 432x288 with 1 Axes>"
      ]
     },
     "metadata": {
      "needs_background": "light"
     },
     "output_type": "display_data"
    }
   ],
   "source": [
    "df_title_ratings_pd.boxplot(column=['numVotes'])"
   ]
  },
  {
   "cell_type": "code",
   "execution_count": 402,
   "metadata": {},
   "outputs": [],
   "source": [
    "df_title_basics.createOrReplaceTempView('title_basics')"
   ]
  },
  {
   "cell_type": "code",
   "execution_count": 405,
   "metadata": {},
   "outputs": [
    {
     "name": "stdout",
     "output_type": "stream",
     "text": [
      "+---------+--------------------+--------------+-----------------+\n",
      "|  titleId|        primaryTitle|runtimeMinutes|           genres|\n",
      "+---------+--------------------+--------------+-----------------+\n",
      "|tt0000001|          Carmencita|             1|Documentary,Short|\n",
      "|tt0000002|Le clown et ses c...|             5|  Animation,Short|\n",
      "+---------+--------------------+--------------+-----------------+\n",
      "only showing top 2 rows\n",
      "\n"
     ]
    }
   ],
   "source": [
    "df_title_basics.show(2)"
   ]
  },
  {
   "cell_type": "code",
   "execution_count": 406,
   "metadata": {},
   "outputs": [
    {
     "data": {
      "text/plain": [
       "pyspark.sql.dataframe.DataFrame"
      ]
     },
     "execution_count": 406,
     "metadata": {},
     "output_type": "execute_result"
    }
   ],
   "source": [
    "type(df_title_basics)"
   ]
  },
  {
   "cell_type": "code",
   "execution_count": 404,
   "metadata": {},
   "outputs": [
    {
     "name": "stdout",
     "output_type": "stream",
     "text": [
      "+---------+-------------+--------+\n",
      "|  titleId|averageRating|numVotes|\n",
      "+---------+-------------+--------+\n",
      "|tt0000001|          5.7|    2059|\n",
      "|tt0000002|          5.6|     277|\n",
      "+---------+-------------+--------+\n",
      "only showing top 2 rows\n",
      "\n"
     ]
    }
   ],
   "source": [
    "df_title_ratings.show(2)"
   ]
  },
  {
   "cell_type": "code",
   "execution_count": null,
   "metadata": {},
   "outputs": [],
   "source": [
    "union = "
   ]
  },
  {
   "cell_type": "code",
   "execution_count": 263,
   "metadata": {},
   "outputs": [
    {
     "data": {
      "text/html": [
       "<div>\n",
       "<style scoped>\n",
       "    .dataframe tbody tr th:only-of-type {\n",
       "        vertical-align: middle;\n",
       "    }\n",
       "\n",
       "    .dataframe tbody tr th {\n",
       "        vertical-align: top;\n",
       "    }\n",
       "\n",
       "    .dataframe thead th {\n",
       "        text-align: right;\n",
       "    }\n",
       "</style>\n",
       "<table border=\"1\" class=\"dataframe\">\n",
       "  <thead>\n",
       "    <tr style=\"text-align: right;\">\n",
       "      <th></th>\n",
       "      <th>titleId</th>\n",
       "      <th>averageRating</th>\n",
       "      <th>numVotes</th>\n",
       "    </tr>\n",
       "  </thead>\n",
       "  <tbody>\n",
       "    <tr>\n",
       "      <th>83781</th>\n",
       "      <td>tt0111161</td>\n",
       "      <td>9.3</td>\n",
       "      <td>2904305</td>\n",
       "    </tr>\n",
       "    <tr>\n",
       "      <th>904372</th>\n",
       "      <td>tt1375666</td>\n",
       "      <td>8.8</td>\n",
       "      <td>2564018</td>\n",
       "    </tr>\n",
       "    <tr>\n",
       "      <th>975653</th>\n",
       "      <td>tt0468569</td>\n",
       "      <td>9.0</td>\n",
       "      <td>2885458</td>\n",
       "    </tr>\n",
       "  </tbody>\n",
       "</table>\n",
       "</div>"
      ],
      "text/plain": [
       "          titleId  averageRating  numVotes\n",
       "83781   tt0111161            9.3   2904305\n",
       "904372  tt1375666            8.8   2564018\n",
       "975653  tt0468569            9.0   2885458"
      ]
     },
     "execution_count": 263,
     "metadata": {},
     "output_type": "execute_result"
    }
   ],
   "source": [
    "df_title_ratings_pd[df_title_ratings_pd['numVotes'] >= 2500000]"
   ]
  },
  {
   "cell_type": "code",
   "execution_count": null,
   "metadata": {},
   "outputs": [],
   "source": []
  },
  {
   "cell_type": "markdown",
   "metadata": {},
   "source": [
    "## 4. Business Questions"
   ]
  },
  {
   "cell_type": "markdown",
   "metadata": {},
   "source": [
    "## First question: ***What is the evolution of the rating per content?***"
   ]
  },
  {
   "cell_type": "markdown",
   "metadata": {},
   "source": [
    "## Second question: ***What is the average rating per genre?***"
   ]
  },
  {
   "cell_type": "markdown",
   "metadata": {},
   "source": [
    "## Third question: ***What are the genres which provide the highest ROI?***"
   ]
  },
  {
   "cell_type": "markdown",
   "metadata": {},
   "source": [
    "## Fourth question: ***What are the countries with the highest production of content?***"
   ]
  },
  {
   "cell_type": "markdown",
   "metadata": {},
   "source": [
    "## Fifth question: ***What is your recommendation for the client?***"
   ]
  }
 ],
 "metadata": {
  "kernelspec": {
   "display_name": "base",
   "language": "python",
   "name": "python3"
  },
  "language_info": {
   "codemirror_mode": {
    "name": "ipython",
    "version": 3
   },
   "file_extension": ".py",
   "mimetype": "text/x-python",
   "name": "python",
   "nbconvert_exporter": "python",
   "pygments_lexer": "ipython3",
   "version": "3.11.7"
  }
 },
 "nbformat": 4,
 "nbformat_minor": 2
}
